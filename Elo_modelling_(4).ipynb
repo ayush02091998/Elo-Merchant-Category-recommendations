{
  "nbformat": 4,
  "nbformat_minor": 0,
  "metadata": {
    "accelerator": "GPU",
    "colab": {
      "name": "Elo_modelling (4).ipynb",
      "provenance": [],
      "collapsed_sections": [],
      "machine_shape": "hm"
    },
    "kernelspec": {
      "display_name": "Python 3",
      "language": "python",
      "name": "python3"
    },
    "language_info": {
      "codemirror_mode": {
        "name": "ipython",
        "version": 3
      },
      "file_extension": ".py",
      "mimetype": "text/x-python",
      "name": "python",
      "nbconvert_exporter": "python",
      "pygments_lexer": "ipython3",
      "version": "3.6.7"
    }
  },
  "cells": [
    {
      "cell_type": "code",
      "metadata": {
        "colab": {
          "resources": {
            "http://localhost:8080/nbextensions/google.colab/files.js": {
              "data": "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",
              "ok": true,
              "headers": [
                [
                  "content-type",
                  "application/javascript"
                ]
              ],
              "status": 200,
              "status_text": ""
            }
          },
          "base_uri": "https://localhost:8080/",
          "height": 89
        },
        "id": "CK6fjDVg1mpT",
        "outputId": "de3f6b8a-3153-4db4-b672-d4111ba79244"
      },
      "source": [
        "! pip install -q kaggle\n",
        "\n",
        "from google.colab import files\n",
        "\n",
        "files.upload()"
      ],
      "execution_count": 1,
      "outputs": [
        {
          "output_type": "display_data",
          "data": {
            "text/html": [
              "\n",
              "     <input type=\"file\" id=\"files-d009f99f-21b2-4718-85ad-404fa3cf6777\" name=\"files[]\" multiple disabled\n",
              "        style=\"border:none\" />\n",
              "     <output id=\"result-d009f99f-21b2-4718-85ad-404fa3cf6777\">\n",
              "      Upload widget is only available when the cell has been executed in the\n",
              "      current browser session. Please rerun this cell to enable.\n",
              "      </output>\n",
              "      <script src=\"/nbextensions/google.colab/files.js\"></script> "
            ],
            "text/plain": [
              "<IPython.core.display.HTML object>"
            ]
          },
          "metadata": {
            "tags": []
          }
        },
        {
          "output_type": "stream",
          "text": [
            "Saving kaggle.json to kaggle.json\n"
          ],
          "name": "stdout"
        },
        {
          "output_type": "execute_result",
          "data": {
            "text/plain": [
              "{'kaggle.json': b'{\"username\":\"ayushpattiwar\",\"key\":\"0528b921a4e9d9c2da41dd72cdfef52d\"}'}"
            ]
          },
          "metadata": {
            "tags": []
          },
          "execution_count": 1
        }
      ]
    },
    {
      "cell_type": "code",
      "metadata": {
        "id": "HT7lfcAa1ncB"
      },
      "source": [
        "! mkdir ~/.kaggle\n",
        "\n",
        "! cp kaggle.json ~/.kaggle/\n",
        "\n",
        "! chmod 600 ~/.kaggle/kaggle.json"
      ],
      "execution_count": 2,
      "outputs": []
    },
    {
      "cell_type": "code",
      "metadata": {
        "id": "_OnCKLWfB7gN"
      },
      "source": [
        "import pandas as pd \n",
        "import numpy as np\n",
        "import matplotlib.pyplot as plt\n",
        "import seaborn as sns\n",
        "\n",
        "import datetime\n",
        "import warnings\n",
        "warnings.filterwarnings(\"ignore\")\n",
        "import gc\n",
        "\n",
        "from tqdm import tqdm\n",
        "from sklearn.tree import DecisionTreeRegressor"
      ],
      "execution_count": 3,
      "outputs": []
    },
    {
      "cell_type": "code",
      "metadata": {
        "id": "DmQYgOzwK9e_",
        "colab": {
          "base_uri": "https://localhost:8080/"
        },
        "outputId": "14b4a51e-f22d-48a8-fa95-091c3146e155"
      },
      "source": [
        "! pip install optuna\n",
        "import optuna"
      ],
      "execution_count": null,
      "outputs": [
        {
          "output_type": "stream",
          "text": [
            "Collecting optuna\n",
            "\u001b[?25l  Downloading https://files.pythonhosted.org/packages/59/b4/a1a80252cef3d8f5a0acdf6e678d6dc07e2e6964ee46d0453a2ae1af1ecb/optuna-2.4.0-py3-none-any.whl (282kB)\n",
            "\u001b[K     |████████████████████████████████| 286kB 5.6MB/s \n",
            "\u001b[?25hCollecting cliff\n",
            "\u001b[?25l  Downloading https://files.pythonhosted.org/packages/0f/8f/3c74fa4b6c3db1051b495385f5302fc5d5aa0f180d40ce3e9a13c82f8c82/cliff-3.6.0-py3-none-any.whl (79kB)\n",
            "\u001b[K     |████████████████████████████████| 81kB 5.8MB/s \n",
            "\u001b[?25hRequirement already satisfied: tqdm in /usr/local/lib/python3.6/dist-packages (from optuna) (4.41.1)\n",
            "Collecting cmaes>=0.6.0\n",
            "  Downloading https://files.pythonhosted.org/packages/8d/3c/06c76ec8b54b9b1fad7f35e903fd25010fe3e0d41bd94cea5e6f12e0d651/cmaes-0.7.0-py3-none-any.whl\n",
            "Requirement already satisfied: numpy in /usr/local/lib/python3.6/dist-packages (from optuna) (1.19.5)\n",
            "Requirement already satisfied: packaging>=20.0 in /usr/local/lib/python3.6/dist-packages (from optuna) (20.8)\n",
            "Requirement already satisfied: sqlalchemy>=1.1.0 in /usr/local/lib/python3.6/dist-packages (from optuna) (1.3.22)\n",
            "Collecting alembic\n",
            "\u001b[?25l  Downloading https://files.pythonhosted.org/packages/ea/c3/b9147464dba5e5f1279fb46ddda3bef28c8d3594599e07cf0ae67d8c7c01/alembic-1.5.2-py2.py3-none-any.whl (155kB)\n",
            "\u001b[K     |████████████████████████████████| 163kB 28.5MB/s \n",
            "\u001b[?25hRequirement already satisfied: joblib in /usr/local/lib/python3.6/dist-packages (from optuna) (1.0.0)\n",
            "Collecting colorlog\n",
            "  Downloading https://files.pythonhosted.org/packages/5e/39/0230290df0519d528d8d0ffdfd900150ed24e0076d13b1f19e279444aab1/colorlog-4.7.2-py2.py3-none-any.whl\n",
            "Requirement already satisfied: scipy!=1.4.0 in /usr/local/lib/python3.6/dist-packages (from optuna) (1.4.1)\n",
            "Collecting stevedore>=2.0.1\n",
            "\u001b[?25l  Downloading https://files.pythonhosted.org/packages/d4/49/b602307aeac3df3384ff1fcd05da9c0376c622a6c48bb5325f28ab165b57/stevedore-3.3.0-py3-none-any.whl (49kB)\n",
            "\u001b[K     |████████████████████████████████| 51kB 6.5MB/s \n",
            "\u001b[?25hRequirement already satisfied: PyYAML>=3.12 in /usr/local/lib/python3.6/dist-packages (from cliff->optuna) (3.13)\n",
            "Requirement already satisfied: pyparsing>=2.1.0 in /usr/local/lib/python3.6/dist-packages (from cliff->optuna) (2.4.7)\n",
            "Collecting PrettyTable<0.8,>=0.7.2\n",
            "  Downloading https://files.pythonhosted.org/packages/ef/30/4b0746848746ed5941f052479e7c23d2b56d174b82f4fd34a25e389831f5/prettytable-0.7.2.tar.bz2\n",
            "Collecting pbr!=2.1.0,>=2.0.0\n",
            "\u001b[?25l  Downloading https://files.pythonhosted.org/packages/fb/48/69046506f6ac61c1eaa9a0d42d22d54673b69e176d30ca98e3f61513e980/pbr-5.5.1-py2.py3-none-any.whl (106kB)\n",
            "\u001b[K     |████████████████████████████████| 112kB 20.9MB/s \n",
            "\u001b[?25hCollecting cmd2!=0.8.3,>=0.8.0\n",
            "\u001b[?25l  Downloading https://files.pythonhosted.org/packages/27/54/af6e2703f064485d717cb311d3f9440cd302a823ba6d80a020b59eae166d/cmd2-1.4.0-py3-none-any.whl (133kB)\n",
            "\u001b[K     |████████████████████████████████| 133kB 21.9MB/s \n",
            "\u001b[?25hRequirement already satisfied: python-dateutil in /usr/local/lib/python3.6/dist-packages (from alembic->optuna) (2.8.1)\n",
            "Collecting Mako\n",
            "\u001b[?25l  Downloading https://files.pythonhosted.org/packages/5c/db/2d2d88b924aa4674a080aae83b59ea19d593250bfe5ed789947c21736785/Mako-1.1.4.tar.gz (479kB)\n",
            "\u001b[K     |████████████████████████████████| 481kB 27.1MB/s \n",
            "\u001b[?25hCollecting python-editor>=0.3\n",
            "  Downloading https://files.pythonhosted.org/packages/c6/d3/201fc3abe391bbae6606e6f1d598c15d367033332bd54352b12f35513717/python_editor-1.0.4-py3-none-any.whl\n",
            "Requirement already satisfied: importlib-metadata>=1.7.0; python_version < \"3.8\" in /usr/local/lib/python3.6/dist-packages (from stevedore>=2.0.1->cliff->optuna) (3.3.0)\n",
            "Requirement already satisfied: wcwidth>=0.1.7 in /usr/local/lib/python3.6/dist-packages (from cmd2!=0.8.3,>=0.8.0->cliff->optuna) (0.2.5)\n",
            "Collecting pyperclip>=1.6\n",
            "  Downloading https://files.pythonhosted.org/packages/6f/4c/0b1d507ad7e8bc31d690d04b4f475e74c2002d060f7994ce8c09612df707/pyperclip-1.8.1.tar.gz\n",
            "Collecting colorama>=0.3.7\n",
            "  Downloading https://files.pythonhosted.org/packages/44/98/5b86278fbbf250d239ae0ecb724f8572af1c91f4a11edf4d36a206189440/colorama-0.4.4-py2.py3-none-any.whl\n",
            "Requirement already satisfied: attrs>=16.3.0 in /usr/local/lib/python3.6/dist-packages (from cmd2!=0.8.3,>=0.8.0->cliff->optuna) (20.3.0)\n",
            "Requirement already satisfied: six>=1.5 in /usr/local/lib/python3.6/dist-packages (from python-dateutil->alembic->optuna) (1.15.0)\n",
            "Requirement already satisfied: MarkupSafe>=0.9.2 in /usr/local/lib/python3.6/dist-packages (from Mako->alembic->optuna) (1.1.1)\n",
            "Requirement already satisfied: typing-extensions>=3.6.4; python_version < \"3.8\" in /usr/local/lib/python3.6/dist-packages (from importlib-metadata>=1.7.0; python_version < \"3.8\"->stevedore>=2.0.1->cliff->optuna) (3.7.4.3)\n",
            "Requirement already satisfied: zipp>=0.5 in /usr/local/lib/python3.6/dist-packages (from importlib-metadata>=1.7.0; python_version < \"3.8\"->stevedore>=2.0.1->cliff->optuna) (3.4.0)\n",
            "Building wheels for collected packages: PrettyTable, Mako, pyperclip\n",
            "  Building wheel for PrettyTable (setup.py) ... \u001b[?25l\u001b[?25hdone\n",
            "  Created wheel for PrettyTable: filename=prettytable-0.7.2-cp36-none-any.whl size=13702 sha256=a6b1a49fd101b8067420362b30bed2c7553c7c69a116359c039a18f786700fef\n",
            "  Stored in directory: /root/.cache/pip/wheels/80/34/1c/3967380d9676d162cb59513bd9dc862d0584e045a162095606\n",
            "  Building wheel for Mako (setup.py) ... \u001b[?25l\u001b[?25hdone\n",
            "  Created wheel for Mako: filename=Mako-1.1.4-py2.py3-none-any.whl size=75675 sha256=e28d042b068e45b8ddc6e364618efb4344bad8f0b59eef3edb42a624a3e5544a\n",
            "  Stored in directory: /root/.cache/pip/wheels/ad/10/d3/aeb26e20d19045e2a68e5d3cbb57432e11b5d9c92c99f98d47\n",
            "  Building wheel for pyperclip (setup.py) ... \u001b[?25l\u001b[?25hdone\n",
            "  Created wheel for pyperclip: filename=pyperclip-1.8.1-cp36-none-any.whl size=11120 sha256=d365740b24310e41fde1b8e4137c9dc132d4bd929792cfdf31e1440ee678b69f\n",
            "  Stored in directory: /root/.cache/pip/wheels/44/10/3a/c830e9bb3db2c93274ea1f213a41fabde0d8cf3794251fad0c\n",
            "Successfully built PrettyTable Mako pyperclip\n",
            "Installing collected packages: pbr, stevedore, PrettyTable, pyperclip, colorama, cmd2, cliff, cmaes, Mako, python-editor, alembic, colorlog, optuna\n",
            "  Found existing installation: prettytable 2.0.0\n",
            "    Uninstalling prettytable-2.0.0:\n",
            "      Successfully uninstalled prettytable-2.0.0\n",
            "Successfully installed Mako-1.1.4 PrettyTable-0.7.2 alembic-1.5.2 cliff-3.6.0 cmaes-0.7.0 cmd2-1.4.0 colorama-0.4.4 colorlog-4.7.2 optuna-2.4.0 pbr-5.5.1 pyperclip-1.8.1 python-editor-1.0.4 stevedore-3.3.0\n"
          ],
          "name": "stdout"
        }
      ]
    },
    {
      "cell_type": "code",
      "metadata": {
        "id": "Z1O8V-8XO0tL"
      },
      "source": [
        "from sklearn.model_selection import StratifiedKFold\n",
        "from sklearn.model_selection import RepeatedKFold\n",
        "import lightgbm\n",
        "import lightgbm as lgb\n",
        "from sklearn.metrics import mean_squared_error\n",
        "from sklearn.model_selection import train_test_split\n",
        "\n",
        "from sklearn.model_selection import GridSearchCV\n",
        "from sklearn.model_selection import RandomizedSearchCV\n",
        "\n",
        "from sklearn.linear_model import LinearRegression\n",
        "from sklearn.linear_model import SGDRegressor\n",
        "from sklearn.svm import SVR\n",
        "\n",
        "from sklearn.model_selection import KFold\n",
        "from scipy.stats import randint as sp_randint\n",
        "import xgboost as xgb\n",
        "from sklearn.linear_model import BayesianRidge\n",
        "import pickle\n",
        "from tqdm import tqdm"
      ],
      "execution_count": 4,
      "outputs": []
    },
    {
      "cell_type": "code",
      "metadata": {
        "colab": {
          "base_uri": "https://localhost:8080/"
        },
        "id": "Dr0eRtyBBsSt",
        "outputId": "cdb32ae4-5f34-4410-83fa-6987e106d90f"
      },
      "source": [
        "from google.colab import drive\n",
        "drive.mount('/content/drive')"
      ],
      "execution_count": 9,
      "outputs": [
        {
          "output_type": "stream",
          "text": [
            "Mounted at /content/drive\n"
          ],
          "name": "stdout"
        }
      ]
    },
    {
      "cell_type": "code",
      "metadata": {
        "id": "-W1cksCBBtC-"
      },
      "source": [
        "# https://www.kaggle.com/c/champs-scalar-coupling/discussion/96655\n",
        "def reduce_mem_usage(df, verbose=True):\n",
        "\n",
        "  numerics = ['int16', 'int32', 'int64', 'float16', 'float32', 'float64']\n",
        "  start_mem = df.memory_usage().sum() / 1024**2\n",
        "  for col in df.columns:\n",
        "      col_type = df[col].dtypes\n",
        "      if col_type in numerics:\n",
        "          c_min = df[col].min()\n",
        "          c_max = df[col].max()\n",
        "          if str(col_type)[:3] == 'int':\n",
        "              if c_min > np.iinfo(np.int8).min and c_max < np.iinfo(np.int8).max:\n",
        "                  df[col] = df[col].astype(np.int8)\n",
        "              elif c_min > np.iinfo(np.int16).min and c_max < np.iinfo(np.int16).max:\n",
        "                  df[col] = df[col].astype(np.int16)\n",
        "              elif c_min > np.iinfo(np.int32).min and c_max < np.iinfo(np.int32).max:\n",
        "                  df[col] = df[col].astype(np.int32)\n",
        "              elif c_min > np.iinfo(np.int64).min and c_max < np.iinfo(np.int64).max:\n",
        "                  df[col] = df[col].astype(np.int64)  \n",
        "          else:\n",
        "              if c_min > np.finfo(np.float16).min and c_max < np.finfo(np.float16).max:\n",
        "                  df[col] = df[col].astype(np.float16)\n",
        "              elif c_min > np.finfo(np.float32).min and c_max < np.finfo(np.float32).max:\n",
        "                  df[col] = df[col].astype(np.float32)\n",
        "              else:\n",
        "                  df[col] = df[col].astype(np.float64)    \n",
        "  end_mem = df.memory_usage().sum() / 1024**2\n",
        "  if verbose: print('Mem. usage decreased to {:5.2f} Mb ({:.1f}% reduction)'.format(end_mem, 100 * (start_mem - end_mem) / start_mem))\n",
        "  return df"
      ],
      "execution_count": 10,
      "outputs": []
    },
    {
      "cell_type": "code",
      "metadata": {
        "colab": {
          "base_uri": "https://localhost:8080/"
        },
        "id": "o35qY26TB5CX",
        "outputId": "22e40cb3-41ae-411f-957b-1bb2475afa3e"
      },
      "source": [
        "train = reduce_mem_usage(pd.read_csv('/content/drive/MyDrive/Colab Notebooks/CASE_STUDY_1/train3'))\n",
        "test = reduce_mem_usage(pd.read_csv('/content/drive/MyDrive/Colab Notebooks/CASE_STUDY_1/test3'))"
      ],
      "execution_count": 11,
      "outputs": [
        {
          "output_type": "stream",
          "text": [
            "Mem. usage decreased to 89.73 Mb (75.6% reduction)\n",
            "Mem. usage decreased to 54.82 Mb (75.5% reduction)\n"
          ],
          "name": "stdout"
        }
      ]
    },
    {
      "cell_type": "code",
      "metadata": {
        "colab": {
          "base_uri": "https://localhost:8080/",
          "height": 270
        },
        "id": "r3ID2lZ8qoua",
        "outputId": "9093a64e-f67a-4964-8681-c34c3f2fea35"
      },
      "source": [
        "train.head()"
      ],
      "execution_count": 12,
      "outputs": [
        {
          "output_type": "execute_result",
          "data": {
            "text/html": [
              "<div>\n",
              "<style scoped>\n",
              "    .dataframe tbody tr th:only-of-type {\n",
              "        vertical-align: middle;\n",
              "    }\n",
              "\n",
              "    .dataframe tbody tr th {\n",
              "        vertical-align: top;\n",
              "    }\n",
              "\n",
              "    .dataframe thead th {\n",
              "        text-align: right;\n",
              "    }\n",
              "</style>\n",
              "<table border=\"1\" class=\"dataframe\">\n",
              "  <thead>\n",
              "    <tr style=\"text-align: right;\">\n",
              "      <th></th>\n",
              "      <th>Unnamed: 0</th>\n",
              "      <th>card_id</th>\n",
              "      <th>feature_1</th>\n",
              "      <th>feature_2</th>\n",
              "      <th>feature_3</th>\n",
              "      <th>target</th>\n",
              "      <th>outliers</th>\n",
              "      <th>quarter</th>\n",
              "      <th>total_time</th>\n",
              "      <th>start_month</th>\n",
              "      <th>start_year</th>\n",
              "      <th>dayofweek</th>\n",
              "      <th>total_time_feature1</th>\n",
              "      <th>total_time_feature2</th>\n",
              "      <th>total_time_feature3</th>\n",
              "      <th>total_time_feature1_ratio</th>\n",
              "      <th>total_time_feature2_ratio</th>\n",
              "      <th>total_time_feature3_ratio</th>\n",
              "      <th>feature_sum</th>\n",
              "      <th>feature_mean</th>\n",
              "      <th>feature_max</th>\n",
              "      <th>feature_min</th>\n",
              "      <th>feature_var</th>\n",
              "      <th>transactions_purchased_on_weekend_sum</th>\n",
              "      <th>transactions_purchased_on_weekend_mean</th>\n",
              "      <th>transactions_purchased_on_weekday_sum</th>\n",
              "      <th>transactions_purchased_on_weekday_mean</th>\n",
              "      <th>transactions_dayofweek_nunique</th>\n",
              "      <th>transactions_dayofweek_sum</th>\n",
              "      <th>transactions_dayofweek_mean</th>\n",
              "      <th>transactions_dayofweek_max</th>\n",
              "      <th>transactions_hour_of_purchase_nunique</th>\n",
              "      <th>transactions_hour_of_purchase_mean</th>\n",
              "      <th>transactions_hour_of_purchase_min</th>\n",
              "      <th>transactions_hour_of_purchase_max</th>\n",
              "      <th>transactions_Minute_of_purchase_nunique</th>\n",
              "      <th>transactions_Minute_of_purchase_mean</th>\n",
              "      <th>transactions_Minute_of_purchase_min</th>\n",
              "      <th>transactions_Minute_of_purchase_max</th>\n",
              "      <th>transactions_Second_of_purchase_nunique</th>\n",
              "      <th>...</th>\n",
              "      <th>new_transactions_purchase_date_diff</th>\n",
              "      <th>new_transactions_purchase_date_average</th>\n",
              "      <th>new_transactions_purchase_date_uptonow</th>\n",
              "      <th>new_transactions_purchase_date_uptomin</th>\n",
              "      <th>transactions_purchase_date_difference</th>\n",
              "      <th>new_transactions_purchase_date_difference</th>\n",
              "      <th>Avg_purchase</th>\n",
              "      <th>new_Avg_purchase</th>\n",
              "      <th>last_purchase_from_now</th>\n",
              "      <th>new_last_purchase_from_now</th>\n",
              "      <th>first_purchase_from_now</th>\n",
              "      <th>new_first_purchase_from_now</th>\n",
              "      <th>card_id_total</th>\n",
              "      <th>card_id_ratio</th>\n",
              "      <th>total_purchase_amount_max</th>\n",
              "      <th>total_purchase_amount_min</th>\n",
              "      <th>total_purchase_amount_mean</th>\n",
              "      <th>total_purchase_amount_sum</th>\n",
              "      <th>total_purchase_amount_ratio</th>\n",
              "      <th>total_installments_max</th>\n",
              "      <th>total_installments_mean</th>\n",
              "      <th>total_installments_sum</th>\n",
              "      <th>total_installments_ratio</th>\n",
              "      <th>total_month_lag_max</th>\n",
              "      <th>total_month_lag_min</th>\n",
              "      <th>total_month_lag_mean</th>\n",
              "      <th>total_month_lag_sum</th>\n",
              "      <th>total_month_lag_ratio</th>\n",
              "      <th>total_duration_max</th>\n",
              "      <th>total_duration_min</th>\n",
              "      <th>total_duration_mean</th>\n",
              "      <th>total_month_diff_max</th>\n",
              "      <th>total_month_diff_mean</th>\n",
              "      <th>total_month_diff_min</th>\n",
              "      <th>total_amount_month_ratio_max</th>\n",
              "      <th>total_amount_month_ratio_min</th>\n",
              "      <th>total_amount_month_ratio_mean</th>\n",
              "      <th>customer_rating</th>\n",
              "      <th>new_customer_rating</th>\n",
              "      <th>customer_rating_ratio</th>\n",
              "    </tr>\n",
              "  </thead>\n",
              "  <tbody>\n",
              "    <tr>\n",
              "      <th>0</th>\n",
              "      <td>0</td>\n",
              "      <td>C_ID_92a2005557</td>\n",
              "      <td>0.013145</td>\n",
              "      <td>0.008751</td>\n",
              "      <td>0.011429</td>\n",
              "      <td>-0.820312</td>\n",
              "      <td>0</td>\n",
              "      <td>2</td>\n",
              "      <td>1324</td>\n",
              "      <td>6</td>\n",
              "      <td>2017</td>\n",
              "      <td>3</td>\n",
              "      <td>17.406250</td>\n",
              "      <td>11.585938</td>\n",
              "      <td>15.132812</td>\n",
              "      <td>0.000010</td>\n",
              "      <td>0.000007</td>\n",
              "      <td>0.000009</td>\n",
              "      <td>0.033325</td>\n",
              "      <td>0.011108</td>\n",
              "      <td>0.013145</td>\n",
              "      <td>0.008751</td>\n",
              "      <td>0.002214</td>\n",
              "      <td>90.0</td>\n",
              "      <td>0.346191</td>\n",
              "      <td>170.0</td>\n",
              "      <td>0.653809</td>\n",
              "      <td>7</td>\n",
              "      <td>835.0</td>\n",
              "      <td>3.210938</td>\n",
              "      <td>6</td>\n",
              "      <td>23</td>\n",
              "      <td>13.312500</td>\n",
              "      <td>0</td>\n",
              "      <td>23</td>\n",
              "      <td>60</td>\n",
              "      <td>28.171875</td>\n",
              "      <td>0</td>\n",
              "      <td>59</td>\n",
              "      <td>60</td>\n",
              "      <td>...</td>\n",
              "      <td>54.0</td>\n",
              "      <td>2.347656</td>\n",
              "      <td>992.0</td>\n",
              "      <td>1047.0</td>\n",
              "      <td>20977988.0</td>\n",
              "      <td>4742309.0</td>\n",
              "      <td>80684.562500</td>\n",
              "      <td>206187.343750</td>\n",
              "      <td>1055</td>\n",
              "      <td>992.0</td>\n",
              "      <td>1298</td>\n",
              "      <td>1047.0</td>\n",
              "      <td>283.0</td>\n",
              "      <td>0.088440</td>\n",
              "      <td>0.923828</td>\n",
              "      <td>-1.463867</td>\n",
              "      <td>-1.218750</td>\n",
              "      <td>-180.2500</td>\n",
              "      <td>0.079285</td>\n",
              "      <td>1.099609</td>\n",
              "      <td>0.213867</td>\n",
              "      <td>31.890625</td>\n",
              "      <td>0.077698</td>\n",
              "      <td>2.0</td>\n",
              "      <td>-7.0</td>\n",
              "      <td>-2.433594</td>\n",
              "      <td>-983.0</td>\n",
              "      <td>-0.033417</td>\n",
              "      <td>32.312500</td>\n",
              "      <td>-51.78125</td>\n",
              "      <td>-42.68750</td>\n",
              "      <td>71.0</td>\n",
              "      <td>70.0625</td>\n",
              "      <td>70.0</td>\n",
              "      <td>0.026398</td>\n",
              "      <td>-0.041809</td>\n",
              "      <td>-0.034760</td>\n",
              "      <td>-1237.715210</td>\n",
              "      <td>-8.703125</td>\n",
              "      <td>142.233261</td>\n",
              "    </tr>\n",
              "    <tr>\n",
              "      <th>1</th>\n",
              "      <td>1</td>\n",
              "      <td>C_ID_3d0044924f</td>\n",
              "      <td>0.010712</td>\n",
              "      <td>0.011383</td>\n",
              "      <td>0.010284</td>\n",
              "      <td>0.392822</td>\n",
              "      <td>0</td>\n",
              "      <td>1</td>\n",
              "      <td>1475</td>\n",
              "      <td>1</td>\n",
              "      <td>2017</td>\n",
              "      <td>6</td>\n",
              "      <td>15.796875</td>\n",
              "      <td>16.796875</td>\n",
              "      <td>15.164062</td>\n",
              "      <td>0.000007</td>\n",
              "      <td>0.000008</td>\n",
              "      <td>0.000007</td>\n",
              "      <td>0.032379</td>\n",
              "      <td>0.010796</td>\n",
              "      <td>0.011383</td>\n",
              "      <td>0.010284</td>\n",
              "      <td>0.000556</td>\n",
              "      <td>132.0</td>\n",
              "      <td>0.377197</td>\n",
              "      <td>218.0</td>\n",
              "      <td>0.623047</td>\n",
              "      <td>7</td>\n",
              "      <td>1177.0</td>\n",
              "      <td>3.363281</td>\n",
              "      <td>6</td>\n",
              "      <td>24</td>\n",
              "      <td>14.718750</td>\n",
              "      <td>0</td>\n",
              "      <td>23</td>\n",
              "      <td>60</td>\n",
              "      <td>29.140625</td>\n",
              "      <td>0</td>\n",
              "      <td>59</td>\n",
              "      <td>59</td>\n",
              "      <td>...</td>\n",
              "      <td>56.0</td>\n",
              "      <td>9.335938</td>\n",
              "      <td>1022.0</td>\n",
              "      <td>1078.0</td>\n",
              "      <td>33717688.0</td>\n",
              "      <td>4887632.0</td>\n",
              "      <td>96336.250000</td>\n",
              "      <td>814605.312500</td>\n",
              "      <td>1079</td>\n",
              "      <td>1022.0</td>\n",
              "      <td>1469</td>\n",
              "      <td>1078.0</td>\n",
              "      <td>356.0</td>\n",
              "      <td>0.017136</td>\n",
              "      <td>0.518066</td>\n",
              "      <td>-1.481445</td>\n",
              "      <td>-1.337891</td>\n",
              "      <td>-218.5000</td>\n",
              "      <td>0.020340</td>\n",
              "      <td>14.000000</td>\n",
              "      <td>2.632812</td>\n",
              "      <td>577.000000</td>\n",
              "      <td>0.010506</td>\n",
              "      <td>2.0</td>\n",
              "      <td>-11.0</td>\n",
              "      <td>-3.531250</td>\n",
              "      <td>-1752.0</td>\n",
              "      <td>-0.005112</td>\n",
              "      <td>18.640625</td>\n",
              "      <td>-53.90625</td>\n",
              "      <td>-48.21875</td>\n",
              "      <td>73.0</td>\n",
              "      <td>72.1250</td>\n",
              "      <td>71.0</td>\n",
              "      <td>0.014389</td>\n",
              "      <td>-0.041504</td>\n",
              "      <td>-0.037109</td>\n",
              "      <td>-2075.675537</td>\n",
              "      <td>-0.726074</td>\n",
              "      <td>2859.406006</td>\n",
              "    </tr>\n",
              "    <tr>\n",
              "      <th>2</th>\n",
              "      <td>2</td>\n",
              "      <td>C_ID_d639edf6cd</td>\n",
              "      <td>0.010612</td>\n",
              "      <td>0.008751</td>\n",
              "      <td>0.010284</td>\n",
              "      <td>0.687988</td>\n",
              "      <td>0</td>\n",
              "      <td>3</td>\n",
              "      <td>1628</td>\n",
              "      <td>8</td>\n",
              "      <td>2016</td>\n",
              "      <td>0</td>\n",
              "      <td>17.265625</td>\n",
              "      <td>14.250000</td>\n",
              "      <td>16.734375</td>\n",
              "      <td>0.000006</td>\n",
              "      <td>0.000005</td>\n",
              "      <td>0.000006</td>\n",
              "      <td>0.029648</td>\n",
              "      <td>0.009880</td>\n",
              "      <td>0.010612</td>\n",
              "      <td>0.008751</td>\n",
              "      <td>0.000992</td>\n",
              "      <td>11.0</td>\n",
              "      <td>0.255859</td>\n",
              "      <td>32.0</td>\n",
              "      <td>0.744141</td>\n",
              "      <td>7</td>\n",
              "      <td>142.0</td>\n",
              "      <td>3.302734</td>\n",
              "      <td>6</td>\n",
              "      <td>14</td>\n",
              "      <td>17.906250</td>\n",
              "      <td>8</td>\n",
              "      <td>23</td>\n",
              "      <td>33</td>\n",
              "      <td>25.671875</td>\n",
              "      <td>0</td>\n",
              "      <td>59</td>\n",
              "      <td>31</td>\n",
              "      <td>...</td>\n",
              "      <td>0.0</td>\n",
              "      <td>0.000000</td>\n",
              "      <td>992.0</td>\n",
              "      <td>992.0</td>\n",
              "      <td>35635624.0</td>\n",
              "      <td>0.0</td>\n",
              "      <td>828735.437500</td>\n",
              "      <td>0.000000</td>\n",
              "      <td>1052</td>\n",
              "      <td>992.0</td>\n",
              "      <td>1465</td>\n",
              "      <td>992.0</td>\n",
              "      <td>44.0</td>\n",
              "      <td>0.023254</td>\n",
              "      <td>-0.846191</td>\n",
              "      <td>-1.429688</td>\n",
              "      <td>-1.378906</td>\n",
              "      <td>-29.8750</td>\n",
              "      <td>0.024002</td>\n",
              "      <td>0.199951</td>\n",
              "      <td>0.199951</td>\n",
              "      <td>4.402344</td>\n",
              "      <td>0.023239</td>\n",
              "      <td>2.0</td>\n",
              "      <td>-11.0</td>\n",
              "      <td>-6.605469</td>\n",
              "      <td>-368.0</td>\n",
              "      <td>-0.005405</td>\n",
              "      <td>-29.609375</td>\n",
              "      <td>-50.68750</td>\n",
              "      <td>-48.28125</td>\n",
              "      <td>71.0</td>\n",
              "      <td>70.0625</td>\n",
              "      <td>70.0</td>\n",
              "      <td>-0.024170</td>\n",
              "      <td>-0.040863</td>\n",
              "      <td>-0.039337</td>\n",
              "      <td>-35.768433</td>\n",
              "      <td>-0.020004</td>\n",
              "      <td>1787.922729</td>\n",
              "    </tr>\n",
              "    <tr>\n",
              "      <th>3</th>\n",
              "      <td>3</td>\n",
              "      <td>C_ID_186d6a6901</td>\n",
              "      <td>0.010712</td>\n",
              "      <td>0.014168</td>\n",
              "      <td>0.010284</td>\n",
              "      <td>0.142456</td>\n",
              "      <td>0</td>\n",
              "      <td>3</td>\n",
              "      <td>1232</td>\n",
              "      <td>9</td>\n",
              "      <td>2017</td>\n",
              "      <td>4</td>\n",
              "      <td>13.195312</td>\n",
              "      <td>17.453125</td>\n",
              "      <td>12.671875</td>\n",
              "      <td>0.000009</td>\n",
              "      <td>0.000012</td>\n",
              "      <td>0.000008</td>\n",
              "      <td>0.035156</td>\n",
              "      <td>0.011719</td>\n",
              "      <td>0.014168</td>\n",
              "      <td>0.010284</td>\n",
              "      <td>0.002129</td>\n",
              "      <td>11.0</td>\n",
              "      <td>0.142822</td>\n",
              "      <td>66.0</td>\n",
              "      <td>0.856934</td>\n",
              "      <td>7</td>\n",
              "      <td>215.0</td>\n",
              "      <td>2.792969</td>\n",
              "      <td>6</td>\n",
              "      <td>16</td>\n",
              "      <td>14.445312</td>\n",
              "      <td>0</td>\n",
              "      <td>23</td>\n",
              "      <td>46</td>\n",
              "      <td>29.765625</td>\n",
              "      <td>0</td>\n",
              "      <td>59</td>\n",
              "      <td>42</td>\n",
              "      <td>...</td>\n",
              "      <td>41.0</td>\n",
              "      <td>5.855469</td>\n",
              "      <td>1003.0</td>\n",
              "      <td>1045.0</td>\n",
              "      <td>13375339.0</td>\n",
              "      <td>3625505.0</td>\n",
              "      <td>173705.703125</td>\n",
              "      <td>517929.281250</td>\n",
              "      <td>1052</td>\n",
              "      <td>1003.0</td>\n",
              "      <td>1206</td>\n",
              "      <td>1045.0</td>\n",
              "      <td>84.0</td>\n",
              "      <td>0.090881</td>\n",
              "      <td>0.652832</td>\n",
              "      <td>-1.474609</td>\n",
              "      <td>-1.310547</td>\n",
              "      <td>-54.3750</td>\n",
              "      <td>0.093628</td>\n",
              "      <td>26.000000</td>\n",
              "      <td>4.167969</td>\n",
              "      <td>131.000000</td>\n",
              "      <td>0.169678</td>\n",
              "      <td>2.0</td>\n",
              "      <td>-4.0</td>\n",
              "      <td>-1.117188</td>\n",
              "      <td>-206.0</td>\n",
              "      <td>-0.055054</td>\n",
              "      <td>22.843750</td>\n",
              "      <td>-52.25000</td>\n",
              "      <td>-45.87500</td>\n",
              "      <td>71.0</td>\n",
              "      <td>70.0000</td>\n",
              "      <td>69.0</td>\n",
              "      <td>0.018661</td>\n",
              "      <td>-0.042145</td>\n",
              "      <td>-0.037445</td>\n",
              "      <td>-109.340675</td>\n",
              "      <td>-0.931152</td>\n",
              "      <td>117.412811</td>\n",
              "    </tr>\n",
              "    <tr>\n",
              "      <th>4</th>\n",
              "      <td>4</td>\n",
              "      <td>C_ID_cdbd2c0db2</td>\n",
              "      <td>0.008057</td>\n",
              "      <td>0.014168</td>\n",
              "      <td>0.010284</td>\n",
              "      <td>-0.159790</td>\n",
              "      <td>0</td>\n",
              "      <td>4</td>\n",
              "      <td>1171</td>\n",
              "      <td>11</td>\n",
              "      <td>2017</td>\n",
              "      <td>2</td>\n",
              "      <td>9.437500</td>\n",
              "      <td>16.593750</td>\n",
              "      <td>12.039062</td>\n",
              "      <td>0.000007</td>\n",
              "      <td>0.000012</td>\n",
              "      <td>0.000009</td>\n",
              "      <td>0.032501</td>\n",
              "      <td>0.010834</td>\n",
              "      <td>0.014168</td>\n",
              "      <td>0.008057</td>\n",
              "      <td>0.003092</td>\n",
              "      <td>42.0</td>\n",
              "      <td>0.315674</td>\n",
              "      <td>91.0</td>\n",
              "      <td>0.684082</td>\n",
              "      <td>7</td>\n",
              "      <td>431.0</td>\n",
              "      <td>3.240234</td>\n",
              "      <td>6</td>\n",
              "      <td>22</td>\n",
              "      <td>13.046875</td>\n",
              "      <td>0</td>\n",
              "      <td>23</td>\n",
              "      <td>52</td>\n",
              "      <td>29.234375</td>\n",
              "      <td>0</td>\n",
              "      <td>58</td>\n",
              "      <td>53</td>\n",
              "      <td>...</td>\n",
              "      <td>57.0</td>\n",
              "      <td>1.583008</td>\n",
              "      <td>992.0</td>\n",
              "      <td>1050.0</td>\n",
              "      <td>9405641.0</td>\n",
              "      <td>4949682.0</td>\n",
              "      <td>70719.101562</td>\n",
              "      <td>137491.171875</td>\n",
              "      <td>1051</td>\n",
              "      <td>992.0</td>\n",
              "      <td>1160</td>\n",
              "      <td>1050.0</td>\n",
              "      <td>169.0</td>\n",
              "      <td>0.270752</td>\n",
              "      <td>1.670898</td>\n",
              "      <td>-1.485352</td>\n",
              "      <td>-1.103516</td>\n",
              "      <td>-93.0625</td>\n",
              "      <td>0.272461</td>\n",
              "      <td>25.000000</td>\n",
              "      <td>2.730469</td>\n",
              "      <td>231.000000</td>\n",
              "      <td>0.269287</td>\n",
              "      <td>2.0</td>\n",
              "      <td>-2.0</td>\n",
              "      <td>0.269775</td>\n",
              "      <td>-115.0</td>\n",
              "      <td>-0.327393</td>\n",
              "      <td>58.468750</td>\n",
              "      <td>-52.75000</td>\n",
              "      <td>-38.68750</td>\n",
              "      <td>72.0</td>\n",
              "      <td>70.1250</td>\n",
              "      <td>70.0</td>\n",
              "      <td>0.047729</td>\n",
              "      <td>-0.042328</td>\n",
              "      <td>-0.031494</td>\n",
              "      <td>-277.517303</td>\n",
              "      <td>-20.453125</td>\n",
              "      <td>13.564825</td>\n",
              "    </tr>\n",
              "  </tbody>\n",
              "</table>\n",
              "<p>5 rows × 239 columns</p>\n",
              "</div>"
            ],
            "text/plain": [
              "   Unnamed: 0          card_id  ...  new_customer_rating  customer_rating_ratio\n",
              "0           0  C_ID_92a2005557  ...            -8.703125             142.233261\n",
              "1           1  C_ID_3d0044924f  ...            -0.726074            2859.406006\n",
              "2           2  C_ID_d639edf6cd  ...            -0.020004            1787.922729\n",
              "3           3  C_ID_186d6a6901  ...            -0.931152             117.412811\n",
              "4           4  C_ID_cdbd2c0db2  ...           -20.453125              13.564825\n",
              "\n",
              "[5 rows x 239 columns]"
            ]
          },
          "metadata": {
            "tags": []
          },
          "execution_count": 12
        }
      ]
    },
    {
      "cell_type": "code",
      "metadata": {
        "colab": {
          "base_uri": "https://localhost:8080/",
          "height": 270
        },
        "id": "2Vb0bH6qMUPl",
        "outputId": "3d7dc028-b0f9-4dce-d27b-7eed97fb0228"
      },
      "source": [
        "test.head()"
      ],
      "execution_count": 13,
      "outputs": [
        {
          "output_type": "execute_result",
          "data": {
            "text/html": [
              "<div>\n",
              "<style scoped>\n",
              "    .dataframe tbody tr th:only-of-type {\n",
              "        vertical-align: middle;\n",
              "    }\n",
              "\n",
              "    .dataframe tbody tr th {\n",
              "        vertical-align: top;\n",
              "    }\n",
              "\n",
              "    .dataframe thead th {\n",
              "        text-align: right;\n",
              "    }\n",
              "</style>\n",
              "<table border=\"1\" class=\"dataframe\">\n",
              "  <thead>\n",
              "    <tr style=\"text-align: right;\">\n",
              "      <th></th>\n",
              "      <th>Unnamed: 0</th>\n",
              "      <th>card_id</th>\n",
              "      <th>feature_1</th>\n",
              "      <th>feature_2</th>\n",
              "      <th>feature_3</th>\n",
              "      <th>quarter</th>\n",
              "      <th>total_time</th>\n",
              "      <th>start_month</th>\n",
              "      <th>start_year</th>\n",
              "      <th>dayofweek</th>\n",
              "      <th>total_time_feature1</th>\n",
              "      <th>total_time_feature2</th>\n",
              "      <th>total_time_feature3</th>\n",
              "      <th>total_time_feature1_ratio</th>\n",
              "      <th>total_time_feature2_ratio</th>\n",
              "      <th>total_time_feature3_ratio</th>\n",
              "      <th>feature_sum</th>\n",
              "      <th>feature_mean</th>\n",
              "      <th>feature_max</th>\n",
              "      <th>feature_min</th>\n",
              "      <th>feature_var</th>\n",
              "      <th>transactions_purchased_on_weekend_sum</th>\n",
              "      <th>transactions_purchased_on_weekend_mean</th>\n",
              "      <th>transactions_purchased_on_weekday_sum</th>\n",
              "      <th>transactions_purchased_on_weekday_mean</th>\n",
              "      <th>transactions_dayofweek_nunique</th>\n",
              "      <th>transactions_dayofweek_sum</th>\n",
              "      <th>transactions_dayofweek_mean</th>\n",
              "      <th>transactions_dayofweek_max</th>\n",
              "      <th>transactions_hour_of_purchase_nunique</th>\n",
              "      <th>transactions_hour_of_purchase_mean</th>\n",
              "      <th>transactions_hour_of_purchase_min</th>\n",
              "      <th>transactions_hour_of_purchase_max</th>\n",
              "      <th>transactions_Minute_of_purchase_nunique</th>\n",
              "      <th>transactions_Minute_of_purchase_mean</th>\n",
              "      <th>transactions_Minute_of_purchase_min</th>\n",
              "      <th>transactions_Minute_of_purchase_max</th>\n",
              "      <th>transactions_Second_of_purchase_nunique</th>\n",
              "      <th>transactions_Second_of_purchase_mean</th>\n",
              "      <th>transactions_Second_of_purchase_min</th>\n",
              "      <th>...</th>\n",
              "      <th>new_transactions_purchase_date_diff</th>\n",
              "      <th>new_transactions_purchase_date_average</th>\n",
              "      <th>new_transactions_purchase_date_uptonow</th>\n",
              "      <th>new_transactions_purchase_date_uptomin</th>\n",
              "      <th>transactions_purchase_date_difference</th>\n",
              "      <th>new_transactions_purchase_date_difference</th>\n",
              "      <th>Avg_purchase</th>\n",
              "      <th>new_Avg_purchase</th>\n",
              "      <th>last_purchase_from_now</th>\n",
              "      <th>new_last_purchase_from_now</th>\n",
              "      <th>first_purchase_from_now</th>\n",
              "      <th>new_first_purchase_from_now</th>\n",
              "      <th>card_id_total</th>\n",
              "      <th>card_id_ratio</th>\n",
              "      <th>total_purchase_amount_max</th>\n",
              "      <th>total_purchase_amount_min</th>\n",
              "      <th>total_purchase_amount_mean</th>\n",
              "      <th>total_purchase_amount_sum</th>\n",
              "      <th>total_purchase_amount_ratio</th>\n",
              "      <th>total_installments_max</th>\n",
              "      <th>total_installments_mean</th>\n",
              "      <th>total_installments_sum</th>\n",
              "      <th>total_installments_ratio</th>\n",
              "      <th>total_month_lag_max</th>\n",
              "      <th>total_month_lag_min</th>\n",
              "      <th>total_month_lag_mean</th>\n",
              "      <th>total_month_lag_sum</th>\n",
              "      <th>total_month_lag_ratio</th>\n",
              "      <th>total_duration_max</th>\n",
              "      <th>total_duration_min</th>\n",
              "      <th>total_duration_mean</th>\n",
              "      <th>total_month_diff_max</th>\n",
              "      <th>total_month_diff_mean</th>\n",
              "      <th>total_month_diff_min</th>\n",
              "      <th>total_amount_month_ratio_max</th>\n",
              "      <th>total_amount_month_ratio_min</th>\n",
              "      <th>total_amount_month_ratio_mean</th>\n",
              "      <th>customer_rating</th>\n",
              "      <th>new_customer_rating</th>\n",
              "      <th>customer_rating_ratio</th>\n",
              "    </tr>\n",
              "  </thead>\n",
              "  <tbody>\n",
              "    <tr>\n",
              "      <th>0</th>\n",
              "      <td>0</td>\n",
              "      <td>C_ID_0ab67a22ab</td>\n",
              "      <td>0.010483</td>\n",
              "      <td>0.014168</td>\n",
              "      <td>0.011429</td>\n",
              "      <td>2</td>\n",
              "      <td>1385</td>\n",
              "      <td>4</td>\n",
              "      <td>2017</td>\n",
              "      <td>5</td>\n",
              "      <td>14.515625</td>\n",
              "      <td>19.625000</td>\n",
              "      <td>15.828125</td>\n",
              "      <td>0.000008</td>\n",
              "      <td>0.000010</td>\n",
              "      <td>0.000008</td>\n",
              "      <td>0.036072</td>\n",
              "      <td>0.012024</td>\n",
              "      <td>0.014168</td>\n",
              "      <td>0.010483</td>\n",
              "      <td>0.001915</td>\n",
              "      <td>12.0</td>\n",
              "      <td>0.176514</td>\n",
              "      <td>56.0</td>\n",
              "      <td>0.823730</td>\n",
              "      <td>7</td>\n",
              "      <td>190.0</td>\n",
              "      <td>2.794922</td>\n",
              "      <td>6</td>\n",
              "      <td>17</td>\n",
              "      <td>14.367188</td>\n",
              "      <td>0</td>\n",
              "      <td>23</td>\n",
              "      <td>38</td>\n",
              "      <td>30.578125</td>\n",
              "      <td>0</td>\n",
              "      <td>55</td>\n",
              "      <td>43</td>\n",
              "      <td>27.890625</td>\n",
              "      <td>0</td>\n",
              "      <td>...</td>\n",
              "      <td>25.0</td>\n",
              "      <td>8.335938</td>\n",
              "      <td>1051.0</td>\n",
              "      <td>1077.0</td>\n",
              "      <td>23179380.0</td>\n",
              "      <td>2193863.0</td>\n",
              "      <td>3.408732e+05</td>\n",
              "      <td>731287.68750</td>\n",
              "      <td>1113</td>\n",
              "      <td>1051.0</td>\n",
              "      <td>1381</td>\n",
              "      <td>1077.0</td>\n",
              "      <td>71.0</td>\n",
              "      <td>0.044128</td>\n",
              "      <td>-0.147583</td>\n",
              "      <td>-1.466797</td>\n",
              "      <td>-1.191406</td>\n",
              "      <td>-42.500000</td>\n",
              "      <td>0.043640</td>\n",
              "      <td>15.0</td>\n",
              "      <td>3.742188</td>\n",
              "      <td>146.0</td>\n",
              "      <td>0.035461</td>\n",
              "      <td>2.0</td>\n",
              "      <td>-6.0</td>\n",
              "      <td>-1.632812</td>\n",
              "      <td>-241.0</td>\n",
              "      <td>-0.024292</td>\n",
              "      <td>-5.226562</td>\n",
              "      <td>-55.00000</td>\n",
              "      <td>-44.12500</td>\n",
              "      <td>75.0</td>\n",
              "      <td>74.125</td>\n",
              "      <td>74.0</td>\n",
              "      <td>-0.004158</td>\n",
              "      <td>-0.039490</td>\n",
              "      <td>-0.032166</td>\n",
              "      <td>-74.626831</td>\n",
              "      <td>-0.144165</td>\n",
              "      <td>517.850098</td>\n",
              "    </tr>\n",
              "    <tr>\n",
              "      <th>1</th>\n",
              "      <td>1</td>\n",
              "      <td>C_ID_130fd0cbdd</td>\n",
              "      <td>0.010612</td>\n",
              "      <td>0.014168</td>\n",
              "      <td>0.010284</td>\n",
              "      <td>1</td>\n",
              "      <td>1475</td>\n",
              "      <td>1</td>\n",
              "      <td>2017</td>\n",
              "      <td>6</td>\n",
              "      <td>15.648438</td>\n",
              "      <td>20.890625</td>\n",
              "      <td>15.164062</td>\n",
              "      <td>0.000007</td>\n",
              "      <td>0.000010</td>\n",
              "      <td>0.000007</td>\n",
              "      <td>0.035065</td>\n",
              "      <td>0.011688</td>\n",
              "      <td>0.014168</td>\n",
              "      <td>0.010284</td>\n",
              "      <td>0.002153</td>\n",
              "      <td>17.0</td>\n",
              "      <td>0.217896</td>\n",
              "      <td>61.0</td>\n",
              "      <td>0.782227</td>\n",
              "      <td>7</td>\n",
              "      <td>229.0</td>\n",
              "      <td>2.935547</td>\n",
              "      <td>6</td>\n",
              "      <td>18</td>\n",
              "      <td>14.421875</td>\n",
              "      <td>0</td>\n",
              "      <td>23</td>\n",
              "      <td>45</td>\n",
              "      <td>31.203125</td>\n",
              "      <td>0</td>\n",
              "      <td>59</td>\n",
              "      <td>40</td>\n",
              "      <td>31.578125</td>\n",
              "      <td>1</td>\n",
              "      <td>...</td>\n",
              "      <td>48.0</td>\n",
              "      <td>5.332031</td>\n",
              "      <td>1000.0</td>\n",
              "      <td>1049.0</td>\n",
              "      <td>34667912.0</td>\n",
              "      <td>4167689.0</td>\n",
              "      <td>4.444604e+05</td>\n",
              "      <td>463076.56250</td>\n",
              "      <td>1061</td>\n",
              "      <td>1000.0</td>\n",
              "      <td>1462</td>\n",
              "      <td>1049.0</td>\n",
              "      <td>87.0</td>\n",
              "      <td>0.115356</td>\n",
              "      <td>-0.187500</td>\n",
              "      <td>-1.472656</td>\n",
              "      <td>-1.291016</td>\n",
              "      <td>-55.062500</td>\n",
              "      <td>0.121033</td>\n",
              "      <td>7.0</td>\n",
              "      <td>2.287109</td>\n",
              "      <td>94.0</td>\n",
              "      <td>0.132568</td>\n",
              "      <td>2.0</td>\n",
              "      <td>-12.0</td>\n",
              "      <td>-8.968750</td>\n",
              "      <td>-799.0</td>\n",
              "      <td>-0.016006</td>\n",
              "      <td>-6.562500</td>\n",
              "      <td>-52.25000</td>\n",
              "      <td>-45.25000</td>\n",
              "      <td>71.0</td>\n",
              "      <td>70.125</td>\n",
              "      <td>70.0</td>\n",
              "      <td>-0.005356</td>\n",
              "      <td>-0.042053</td>\n",
              "      <td>-0.036804</td>\n",
              "      <td>-108.999451</td>\n",
              "      <td>-1.528320</td>\n",
              "      <td>71.297646</td>\n",
              "    </tr>\n",
              "    <tr>\n",
              "      <th>2</th>\n",
              "      <td>2</td>\n",
              "      <td>C_ID_b709037bc5</td>\n",
              "      <td>0.013145</td>\n",
              "      <td>0.011383</td>\n",
              "      <td>0.011429</td>\n",
              "      <td>3</td>\n",
              "      <td>1263</td>\n",
              "      <td>8</td>\n",
              "      <td>2017</td>\n",
              "      <td>1</td>\n",
              "      <td>16.609375</td>\n",
              "      <td>14.382812</td>\n",
              "      <td>14.429688</td>\n",
              "      <td>0.000010</td>\n",
              "      <td>0.000009</td>\n",
              "      <td>0.000009</td>\n",
              "      <td>0.035950</td>\n",
              "      <td>0.011986</td>\n",
              "      <td>0.013145</td>\n",
              "      <td>0.011383</td>\n",
              "      <td>0.001004</td>\n",
              "      <td>0.0</td>\n",
              "      <td>0.000000</td>\n",
              "      <td>13.0</td>\n",
              "      <td>1.000000</td>\n",
              "      <td>4</td>\n",
              "      <td>34.0</td>\n",
              "      <td>2.615234</td>\n",
              "      <td>4</td>\n",
              "      <td>7</td>\n",
              "      <td>17.000000</td>\n",
              "      <td>13</td>\n",
              "      <td>20</td>\n",
              "      <td>13</td>\n",
              "      <td>31.765625</td>\n",
              "      <td>2</td>\n",
              "      <td>57</td>\n",
              "      <td>13</td>\n",
              "      <td>33.531250</td>\n",
              "      <td>3</td>\n",
              "      <td>...</td>\n",
              "      <td>11.0</td>\n",
              "      <td>5.500000</td>\n",
              "      <td>1039.0</td>\n",
              "      <td>1050.0</td>\n",
              "      <td>13924886.0</td>\n",
              "      <td>1030753.0</td>\n",
              "      <td>1.071145e+06</td>\n",
              "      <td>515376.50000</td>\n",
              "      <td>1077</td>\n",
              "      <td>1039.0</td>\n",
              "      <td>1238</td>\n",
              "      <td>1050.0</td>\n",
              "      <td>15.0</td>\n",
              "      <td>0.153809</td>\n",
              "      <td>2.125000</td>\n",
              "      <td>-1.261719</td>\n",
              "      <td>0.315674</td>\n",
              "      <td>3.115234</td>\n",
              "      <td>0.061218</td>\n",
              "      <td>23.0</td>\n",
              "      <td>12.117188</td>\n",
              "      <td>97.0</td>\n",
              "      <td>0.127930</td>\n",
              "      <td>1.0</td>\n",
              "      <td>-5.0</td>\n",
              "      <td>-1.077148</td>\n",
              "      <td>-25.0</td>\n",
              "      <td>-0.074097</td>\n",
              "      <td>75.250000</td>\n",
              "      <td>-44.12500</td>\n",
              "      <td>11.50000</td>\n",
              "      <td>71.0</td>\n",
              "      <td>70.500</td>\n",
              "      <td>70.0</td>\n",
              "      <td>0.059967</td>\n",
              "      <td>-0.036041</td>\n",
              "      <td>0.008652</td>\n",
              "      <td>1.090346</td>\n",
              "      <td>0.010124</td>\n",
              "      <td>107.707222</td>\n",
              "    </tr>\n",
              "    <tr>\n",
              "      <th>3</th>\n",
              "      <td>3</td>\n",
              "      <td>C_ID_d27d835a9f</td>\n",
              "      <td>0.010612</td>\n",
              "      <td>0.011383</td>\n",
              "      <td>0.010284</td>\n",
              "      <td>4</td>\n",
              "      <td>1141</td>\n",
              "      <td>12</td>\n",
              "      <td>2017</td>\n",
              "      <td>4</td>\n",
              "      <td>12.109375</td>\n",
              "      <td>12.992188</td>\n",
              "      <td>11.734375</td>\n",
              "      <td>0.000009</td>\n",
              "      <td>0.000010</td>\n",
              "      <td>0.000009</td>\n",
              "      <td>0.032288</td>\n",
              "      <td>0.010757</td>\n",
              "      <td>0.011383</td>\n",
              "      <td>0.010284</td>\n",
              "      <td>0.000566</td>\n",
              "      <td>7.0</td>\n",
              "      <td>0.269287</td>\n",
              "      <td>19.0</td>\n",
              "      <td>0.730957</td>\n",
              "      <td>7</td>\n",
              "      <td>64.0</td>\n",
              "      <td>2.460938</td>\n",
              "      <td>6</td>\n",
              "      <td>9</td>\n",
              "      <td>17.921875</td>\n",
              "      <td>8</td>\n",
              "      <td>22</td>\n",
              "      <td>22</td>\n",
              "      <td>30.078125</td>\n",
              "      <td>1</td>\n",
              "      <td>57</td>\n",
              "      <td>23</td>\n",
              "      <td>22.578125</td>\n",
              "      <td>0</td>\n",
              "      <td>...</td>\n",
              "      <td>44.0</td>\n",
              "      <td>4.398438</td>\n",
              "      <td>1003.0</td>\n",
              "      <td>1048.0</td>\n",
              "      <td>6734846.0</td>\n",
              "      <td>3838554.0</td>\n",
              "      <td>2.590325e+05</td>\n",
              "      <td>383855.40625</td>\n",
              "      <td>1060</td>\n",
              "      <td>1003.0</td>\n",
              "      <td>1138</td>\n",
              "      <td>1048.0</td>\n",
              "      <td>36.0</td>\n",
              "      <td>0.384521</td>\n",
              "      <td>-0.360107</td>\n",
              "      <td>-1.404297</td>\n",
              "      <td>-1.100586</td>\n",
              "      <td>-19.437500</td>\n",
              "      <td>0.419678</td>\n",
              "      <td>25.0</td>\n",
              "      <td>5.437500</td>\n",
              "      <td>95.0</td>\n",
              "      <td>0.439453</td>\n",
              "      <td>2.0</td>\n",
              "      <td>-1.0</td>\n",
              "      <td>0.069214</td>\n",
              "      <td>-19.0</td>\n",
              "      <td>-0.406250</td>\n",
              "      <td>-12.601562</td>\n",
              "      <td>-49.12500</td>\n",
              "      <td>-38.53125</td>\n",
              "      <td>70.0</td>\n",
              "      <td>70.000</td>\n",
              "      <td>70.0</td>\n",
              "      <td>-0.010284</td>\n",
              "      <td>-0.040100</td>\n",
              "      <td>-0.031464</td>\n",
              "      <td>-10.173660</td>\n",
              "      <td>-1.641602</td>\n",
              "      <td>6.196873</td>\n",
              "    </tr>\n",
              "    <tr>\n",
              "      <th>4</th>\n",
              "      <td>4</td>\n",
              "      <td>C_ID_2b5e3df5c2</td>\n",
              "      <td>0.013145</td>\n",
              "      <td>0.011383</td>\n",
              "      <td>0.011429</td>\n",
              "      <td>4</td>\n",
              "      <td>1872</td>\n",
              "      <td>12</td>\n",
              "      <td>2015</td>\n",
              "      <td>1</td>\n",
              "      <td>24.609375</td>\n",
              "      <td>21.312500</td>\n",
              "      <td>21.390625</td>\n",
              "      <td>0.000007</td>\n",
              "      <td>0.000006</td>\n",
              "      <td>0.000006</td>\n",
              "      <td>0.035950</td>\n",
              "      <td>0.011986</td>\n",
              "      <td>0.013145</td>\n",
              "      <td>0.011383</td>\n",
              "      <td>0.001004</td>\n",
              "      <td>21.0</td>\n",
              "      <td>0.190918</td>\n",
              "      <td>89.0</td>\n",
              "      <td>0.809082</td>\n",
              "      <td>7</td>\n",
              "      <td>265.0</td>\n",
              "      <td>2.408203</td>\n",
              "      <td>6</td>\n",
              "      <td>21</td>\n",
              "      <td>14.437500</td>\n",
              "      <td>0</td>\n",
              "      <td>23</td>\n",
              "      <td>47</td>\n",
              "      <td>28.421875</td>\n",
              "      <td>0</td>\n",
              "      <td>59</td>\n",
              "      <td>49</td>\n",
              "      <td>28.046875</td>\n",
              "      <td>0</td>\n",
              "      <td>...</td>\n",
              "      <td>39.0</td>\n",
              "      <td>6.500000</td>\n",
              "      <td>1009.0</td>\n",
              "      <td>1048.0</td>\n",
              "      <td>36283896.0</td>\n",
              "      <td>3402694.0</td>\n",
              "      <td>3.298536e+05</td>\n",
              "      <td>567115.68750</td>\n",
              "      <td>1053</td>\n",
              "      <td>1009.0</td>\n",
              "      <td>1473</td>\n",
              "      <td>1048.0</td>\n",
              "      <td>116.0</td>\n",
              "      <td>0.054535</td>\n",
              "      <td>2.439453</td>\n",
              "      <td>-1.451172</td>\n",
              "      <td>-0.538574</td>\n",
              "      <td>-42.000000</td>\n",
              "      <td>0.024277</td>\n",
              "      <td>17.0</td>\n",
              "      <td>4.257812</td>\n",
              "      <td>139.0</td>\n",
              "      <td>0.158325</td>\n",
              "      <td>2.0</td>\n",
              "      <td>-12.0</td>\n",
              "      <td>-5.062500</td>\n",
              "      <td>-678.0</td>\n",
              "      <td>-0.010216</td>\n",
              "      <td>86.625000</td>\n",
              "      <td>-51.53125</td>\n",
              "      <td>-18.96875</td>\n",
              "      <td>71.0</td>\n",
              "      <td>70.250</td>\n",
              "      <td>70.0</td>\n",
              "      <td>0.069702</td>\n",
              "      <td>-0.041412</td>\n",
              "      <td>-0.015289</td>\n",
              "      <td>-128.025803</td>\n",
              "      <td>-0.170532</td>\n",
              "      <td>750.481689</td>\n",
              "    </tr>\n",
              "  </tbody>\n",
              "</table>\n",
              "<p>5 rows × 237 columns</p>\n",
              "</div>"
            ],
            "text/plain": [
              "   Unnamed: 0          card_id  ...  new_customer_rating  customer_rating_ratio\n",
              "0           0  C_ID_0ab67a22ab  ...            -0.144165             517.850098\n",
              "1           1  C_ID_130fd0cbdd  ...            -1.528320              71.297646\n",
              "2           2  C_ID_b709037bc5  ...             0.010124             107.707222\n",
              "3           3  C_ID_d27d835a9f  ...            -1.641602               6.196873\n",
              "4           4  C_ID_2b5e3df5c2  ...            -0.170532             750.481689\n",
              "\n",
              "[5 rows x 237 columns]"
            ]
          },
          "metadata": {
            "tags": []
          },
          "execution_count": 13
        }
      ]
    },
    {
      "cell_type": "code",
      "metadata": {
        "id": "xAQeONKDMV60"
      },
      "source": [
        "outliers=train['outliers']\n",
        "target=train['target']\n",
        "card_id=test['card_id']"
      ],
      "execution_count": 14,
      "outputs": []
    },
    {
      "cell_type": "code",
      "metadata": {
        "id": "3fVIuNPzNh8r"
      },
      "source": [
        "train_cols = [c for c in train.columns if c not in ['card_id','target','outliers']]"
      ],
      "execution_count": 15,
      "outputs": []
    },
    {
      "cell_type": "markdown",
      "metadata": {
        "id": "5PwLqaKrBzld"
      },
      "source": [
        "Linear Regression"
      ]
    },
    {
      "cell_type": "code",
      "metadata": {
        "id": "nHd6U3nTsvrx"
      },
      "source": [
        "X_train, X_test, y_train, y_test = train_test_split(train, target, test_size = 0.2)"
      ],
      "execution_count": null,
      "outputs": []
    },
    {
      "cell_type": "code",
      "metadata": {
        "colab": {
          "base_uri": "https://localhost:8080/"
        },
        "id": "0HKd842stjgO",
        "outputId": "6558836c-73ed-4fb5-96f5-567b235daa17"
      },
      "source": [
        "model = LinearRegression()\n",
        "model.fit(X_train[train_cols], y_train)\n",
        "\n",
        "yhat=model.predict(X_test[train_cols])\n",
        "test_rmse = np.sqrt(mean_squared_error(y_test, yhat))\n",
        "print('test_rmse is : {}'.format(test_rmse))"
      ],
      "execution_count": null,
      "outputs": [
        {
          "output_type": "stream",
          "text": [
            "test_rmse is : 3.7851559803719113\n"
          ],
          "name": "stdout"
        }
      ]
    },
    {
      "cell_type": "markdown",
      "metadata": {
        "id": "b1iLS-y6uw1N"
      },
      "source": [
        "Sgd Regressor"
      ]
    },
    {
      "cell_type": "code",
      "metadata": {
        "colab": {
          "base_uri": "https://localhost:8080/"
        },
        "id": "TCjtki8FZoU3",
        "outputId": "744c12e3-c5cf-40a3-9553-aa6322afb140"
      },
      "source": [
        "# hyper parameter tuned using grid search cv\n",
        "model = SGDRegressor(alpha=10)\n",
        "model.fit(X_train[train_cols], y_train)\n",
        "\n",
        "yhat=model.predict(X_test[train_cols])\n",
        "test_rmse = np.sqrt(mean_squared_error(y_test, yhat))\n",
        "print('test_rmse is : {}'.format(test_rmse))"
      ],
      "execution_count": null,
      "outputs": [
        {
          "output_type": "stream",
          "text": [
            "test_rmse is : 3.7295214999652155e+21\n"
          ],
          "name": "stdout"
        }
      ]
    },
    {
      "cell_type": "markdown",
      "metadata": {
        "id": "VmlKzGn5ZwoM"
      },
      "source": [
        "Random Forest Regression"
      ]
    },
    {
      "cell_type": "code",
      "metadata": {
        "id": "TvIvDcfxzNiN"
      },
      "source": [
        "# taking too much time too run\n",
        "model = RandomForestRegressor(n_jobs=-1)\n",
        "model.fit(X_train, y_train)\n",
        "\n",
        "y_pred_train = model.predict(X_train[train_cols])\n",
        "y_pred_test = model.predict(X_test[train_cols])\n",
        "\n",
        "train_rmse = sqrt(mean_squared_error(y_train, y_pred_train))\n",
        "test_rmse = sqrt(mean_squared_error(y_test, y_pred_test))\n",
        "\n",
        "print(\"Train RMSE: {:2.5f}\".format(train_rmse))\n",
        "print(\"Test RMSE: {:2.5f}\".format(test_rmse))"
      ],
      "execution_count": null,
      "outputs": []
    },
    {
      "cell_type": "markdown",
      "metadata": {
        "id": "wryjne4u9-hE"
      },
      "source": [
        "Hyperparameter Tuning using Optuna"
      ]
    },
    {
      "cell_type": "code",
      "metadata": {
        "colab": {
          "base_uri": "https://localhost:8080/"
        },
        "id": "rq_e14AgMpu0",
        "outputId": "d4640f89-781a-4216-a89f-5b46f6f6f5c2"
      },
      "source": [
        "# https://github.com/optuna/optuna/blob/master/examples/lightgbm_simple.py\n",
        "# https://github.com/niranjanbsubramanian/kaggle/blob/master/Elo%20Merchant%20Category%20Recommendataion.ipynb\n",
        "\n",
        "def objective(trial):\n",
        "    \n",
        "    lgbm_train = lightgbm.Dataset(train[train_cols], target, free_raw_data=False)\n",
        "\n",
        "    params = {\n",
        "              'objective': 'regression', 'metric': 'rmse',\n",
        "              'verbosity': -1,  \"learning_rate\": 0.01,\n",
        "              'device': 'cpu',  'seed': 326,\n",
        "              'boosting_type': 'gbdt', 'n_jobs': 8,\n",
        "              'num_leaves': trial.suggest_int('num_leaves', 16, 64), 'colsample_bytree': trial.suggest_uniform('colsample_bytree', 0.001, 1),\n",
        "              'subsample': trial.suggest_uniform('subsample', 0.001, 1), 'max_depth': trial.suggest_int('max_depth', 1, 12),\n",
        "              'reg_alpha': trial.suggest_uniform('reg_alpha', 0, 10), 'reg_lambda': trial.suggest_uniform('reg_lambda', 0, 10),\n",
        "              'min_split_gain': trial.suggest_uniform('min_split_gain', 0, 10), 'min_child_weight': trial.suggest_uniform('min_child_weight', 0, 45),\n",
        "              'min_data_in_leaf': trial.suggest_int('min_data_in_leaf', 16, 64)\n",
        "              }\n",
        "\n",
        "\n",
        "    folds = StratifiedKFold(n_splits=3, shuffle=True, random_state=326)\n",
        "\n",
        "    clf = lightgbm.cv(params=params, train_set=lgbm_train, metrics=['rmse'], nfold=3, \\\n",
        "                      folds=folds.split(train[train_cols], outliers.values), \\\n",
        "                      num_boost_round=10000, early_stopping_rounds=200, verbose_eval=2000, seed=47)\n",
        "    gc.collect()\n",
        "    return clf['rmse-mean'][-1]\n",
        "\n",
        "if __name__ == '__main__':\n",
        "    study = optuna.create_study()\n",
        "    study.optimize(objective, n_trials=35);gc.collect()\n",
        "    print('Number of finished trials: {}'.format(len(study.trials)))\n",
        "    print('Best trial:')\n",
        "    trial = study.best_trial;gc.collect()\n",
        "    print('  Value: {}'.format(trial.value))\n",
        "    print('  Params: ')\n",
        "    for key, value in trial.params.items():\n",
        "        print('    {}: {}'.format(key, value))"
      ],
      "execution_count": null,
      "outputs": [
        {
          "output_type": "stream",
          "text": [
            "\u001b[32m[I 2021-01-22 09:32:41,451]\u001b[0m A new study created in memory with name: no-name-74ce23b1-a35b-4e82-b283-a734b75d74a5\u001b[0m\n",
            "\u001b[32m[I 2021-01-22 09:35:37,221]\u001b[0m Trial 0 finished with value: 3.6588622512601106 and parameters: {'num_leaves': 46, 'colsample_bytree': 0.49159574255137833, 'subsample': 0.0087193433220101, 'max_depth': 5, 'reg_alpha': 9.881610540017983, 'reg_lambda': 6.576856524160123, 'min_split_gain': 4.8695438587525395, 'min_child_weight': 29.092294235585815, 'min_data_in_leaf': 60}. Best is trial 0 with value: 3.6588622512601106.\u001b[0m\n",
            "\u001b[32m[I 2021-01-22 09:38:04,839]\u001b[0m Trial 1 finished with value: 3.66050827705252 and parameters: {'num_leaves': 48, 'colsample_bytree': 0.08932909922654794, 'subsample': 0.3380162823038536, 'max_depth': 7, 'reg_alpha': 9.788992685039123, 'reg_lambda': 6.956654530808746, 'min_split_gain': 5.301662452656962, 'min_child_weight': 18.804766982023736, 'min_data_in_leaf': 33}. Best is trial 0 with value: 3.6588622512601106.\u001b[0m\n",
            "\u001b[32m[I 2021-01-22 09:41:21,161]\u001b[0m Trial 2 finished with value: 3.6578852180179715 and parameters: {'num_leaves': 64, 'colsample_bytree': 0.6389340925573669, 'subsample': 0.9884503657661722, 'max_depth': 7, 'reg_alpha': 9.712200948707656, 'reg_lambda': 7.258383255311108, 'min_split_gain': 6.4818385966552805, 'min_child_weight': 31.628760517813458, 'min_data_in_leaf': 43}. Best is trial 2 with value: 3.6578852180179715.\u001b[0m\n"
          ],
          "name": "stderr"
        },
        {
          "output_type": "stream",
          "text": [
            "[2000]\tcv_agg's rmse: 3.67127 + 0.00651239\n",
            "[4000]\tcv_agg's rmse: 3.66803 + 0.00679031\n"
          ],
          "name": "stdout"
        },
        {
          "output_type": "stream",
          "text": [
            "\u001b[32m[I 2021-01-22 09:45:23,090]\u001b[0m Trial 3 finished with value: 3.6679110767810332 and parameters: {'num_leaves': 49, 'colsample_bytree': 0.3952577225029966, 'subsample': 0.5636873458455905, 'max_depth': 3, 'reg_alpha': 8.688603196454741, 'reg_lambda': 7.738338047251002, 'min_split_gain': 6.507662766311916, 'min_child_weight': 39.02291929038754, 'min_data_in_leaf': 23}. Best is trial 2 with value: 3.6578852180179715.\u001b[0m\n"
          ],
          "name": "stderr"
        },
        {
          "output_type": "stream",
          "text": [
            "[2000]\tcv_agg's rmse: 3.66246 + 0.00638047\n"
          ],
          "name": "stdout"
        },
        {
          "output_type": "stream",
          "text": [
            "\u001b[32m[I 2021-01-22 09:47:27,374]\u001b[0m Trial 4 finished with value: 3.6614813799591013 and parameters: {'num_leaves': 21, 'colsample_bytree': 0.07893423213516569, 'subsample': 0.4594839444365741, 'max_depth': 9, 'reg_alpha': 4.709266021728808, 'reg_lambda': 0.7461191307630588, 'min_split_gain': 6.798514551693372, 'min_child_weight': 25.127120456137337, 'min_data_in_leaf': 62}. Best is trial 2 with value: 3.6578852180179715.\u001b[0m\n",
            "\u001b[32m[I 2021-01-22 09:50:42,357]\u001b[0m Trial 5 finished with value: 3.659871586768143 and parameters: {'num_leaves': 40, 'colsample_bytree': 0.6127306617148763, 'subsample': 0.07030704665139931, 'max_depth': 8, 'reg_alpha': 2.190216657743027, 'reg_lambda': 1.5671396191257436, 'min_split_gain': 3.6401326786451973, 'min_child_weight': 1.6769221958319969, 'min_data_in_leaf': 35}. Best is trial 2 with value: 3.6578852180179715.\u001b[0m\n",
            "\u001b[32m[I 2021-01-22 09:54:18,370]\u001b[0m Trial 6 finished with value: 3.6602660559970537 and parameters: {'num_leaves': 47, 'colsample_bytree': 0.7075539075535372, 'subsample': 0.3152981379287219, 'max_depth': 7, 'reg_alpha': 3.6383483157007204, 'reg_lambda': 2.193314587118106, 'min_split_gain': 4.064838387979977, 'min_child_weight': 8.220650195451988, 'min_data_in_leaf': 38}. Best is trial 2 with value: 3.6578852180179715.\u001b[0m\n",
            "\u001b[32m[I 2021-01-22 09:56:21,494]\u001b[0m Trial 7 finished with value: 3.657897054071612 and parameters: {'num_leaves': 39, 'colsample_bytree': 0.3196449113585997, 'subsample': 0.8122536376780007, 'max_depth': 5, 'reg_alpha': 9.128344410088195, 'reg_lambda': 3.51105472249279, 'min_split_gain': 5.975262411138072, 'min_child_weight': 3.696887786724912, 'min_data_in_leaf': 36}. Best is trial 2 with value: 3.6578852180179715.\u001b[0m\n",
            "\u001b[32m[I 2021-01-22 09:58:55,072]\u001b[0m Trial 8 finished with value: 3.6583301585587757 and parameters: {'num_leaves': 29, 'colsample_bytree': 0.24147714487050156, 'subsample': 0.9571251416587221, 'max_depth': 10, 'reg_alpha': 9.968778341089761, 'reg_lambda': 9.5823766089569, 'min_split_gain': 9.152718267222744, 'min_child_weight': 36.40643102661187, 'min_data_in_leaf': 51}. Best is trial 2 with value: 3.6578852180179715.\u001b[0m\n"
          ],
          "name": "stderr"
        },
        {
          "output_type": "stream",
          "text": [
            "[2000]\tcv_agg's rmse: 3.67191 + 0.00653077\n"
          ],
          "name": "stdout"
        },
        {
          "output_type": "stream",
          "text": [
            "\u001b[32m[I 2021-01-22 10:04:04,679]\u001b[0m Trial 9 finished with value: 3.6692474248413447 and parameters: {'num_leaves': 20, 'colsample_bytree': 0.6998009985696713, 'subsample': 0.5393290250945671, 'max_depth': 3, 'reg_alpha': 9.028059433370828, 'reg_lambda': 9.968656263631196, 'min_split_gain': 7.4969514324391415, 'min_child_weight': 36.50245221081773, 'min_data_in_leaf': 57}. Best is trial 2 with value: 3.6578852180179715.\u001b[0m\n",
            "\u001b[32m[I 2021-01-22 10:08:56,198]\u001b[0m Trial 10 finished with value: 3.6654180094492355 and parameters: {'num_leaves': 63, 'colsample_bytree': 0.9947890829127681, 'subsample': 0.784203104652798, 'max_depth': 12, 'reg_alpha': 7.001038909369862, 'reg_lambda': 4.90155029505204, 'min_split_gain': 0.1429623449448023, 'min_child_weight': 15.589909149472913, 'min_data_in_leaf': 50}. Best is trial 2 with value: 3.6578852180179715.\u001b[0m\n",
            "\u001b[32m[I 2021-01-22 10:12:27,496]\u001b[0m Trial 11 finished with value: 3.6628617337356038 and parameters: {'num_leaves': 64, 'colsample_bytree': 0.9256998924366568, 'subsample': 0.9822807250334641, 'max_depth': 5, 'reg_alpha': 7.088600789015426, 'reg_lambda': 4.020211943770175, 'min_split_gain': 1.7494567860108887, 'min_child_weight': 1.4568939700484922, 'min_data_in_leaf': 26}. Best is trial 2 with value: 3.6578852180179715.\u001b[0m\n"
          ],
          "name": "stderr"
        },
        {
          "output_type": "stream",
          "text": [
            "[2000]\tcv_agg's rmse: 3.75328 + 0.00310797\n",
            "[4000]\tcv_agg's rmse: 3.74227 + 0.00365534\n",
            "[6000]\tcv_agg's rmse: 3.73667 + 0.00403746\n",
            "[8000]\tcv_agg's rmse: 3.73292 + 0.00434569\n"
          ],
          "name": "stdout"
        },
        {
          "output_type": "stream",
          "text": [
            "\u001b[32m[I 2021-01-22 10:16:36,907]\u001b[0m Trial 12 finished with value: 3.730346027676033 and parameters: {'num_leaves': 33, 'colsample_bytree': 0.2841561504387337, 'subsample': 0.7996634927028026, 'max_depth': 1, 'reg_alpha': 7.298726453914669, 'reg_lambda': 3.188003990705595, 'min_split_gain': 9.737902487605911, 'min_child_weight': 29.908807492524375, 'min_data_in_leaf': 45}. Best is trial 2 with value: 3.6578852180179715.\u001b[0m\n"
          ],
          "name": "stderr"
        },
        {
          "output_type": "stream",
          "text": [
            "[10000]\tcv_agg's rmse: 3.73035 + 0.00446003\n"
          ],
          "name": "stdout"
        },
        {
          "output_type": "stream",
          "text": [
            "\u001b[32m[I 2021-01-22 10:20:07,794]\u001b[0m Trial 13 finished with value: 3.6622808704021406 and parameters: {'num_leaves': 57, 'colsample_bytree': 0.8520977067644468, 'subsample': 0.8050260504801414, 'max_depth': 5, 'reg_alpha': 0.02466223665081113, 'reg_lambda': 5.246893051230594, 'min_split_gain': 8.11051681591049, 'min_child_weight': 43.40684303532787, 'min_data_in_leaf': 43}. Best is trial 2 with value: 3.6578852180179715.\u001b[0m\n"
          ],
          "name": "stderr"
        },
        {
          "output_type": "stream",
          "text": [
            "[2000]\tcv_agg's rmse: 3.67157 + 0.00622191\n"
          ],
          "name": "stdout"
        },
        {
          "output_type": "stream",
          "text": [
            "\u001b[32m[I 2021-01-22 10:24:21,390]\u001b[0m Trial 14 finished with value: 3.669099352449328 and parameters: {'num_leaves': 33, 'colsample_bytree': 0.5061442837403505, 'subsample': 0.9256585271139074, 'max_depth': 3, 'reg_alpha': 7.684209376509666, 'reg_lambda': 8.61092586047379, 'min_split_gain': 5.838952544429479, 'min_child_weight': 11.219074655557895, 'min_data_in_leaf': 30}. Best is trial 2 with value: 3.6578852180179715.\u001b[0m\n",
            "\u001b[32m[I 2021-01-22 10:27:10,584]\u001b[0m Trial 15 finished with value: 3.658568841903323 and parameters: {'num_leaves': 55, 'colsample_bytree': 0.2601762897207716, 'subsample': 0.680777211829654, 'max_depth': 10, 'reg_alpha': 5.809165947772003, 'reg_lambda': 5.926731684346407, 'min_split_gain': 3.4679460457985707, 'min_child_weight': 25.234288055705388, 'min_data_in_leaf': 16}. Best is trial 2 with value: 3.6578852180179715.\u001b[0m\n",
            "\u001b[32m[I 2021-01-22 10:29:37,860]\u001b[0m Trial 16 finished with value: 3.657123889948426 and parameters: {'num_leaves': 40, 'colsample_bytree': 0.4041932962899831, 'subsample': 0.9941078266013288, 'max_depth': 6, 'reg_alpha': 8.704411263697754, 'reg_lambda': 3.7576365287505373, 'min_split_gain': 8.474186243812786, 'min_child_weight': 31.078576653383152, 'min_data_in_leaf': 40}. Best is trial 16 with value: 3.657123889948426.\u001b[0m\n",
            "\u001b[32m[I 2021-01-22 10:33:49,311]\u001b[0m Trial 17 finished with value: 3.660617335205893 and parameters: {'num_leaves': 57, 'colsample_bytree': 0.5775951272168793, 'subsample': 0.9158568004664804, 'max_depth': 12, 'reg_alpha': 5.835995846689867, 'reg_lambda': 8.326877395664543, 'min_split_gain': 8.607695289697693, 'min_child_weight': 31.294828172582022, 'min_data_in_leaf': 47}. Best is trial 16 with value: 3.657123889948426.\u001b[0m\n",
            "\u001b[32m[I 2021-01-22 10:37:03,159]\u001b[0m Trial 18 finished with value: 3.659700324429576 and parameters: {'num_leaves': 41, 'colsample_bytree': 0.7482425039100735, 'subsample': 0.6486709484080528, 'max_depth': 6, 'reg_alpha': 8.213171322276752, 'reg_lambda': 4.622322217444893, 'min_split_gain': 9.801230171316963, 'min_child_weight': 44.344034558235634, 'min_data_in_leaf': 41}. Best is trial 16 with value: 3.657123889948426.\u001b[0m\n"
          ],
          "name": "stderr"
        },
        {
          "output_type": "stream",
          "text": [
            "[2000]\tcv_agg's rmse: 3.66025 + 0.0059173\n"
          ],
          "name": "stdout"
        },
        {
          "output_type": "stream",
          "text": [
            "\u001b[32m[I 2021-01-22 10:40:17,153]\u001b[0m Trial 19 finished with value: 3.660147077625013 and parameters: {'num_leaves': 16, 'colsample_bytree': 0.4242493650106734, 'subsample': 0.16641479654163593, 'max_depth': 8, 'reg_alpha': 0.4552296006037233, 'reg_lambda': 2.694255419905134, 'min_split_gain': 7.302654885278944, 'min_child_weight': 20.563617379333262, 'min_data_in_leaf': 54}. Best is trial 16 with value: 3.657123889948426.\u001b[0m\n",
            "\u001b[32m[I 2021-01-22 10:44:35,575]\u001b[0m Trial 20 finished with value: 3.6623854506675673 and parameters: {'num_leaves': 26, 'colsample_bytree': 0.7922488364168311, 'subsample': 0.9983328620919418, 'max_depth': 10, 'reg_alpha': 6.054540557926051, 'reg_lambda': 0.006877425340259258, 'min_split_gain': 8.10315898245813, 'min_child_weight': 33.55850692649162, 'min_data_in_leaf': 40}. Best is trial 16 with value: 3.657123889948426.\u001b[0m\n"
          ],
          "name": "stderr"
        },
        {
          "output_type": "stream",
          "text": [
            "[2000]\tcv_agg's rmse: 3.66074 + 0.0061621\n"
          ],
          "name": "stdout"
        },
        {
          "output_type": "stream",
          "text": [
            "\u001b[32m[I 2021-01-22 10:47:15,032]\u001b[0m Trial 21 finished with value: 3.660563486652226 and parameters: {'num_leaves': 37, 'colsample_bytree': 0.3459424252220156, 'subsample': 0.8728341037187498, 'max_depth': 4, 'reg_alpha': 9.163567172758087, 'reg_lambda': 3.632712305241681, 'min_split_gain': 6.153386920328523, 'min_child_weight': 25.816983251044004, 'min_data_in_leaf': 36}. Best is trial 16 with value: 3.657123889948426.\u001b[0m\n",
            "\u001b[32m[I 2021-01-22 10:49:30,385]\u001b[0m Trial 22 finished with value: 3.656999693119321 and parameters: {'num_leaves': 44, 'colsample_bytree': 0.1696581488236113, 'subsample': 0.715822406877161, 'max_depth': 6, 'reg_alpha': 9.914682301044571, 'reg_lambda': 5.90997459764173, 'min_split_gain': 4.630616977085437, 'min_child_weight': 40.07408193575955, 'min_data_in_leaf': 29}. Best is trial 22 with value: 3.656999693119321.\u001b[0m\n",
            "\u001b[32m[I 2021-01-22 10:51:47,794]\u001b[0m Trial 23 finished with value: 3.6567426820375384 and parameters: {'num_leaves': 53, 'colsample_bytree': 0.17673834076860082, 'subsample': 0.7087951348526023, 'max_depth': 6, 'reg_alpha': 9.908320306141416, 'reg_lambda': 6.0071344861003615, 'min_split_gain': 4.3475986877999055, 'min_child_weight': 39.106365420975735, 'min_data_in_leaf': 18}. Best is trial 23 with value: 3.6567426820375384.\u001b[0m\n"
          ],
          "name": "stderr"
        },
        {
          "output_type": "stream",
          "text": [
            "[2000]\tcv_agg's rmse: 3.73094 + 0.0026076\n",
            "[4000]\tcv_agg's rmse: 3.71496 + 0.0037236\n",
            "[6000]\tcv_agg's rmse: 3.70836 + 0.00408904\n"
          ],
          "name": "stdout"
        },
        {
          "output_type": "stream",
          "text": [
            "\u001b[32m[I 2021-01-22 10:57:34,823]\u001b[0m Trial 24 finished with value: 3.707178631806494 and parameters: {'num_leaves': 52, 'colsample_bytree': 0.01103795718381717, 'subsample': 0.6897023166472716, 'max_depth': 6, 'reg_alpha': 8.089392235040991, 'reg_lambda': 5.77372180797206, 'min_split_gain': 2.3998382885514387, 'min_child_weight': 40.3122773246717, 'min_data_in_leaf': 17}. Best is trial 23 with value: 3.6567426820375384.\u001b[0m\n",
            "\u001b[32m[I 2021-01-22 10:59:46,019]\u001b[0m Trial 25 finished with value: 3.658194557898785 and parameters: {'num_leaves': 43, 'colsample_bytree': 0.17979545569612693, 'subsample': 0.6174351480556433, 'max_depth': 8, 'reg_alpha': 9.991462810285007, 'reg_lambda': 6.248731940126966, 'min_split_gain': 4.522582220838486, 'min_child_weight': 41.617311942241024, 'min_data_in_leaf': 22}. Best is trial 23 with value: 3.6567426820375384.\u001b[0m\n"
          ],
          "name": "stderr"
        },
        {
          "output_type": "stream",
          "text": [
            "[2000]\tcv_agg's rmse: 3.75419 + 0.00288779\n",
            "[4000]\tcv_agg's rmse: 3.74292 + 0.00348208\n",
            "[6000]\tcv_agg's rmse: 3.73716 + 0.00388464\n",
            "[8000]\tcv_agg's rmse: 3.73327 + 0.00422732\n"
          ],
          "name": "stdout"
        },
        {
          "output_type": "stream",
          "text": [
            "\u001b[32m[I 2021-01-22 11:02:34,701]\u001b[0m Trial 26 finished with value: 3.7305715572574587 and parameters: {'num_leaves': 52, 'colsample_bytree': 0.15656984999175777, 'subsample': 0.7460979101291462, 'max_depth': 1, 'reg_alpha': 8.499627971492712, 'reg_lambda': 4.2724798884599275, 'min_split_gain': 1.55510556271149, 'min_child_weight': 36.821116557234305, 'min_data_in_leaf': 28}. Best is trial 23 with value: 3.6567426820375384.\u001b[0m\n"
          ],
          "name": "stderr"
        },
        {
          "output_type": "stream",
          "text": [
            "[10000]\tcv_agg's rmse: 3.73057 + 0.00436985\n",
            "[2000]\tcv_agg's rmse: 3.6626 + 0.00576452\n"
          ],
          "name": "stdout"
        },
        {
          "output_type": "stream",
          "text": [
            "\u001b[32m[I 2021-01-22 11:04:34,695]\u001b[0m Trial 27 finished with value: 3.6620647984755164 and parameters: {'num_leaves': 36, 'colsample_bytree': 0.1775693814907878, 'subsample': 0.5031751189920107, 'max_depth': 4, 'reg_alpha': 6.595738287051649, 'reg_lambda': 5.6474183979063595, 'min_split_gain': 2.837980801888891, 'min_child_weight': 34.39045456828012, 'min_data_in_leaf': 20}. Best is trial 23 with value: 3.6567426820375384.\u001b[0m\n",
            "\u001b[32m[I 2021-01-22 11:06:44,780]\u001b[0m Trial 28 finished with value: 3.6599109032944757 and parameters: {'num_leaves': 44, 'colsample_bytree': 0.0874746221336422, 'subsample': 0.4254655709667781, 'max_depth': 6, 'reg_alpha': 4.412921054073396, 'reg_lambda': 5.11879569865546, 'min_split_gain': 4.445146159348458, 'min_child_weight': 44.85667357339324, 'min_data_in_leaf': 31}. Best is trial 23 with value: 3.6567426820375384.\u001b[0m\n"
          ],
          "name": "stderr"
        },
        {
          "output_type": "stream",
          "text": [
            "[2000]\tcv_agg's rmse: 3.66207 + 0.00693929\n"
          ],
          "name": "stdout"
        },
        {
          "output_type": "stream",
          "text": [
            "\u001b[32m[I 2021-01-22 11:09:52,567]\u001b[0m Trial 29 finished with value: 3.6618315835280693 and parameters: {'num_leaves': 45, 'colsample_bytree': 0.4520662020898967, 'subsample': 0.8667685856114176, 'max_depth': 4, 'reg_alpha': 9.43556603400069, 'reg_lambda': 6.598833019853035, 'min_split_gain': 5.119465951116682, 'min_child_weight': 27.314755452676263, 'min_data_in_leaf': 26}. Best is trial 23 with value: 3.6567426820375384.\u001b[0m\n"
          ],
          "name": "stderr"
        },
        {
          "output_type": "stream",
          "text": [
            "[2000]\tcv_agg's rmse: 3.6811 + 0.00468396\n",
            "[4000]\tcv_agg's rmse: 3.67407 + 0.00466606\n"
          ],
          "name": "stdout"
        },
        {
          "output_type": "stream",
          "text": [
            "\u001b[32m[I 2021-01-22 11:13:07,787]\u001b[0m Trial 30 finished with value: 3.67378370006484 and parameters: {'num_leaves': 51, 'colsample_bytree': 0.02938252645381348, 'subsample': 0.7038068579119108, 'max_depth': 5, 'reg_alpha': 9.994499551349238, 'reg_lambda': 7.718334997380738, 'min_split_gain': 5.341031580742355, 'min_child_weight': 39.787586760415095, 'min_data_in_leaf': 20}. Best is trial 23 with value: 3.6567426820375384.\u001b[0m\n",
            "\u001b[32m[I 2021-01-22 11:16:36,787]\u001b[0m Trial 31 finished with value: 3.658340517496301 and parameters: {'num_leaves': 60, 'colsample_bytree': 0.6330628580473219, 'subsample': 0.9976998697002234, 'max_depth': 7, 'reg_alpha': 9.476015419067178, 'reg_lambda': 7.329621830117029, 'min_split_gain': 3.3534508461916572, 'min_child_weight': 32.825250149823574, 'min_data_in_leaf': 44}. Best is trial 23 with value: 3.6567426820375384.\u001b[0m\n",
            "\u001b[32m[I 2021-01-22 11:19:37,125]\u001b[0m Trial 32 finished with value: 3.657126234471047 and parameters: {'num_leaves': 61, 'colsample_bytree': 0.5061192674373116, 'subsample': 0.8735899937785228, 'max_depth': 7, 'reg_alpha': 9.96833439456562, 'reg_lambda': 6.935729205692532, 'min_split_gain': 7.088634747469321, 'min_child_weight': 30.437742771305505, 'min_data_in_leaf': 49}. Best is trial 23 with value: 3.6567426820375384.\u001b[0m\n",
            "\u001b[32m[I 2021-01-22 11:22:28,685]\u001b[0m Trial 33 finished with value: 3.6572361198842223 and parameters: {'num_leaves': 61, 'colsample_bytree': 0.531505629503104, 'subsample': 0.6010034375060433, 'max_depth': 6, 'reg_alpha': 9.936146049207546, 'reg_lambda': 6.690412861122566, 'min_split_gain': 7.168461048795185, 'min_child_weight': 28.670596568006616, 'min_data_in_leaf': 50}. Best is trial 23 with value: 3.6567426820375384.\u001b[0m\n",
            "\u001b[32m[I 2021-01-22 11:24:59,839]\u001b[0m Trial 34 finished with value: 3.657429134575342 and parameters: {'num_leaves': 55, 'colsample_bytree': 0.36685320763771356, 'subsample': 0.8577463861814547, 'max_depth': 7, 'reg_alpha': 8.74618624421322, 'reg_lambda': 8.533891770102201, 'min_split_gain': 5.608034666081176, 'min_child_weight': 23.150019528170116, 'min_data_in_leaf': 32}. Best is trial 23 with value: 3.6567426820375384.\u001b[0m\n"
          ],
          "name": "stderr"
        },
        {
          "output_type": "stream",
          "text": [
            "Number of finished trials: 35\n",
            "Best trial:\n",
            "  Value: 3.6567426820375384\n",
            "  Params: \n",
            "    num_leaves: 53\n",
            "    colsample_bytree: 0.17673834076860082\n",
            "    subsample: 0.7087951348526023\n",
            "    max_depth: 6\n",
            "    reg_alpha: 9.908320306141416\n",
            "    reg_lambda: 6.0071344861003615\n",
            "    min_split_gain: 4.3475986877999055\n",
            "    min_child_weight: 39.106365420975735\n",
            "    min_data_in_leaf: 18\n"
          ],
          "name": "stdout"
        }
      ]
    },
    {
      "cell_type": "markdown",
      "metadata": {
        "id": "iX8QR_Rc-XEX"
      },
      "source": [
        "### Training With best params"
      ]
    },
    {
      "cell_type": "code",
      "metadata": {
        "colab": {
          "base_uri": "https://localhost:8080/"
        },
        "id": "PGhUsWzM-NsU",
        "outputId": "7ec1adab-2492-42b2-9c4a-a1b3ccdc7901"
      },
      "source": [
        "# using stratified k-folds with n_splits\n",
        "folds = RepeatedKFold(n_splits=5, n_repeats=2, random_state=4950)\n",
        "# list to save predictions\n",
        "oof3 = np.zeros(len(train))\n",
        "predictions8 = np.zeros(len(test))\n",
        "# this data_frame stores the feature importance\n",
        "feature_importance_df6 = pd.DataFrame()\n",
        "\n",
        "#creating folds\n",
        "for fold_, (trn_idx, val_idx) in enumerate(folds.split(train.values, train['outliers'].values)):\n",
        "    \n",
        "    print(\"fold {}\".format(fold_))\n",
        "    # creating fold datasets \n",
        "    trn_data = lgb.Dataset(train.iloc[trn_idx][train_cols ], label=target.iloc[trn_idx])\n",
        "    val_data = lgb.Dataset(train.iloc[val_idx][train_cols ], label=target.iloc[val_idx])\n",
        "\n",
        "    param ={\n",
        "                'task': 'train',\n",
        "                'boosting': 'goss',\n",
        "                'objective': 'regression',\n",
        "                'metric': 'rmse',\n",
        "                'learning_rate': 0.01,\n",
        "                'subsample': 0.7087951348526023,\n",
        "                'max_depth': 6,\n",
        "                'top_rate': 0.9064148448434349,\n",
        "                'num_leaves': 53,\n",
        "                'min_child_weight': 39.106365420975735,\n",
        "                'other_rate': 0.0721768246018207,\n",
        "                'reg_alpha': 9.908320306141416,\n",
        "                'colsample_bytree': 0.17673834076860082,\n",
        "                'min_split_gain': 4.3475986877999055,\n",
        "                'reg_lambda': 6.0071344861003615,\n",
        "                'min_data_in_leaf': 18,\n",
        "                'verbose': -1,\n",
        "                'seed':int(2**fold_),\n",
        "                'bagging_seed':int(2**fold_),\n",
        "                'drop_seed':int(2**fold_)\n",
        "                }\n",
        "    \n",
        "    num_round = 10000\n",
        "    clf = lgb.train(param, trn_data, num_round, valid_sets = [trn_data, val_data], verbose_eval=-1, early_stopping_rounds = 200)\n",
        "    # predictions on cv dataset\n",
        "    oof3[val_idx] = clf.predict(train.iloc[val_idx][train_cols ], num_iteration=clf.best_iteration)\n",
        "    \n",
        "    # calculating feature importance\n",
        "    fold_importance_df = pd.DataFrame()\n",
        "    fold_importance_df[\"Feature\"] = train_cols \n",
        "    fold_importance_df[\"importance\"] = clf.feature_importance()\n",
        "    fold_importance_df[\"fold\"] = fold_ + 1\n",
        "    feature_importance_df6 = pd.concat([feature_importance_df6, fold_importance_df], axis=0)\n",
        "    \n",
        "    # predictions on test sets\n",
        "    predictions8 += clf.predict(test[train_cols], num_iteration=clf.best_iteration) / 10\n",
        "\n",
        "# calculating rmse on cv\n",
        "np.sqrt(mean_squared_error(oof3, target))"
      ],
      "execution_count": null,
      "outputs": [
        {
          "output_type": "stream",
          "text": [
            "fold 0\n",
            "Training until validation scores don't improve for 200 rounds.\n",
            "Early stopping, best iteration is:\n",
            "[926]\ttraining's rmse: 3.47691\tvalid_1's rmse: 3.66789\n",
            "fold 1\n",
            "Training until validation scores don't improve for 200 rounds.\n",
            "Early stopping, best iteration is:\n",
            "[1550]\ttraining's rmse: 3.37689\tvalid_1's rmse: 3.79797\n",
            "fold 2\n",
            "Training until validation scores don't improve for 200 rounds.\n",
            "Early stopping, best iteration is:\n",
            "[1131]\ttraining's rmse: 3.48335\tvalid_1's rmse: 3.5575\n",
            "fold 3\n",
            "Training until validation scores don't improve for 200 rounds.\n",
            "Early stopping, best iteration is:\n",
            "[1111]\ttraining's rmse: 3.45428\tvalid_1's rmse: 3.6226\n",
            "fold 4\n",
            "Training until validation scores don't improve for 200 rounds.\n",
            "Early stopping, best iteration is:\n",
            "[1472]\ttraining's rmse: 3.42632\tvalid_1's rmse: 3.61497\n",
            "fold 5\n",
            "Training until validation scores don't improve for 200 rounds.\n",
            "Early stopping, best iteration is:\n",
            "[1218]\ttraining's rmse: 3.42009\tvalid_1's rmse: 3.73535\n",
            "fold 6\n",
            "Training until validation scores don't improve for 200 rounds.\n",
            "Early stopping, best iteration is:\n",
            "[1390]\ttraining's rmse: 3.42786\tvalid_1's rmse: 3.62146\n",
            "fold 7\n",
            "Training until validation scores don't improve for 200 rounds.\n",
            "Early stopping, best iteration is:\n",
            "[1631]\ttraining's rmse: 3.40809\tvalid_1's rmse: 3.63824\n",
            "fold 8\n",
            "Training until validation scores don't improve for 200 rounds.\n",
            "Early stopping, best iteration is:\n",
            "[1787]\ttraining's rmse: 3.38287\tvalid_1's rmse: 3.66255\n",
            "fold 9\n",
            "Training until validation scores don't improve for 200 rounds.\n",
            "Early stopping, best iteration is:\n",
            "[1070]\ttraining's rmse: 3.47238\tvalid_1's rmse: 3.59474\n"
          ],
          "name": "stdout"
        },
        {
          "output_type": "execute_result",
          "data": {
            "text/plain": [
              "3.6507806526605098"
            ]
          },
          "metadata": {
            "tags": []
          },
          "execution_count": 16
        }
      ]
    },
    {
      "cell_type": "code",
      "metadata": {
        "colab": {
          "base_uri": "https://localhost:8080/",
          "height": 204
        },
        "id": "_uCoKhFH_dyH",
        "outputId": "3616552a-1ad5-43c0-ea38-e63b7cce79a4"
      },
      "source": [
        "submission_name = pd.to_datetime(\"today\")\n",
        "sub_df4 = pd.DataFrame({\"card_id\":card_id})\n",
        "sub_df4[\"target\"] = predictions8\n",
        "sub_df4.head()"
      ],
      "execution_count": null,
      "outputs": [
        {
          "output_type": "execute_result",
          "data": {
            "text/html": [
              "<div>\n",
              "<style scoped>\n",
              "    .dataframe tbody tr th:only-of-type {\n",
              "        vertical-align: middle;\n",
              "    }\n",
              "\n",
              "    .dataframe tbody tr th {\n",
              "        vertical-align: top;\n",
              "    }\n",
              "\n",
              "    .dataframe thead th {\n",
              "        text-align: right;\n",
              "    }\n",
              "</style>\n",
              "<table border=\"1\" class=\"dataframe\">\n",
              "  <thead>\n",
              "    <tr style=\"text-align: right;\">\n",
              "      <th></th>\n",
              "      <th>card_id</th>\n",
              "      <th>target</th>\n",
              "    </tr>\n",
              "  </thead>\n",
              "  <tbody>\n",
              "    <tr>\n",
              "      <th>0</th>\n",
              "      <td>C_ID_0ab67a22ab</td>\n",
              "      <td>-3.621152</td>\n",
              "    </tr>\n",
              "    <tr>\n",
              "      <th>1</th>\n",
              "      <td>C_ID_130fd0cbdd</td>\n",
              "      <td>-0.212622</td>\n",
              "    </tr>\n",
              "    <tr>\n",
              "      <th>2</th>\n",
              "      <td>C_ID_b709037bc5</td>\n",
              "      <td>-0.835433</td>\n",
              "    </tr>\n",
              "    <tr>\n",
              "      <th>3</th>\n",
              "      <td>C_ID_d27d835a9f</td>\n",
              "      <td>-0.103825</td>\n",
              "    </tr>\n",
              "    <tr>\n",
              "      <th>4</th>\n",
              "      <td>C_ID_2b5e3df5c2</td>\n",
              "      <td>-1.088865</td>\n",
              "    </tr>\n",
              "  </tbody>\n",
              "</table>\n",
              "</div>"
            ],
            "text/plain": [
              "           card_id    target\n",
              "0  C_ID_0ab67a22ab -3.621152\n",
              "1  C_ID_130fd0cbdd -0.212622\n",
              "2  C_ID_b709037bc5 -0.835433\n",
              "3  C_ID_d27d835a9f -0.103825\n",
              "4  C_ID_2b5e3df5c2 -1.088865"
            ]
          },
          "metadata": {
            "tags": []
          },
          "execution_count": 17
        }
      ]
    },
    {
      "cell_type": "code",
      "metadata": {
        "colab": {
          "base_uri": "https://localhost:8080/"
        },
        "id": "9pNKrBXz8B0F",
        "outputId": "5e60b6f4-1600-461e-ca06-2b84ba29452b"
      },
      "source": [
        "sub_df4.to_csv('/content/submission_lGB_repeated_tuned.csv(1)', index=False)\r\n",
        "!kaggle competitions submit elo-merchant-category-recommendation -f '/content/submission_lGB_repeated_tuned.csv(1)' -m \"model_11\""
      ],
      "execution_count": null,
      "outputs": [
        {
          "output_type": "stream",
          "text": [
            "Warning: Looks like you're using an outdated API Version, please consider updating (server 1.5.10 / client 1.5.4)\n",
            "100% 4.24M/4.24M [00:00<00:00, 14.1MB/s]\n",
            "Successfully submitted to Elo Merchant Category Recommendation"
          ],
          "name": "stdout"
        }
      ]
    },
    {
      "cell_type": "markdown",
      "metadata": {
        "id": "D39SIF7JDD_M"
      },
      "source": [
        "![image.png](data:image/png;base64,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)"
      ]
    },
    {
      "cell_type": "markdown",
      "metadata": {
        "id": "5vBI_pEcrFZc"
      },
      "source": [
        "### LightGBM with Stratified k-fold"
      ]
    },
    {
      "cell_type": "code",
      "metadata": {
        "colab": {
          "base_uri": "https://localhost:8080/"
        },
        "id": "5xpNTj43uErg",
        "outputId": "d9b20573-022a-45d7-d767-e79043f9cea8"
      },
      "source": [
        "# kernel : https://www.kaggle.com/mfjwr1/simple-lightgbm-without-blending/output\n",
        "# using stratified k-folds with n_splits\n",
        "folds = StratifiedKFold(n_splits=5, shuffle = True, random_state=4950)\n",
        "# list to save predictions\n",
        "oof = np.zeros(len(train))\n",
        "predictions = np.zeros(len(test))\n",
        "# this data_frame stores the feature importance\n",
        "feature_importance_df = pd.DataFrame()\n",
        "\n",
        "#creating folds\n",
        "for fold_, (trn_idx, val_idx) in enumerate(folds.split(train.values, train['outliers'].values)):\n",
        "    \n",
        "    print(\"fold {}\".format(fold_))\n",
        "    # creating fold datasets \n",
        "    trn_data = lgb.Dataset(train.iloc[trn_idx][train_cols ], label=target.iloc[trn_idx])\n",
        "    val_data = lgb.Dataset(train.iloc[val_idx][train_cols ], label=target.iloc[val_idx])\n",
        "    \n",
        "    # this params is taken from kernel mentioned above\n",
        "    param ={\n",
        "                'task': 'train',\n",
        "                'boosting': 'goss',\n",
        "                'objective': 'regression',\n",
        "                'metric': 'rmse',\n",
        "                'learning_rate': 0.01,\n",
        "                'subsample': 0.7087951348526023,\n",
        "                'max_depth': 6,\n",
        "                'top_rate': 0.9064148448434349,\n",
        "                'num_leaves': 53,\n",
        "                'min_child_weight': 39.106365420975735,\n",
        "                'other_rate': 0.0721768246018207,\n",
        "                'reg_alpha': 9.908320306141416,\n",
        "                'colsample_bytree': 0.17673834076860082,\n",
        "                'min_split_gain': 4.3475986877999055,\n",
        "                'reg_lambda': 6.0071344861003615,\n",
        "                'min_data_in_leaf': 18,\n",
        "                'verbose': -1,\n",
        "                'seed':int(2**fold_),\n",
        "                'bagging_seed':int(2**fold_),\n",
        "                'drop_seed':int(2**fold_)\n",
        "                }\n",
        "    \n",
        "    num_round = 10000\n",
        "    clf = lgb.train(param, trn_data, num_round, valid_sets = [trn_data, val_data], verbose_eval=-1, early_stopping_rounds = 200)\n",
        "    # predictions on cv dataset\n",
        "    oof[val_idx] = clf.predict(train.iloc[val_idx][train_cols ], num_iteration=clf.best_iteration)\n",
        "    \n",
        "    # calculating feature importance\n",
        "    fold_importance_df = pd.DataFrame()\n",
        "    fold_importance_df[\"Feature\"] = train_cols \n",
        "    fold_importance_df[\"importance\"] = clf.feature_importance()\n",
        "    fold_importance_df[\"fold\"] = fold_ + 1\n",
        "    feature_importance_df = pd.concat([feature_importance_df, fold_importance_df], axis=0)\n",
        "    \n",
        "    # predictions on test sets\n",
        "    predictions += clf.predict(test[train_cols], num_iteration=clf.best_iteration) / folds.n_splits\n",
        "\n",
        "# calculating rmse on cv\n",
        "np.sqrt(mean_squared_error(oof, target))"
      ],
      "execution_count": null,
      "outputs": [
        {
          "output_type": "stream",
          "text": [
            "fold 0\n",
            "Training until validation scores don't improve for 200 rounds.\n",
            "Early stopping, best iteration is:\n",
            "[2082]\ttraining's rmse: 3.35248\tvalid_1's rmse: 3.65424\n",
            "fold 1\n",
            "Training until validation scores don't improve for 200 rounds.\n",
            "Early stopping, best iteration is:\n",
            "[1527]\ttraining's rmse: 3.41448\tvalid_1's rmse: 3.64796\n",
            "fold 2\n",
            "Training until validation scores don't improve for 200 rounds.\n",
            "Early stopping, best iteration is:\n",
            "[955]\ttraining's rmse: 3.47412\tvalid_1's rmse: 3.65986\n",
            "fold 3\n",
            "Training until validation scores don't improve for 200 rounds.\n",
            "Early stopping, best iteration is:\n",
            "[1175]\ttraining's rmse: 3.45007\tvalid_1's rmse: 3.64691\n",
            "fold 4\n",
            "Training until validation scores don't improve for 200 rounds.\n",
            "Early stopping, best iteration is:\n",
            "[1227]\ttraining's rmse: 3.44788\tvalid_1's rmse: 3.65162\n"
          ],
          "name": "stdout"
        },
        {
          "output_type": "execute_result",
          "data": {
            "text/plain": [
              "3.652122985599067"
            ]
          },
          "metadata": {
            "tags": []
          },
          "execution_count": 19
        }
      ]
    },
    {
      "cell_type": "code",
      "metadata": {
        "id": "cbdfKQdRxL46",
        "colab": {
          "base_uri": "https://localhost:8080/"
        },
        "outputId": "6cdc57cb-88c5-4bac-c53d-607195080347"
      },
      "source": [
        "# kaggle submission\n",
        "submission_name = pd.to_datetime(\"today\")\n",
        "sub_df = pd.DataFrame({\"card_id\":card_id})\n",
        "sub_df[\"target\"] = predictions\n",
        "sub_df.to_csv('/content/submission_lGB_stratified_tuned.csv(1)', index=False)\n",
        "!kaggle competitions submit elo-merchant-category-recommendation -f '/content/submission_lGB_stratified_tuned.csv(1)' -m \"model_12\""
      ],
      "execution_count": null,
      "outputs": [
        {
          "output_type": "stream",
          "text": [
            "Warning: Looks like you're using an outdated API Version, please consider updating (server 1.5.10 / client 1.5.4)\n",
            "100% 4.24M/4.24M [00:00<00:00, 14.1MB/s]\n",
            "Successfully submitted to Elo Merchant Category Recommendation"
          ],
          "name": "stdout"
        }
      ]
    },
    {
      "cell_type": "code",
      "metadata": {
        "colab": {
          "base_uri": "https://localhost:8080/",
          "height": 204
        },
        "id": "88Yq_YAFxRIb",
        "outputId": "5a02a827-a50f-4523-c7fc-98fe9926df36"
      },
      "source": [
        "sub_df.head()"
      ],
      "execution_count": null,
      "outputs": [
        {
          "output_type": "execute_result",
          "data": {
            "text/html": [
              "<div>\n",
              "<style scoped>\n",
              "    .dataframe tbody tr th:only-of-type {\n",
              "        vertical-align: middle;\n",
              "    }\n",
              "\n",
              "    .dataframe tbody tr th {\n",
              "        vertical-align: top;\n",
              "    }\n",
              "\n",
              "    .dataframe thead th {\n",
              "        text-align: right;\n",
              "    }\n",
              "</style>\n",
              "<table border=\"1\" class=\"dataframe\">\n",
              "  <thead>\n",
              "    <tr style=\"text-align: right;\">\n",
              "      <th></th>\n",
              "      <th>card_id</th>\n",
              "      <th>target</th>\n",
              "    </tr>\n",
              "  </thead>\n",
              "  <tbody>\n",
              "    <tr>\n",
              "      <th>0</th>\n",
              "      <td>C_ID_0ab67a22ab</td>\n",
              "      <td>-3.654845</td>\n",
              "    </tr>\n",
              "    <tr>\n",
              "      <th>1</th>\n",
              "      <td>C_ID_130fd0cbdd</td>\n",
              "      <td>-0.252591</td>\n",
              "    </tr>\n",
              "    <tr>\n",
              "      <th>2</th>\n",
              "      <td>C_ID_b709037bc5</td>\n",
              "      <td>-0.834280</td>\n",
              "    </tr>\n",
              "    <tr>\n",
              "      <th>3</th>\n",
              "      <td>C_ID_d27d835a9f</td>\n",
              "      <td>-0.087706</td>\n",
              "    </tr>\n",
              "    <tr>\n",
              "      <th>4</th>\n",
              "      <td>C_ID_2b5e3df5c2</td>\n",
              "      <td>-1.106020</td>\n",
              "    </tr>\n",
              "  </tbody>\n",
              "</table>\n",
              "</div>"
            ],
            "text/plain": [
              "           card_id    target\n",
              "0  C_ID_0ab67a22ab -3.654845\n",
              "1  C_ID_130fd0cbdd -0.252591\n",
              "2  C_ID_b709037bc5 -0.834280\n",
              "3  C_ID_d27d835a9f -0.087706\n",
              "4  C_ID_2b5e3df5c2 -1.106020"
            ]
          },
          "metadata": {
            "tags": []
          },
          "execution_count": 21
        }
      ]
    },
    {
      "cell_type": "markdown",
      "metadata": {
        "id": "-WDpspv0DNAY"
      },
      "source": [
        "![image.png](data:image/png;base64,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)"
      ]
    },
    {
      "cell_type": "markdown",
      "metadata": {
        "id": "1KCdYZP-9qHb"
      },
      "source": [
        "###Combining Using baysian_Ridge"
      ]
    },
    {
      "cell_type": "code",
      "metadata": {
        "colab": {
          "base_uri": "https://localhost:8080/"
        },
        "id": "EuzB4Tl92S8G",
        "outputId": "8b604730-4fb3-4d52-8254-191132cebb43"
      },
      "source": [
        "# https://github.com/RoyMachineLearning/Elo-Merchant-Category-Recommendation/blob/master/ELO%20Goss%20Boosting%20V2.0.ipynb\n",
        "\n",
        "# stscking the results of stratifed kfold and repeated kfold\n",
        "train_stack = np.vstack([oof3,oof]).transpose()\n",
        "test_stack = np.vstack([predictions8, predictions]).transpose()\n",
        "\n",
        "folds_stack = RepeatedKFold(n_splits=5, n_repeats=1, random_state=4590)\n",
        "\n",
        "# intializing list to store results\n",
        "oof_stack = np.zeros(train_stack.shape[0])\n",
        "predictions_3 = np.zeros(test_stack.shape[0])\n",
        "\n",
        "for fold_, (trn_idx, val_idx) in enumerate(folds_stack.split(train_stack,target)):\n",
        "\n",
        "    # creating dataset with folds\n",
        "    trn_data, trn_y = train_stack[trn_idx], target.iloc[trn_idx].values\n",
        "    val_data, val_y = train_stack[val_idx], target.iloc[val_idx].values\n",
        "    \n",
        "    # fitting the model\n",
        "    clf_3 = BayesianRidge()\n",
        "    clf_3.fit(trn_data, trn_y)\n",
        "    \n",
        "    # predictions\n",
        "    oof_stack[val_idx] = clf_3.predict(val_data)\n",
        "    predictions_3 += clf_3.predict(test_stack) / 5\n",
        "\n",
        "# printing cv_rmse\n",
        "np.sqrt(mean_squared_error(target.values, oof_stack))"
      ],
      "execution_count": null,
      "outputs": [
        {
          "output_type": "execute_result",
          "data": {
            "text/plain": [
              "3.6492487301179954"
            ]
          },
          "metadata": {
            "tags": []
          },
          "execution_count": 22
        }
      ]
    },
    {
      "cell_type": "code",
      "metadata": {
        "colab": {
          "base_uri": "https://localhost:8080/"
        },
        "id": "NlamUuSz6lIh",
        "outputId": "24f7ac44-57df-4cfd-be09-0e25a4c58a86"
      },
      "source": [
        "# kaggle submission\n",
        "submission_name = pd.to_datetime(\"today\")\n",
        "sub_df3 = pd.DataFrame({\"card_id\":card_id})\n",
        "sub_df3[\"target\"] = predictions_3\n",
        "sub_df3.to_csv('/content/submission_baysian_stack_tuned(1).csv', index=False)\n",
        "!kaggle competitions submit elo-merchant-category-recommendation -f '/content/submission_baysian_stack_tuned(1).csv' -m \"model_13\""
      ],
      "execution_count": null,
      "outputs": [
        {
          "output_type": "stream",
          "text": [
            "Warning: Looks like you're using an outdated API Version, please consider updating (server 1.5.10 / client 1.5.4)\n",
            "100% 4.23M/4.23M [00:00<00:00, 14.1MB/s]\n",
            "Successfully submitted to Elo Merchant Category Recommendation"
          ],
          "name": "stdout"
        }
      ]
    },
    {
      "cell_type": "code",
      "metadata": {
        "colab": {
          "base_uri": "https://localhost:8080/",
          "height": 204
        },
        "id": "BvSEfzJ19hYv",
        "outputId": "3f07a383-5c7b-4a72-f730-4de69f4612c4"
      },
      "source": [
        "sub_df3.head()"
      ],
      "execution_count": null,
      "outputs": [
        {
          "output_type": "execute_result",
          "data": {
            "text/html": [
              "<div>\n",
              "<style scoped>\n",
              "    .dataframe tbody tr th:only-of-type {\n",
              "        vertical-align: middle;\n",
              "    }\n",
              "\n",
              "    .dataframe tbody tr th {\n",
              "        vertical-align: top;\n",
              "    }\n",
              "\n",
              "    .dataframe thead th {\n",
              "        text-align: right;\n",
              "    }\n",
              "</style>\n",
              "<table border=\"1\" class=\"dataframe\">\n",
              "  <thead>\n",
              "    <tr style=\"text-align: right;\">\n",
              "      <th></th>\n",
              "      <th>card_id</th>\n",
              "      <th>target</th>\n",
              "    </tr>\n",
              "  </thead>\n",
              "  <tbody>\n",
              "    <tr>\n",
              "      <th>0</th>\n",
              "      <td>C_ID_0ab67a22ab</td>\n",
              "      <td>-3.819021</td>\n",
              "    </tr>\n",
              "    <tr>\n",
              "      <th>1</th>\n",
              "      <td>C_ID_130fd0cbdd</td>\n",
              "      <td>-0.220663</td>\n",
              "    </tr>\n",
              "    <tr>\n",
              "      <th>2</th>\n",
              "      <td>C_ID_b709037bc5</td>\n",
              "      <td>-0.860736</td>\n",
              "    </tr>\n",
              "    <tr>\n",
              "      <th>3</th>\n",
              "      <td>C_ID_d27d835a9f</td>\n",
              "      <td>-0.081273</td>\n",
              "    </tr>\n",
              "    <tr>\n",
              "      <th>4</th>\n",
              "      <td>C_ID_2b5e3df5c2</td>\n",
              "      <td>-1.136465</td>\n",
              "    </tr>\n",
              "  </tbody>\n",
              "</table>\n",
              "</div>"
            ],
            "text/plain": [
              "           card_id    target\n",
              "0  C_ID_0ab67a22ab -3.819021\n",
              "1  C_ID_130fd0cbdd -0.220663\n",
              "2  C_ID_b709037bc5 -0.860736\n",
              "3  C_ID_d27d835a9f -0.081273\n",
              "4  C_ID_2b5e3df5c2 -1.136465"
            ]
          },
          "metadata": {
            "tags": []
          },
          "execution_count": 24
        }
      ]
    },
    {
      "cell_type": "markdown",
      "metadata": {
        "id": "xwKhR8ywDi2S"
      },
      "source": [
        "![image.png](data:image/png;base64,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)"
      ]
    },
    {
      "cell_type": "code",
      "metadata": {
        "id": "p4mJfVru9QWi"
      },
      "source": [
        "filename = '/content/drive/MyDrive/Colab Notebooks/CASE_STUDY_1/lgb_baysian1.sav'\n",
        "pickle.dump(clf_3, open(filename, 'wb'))"
      ],
      "execution_count": null,
      "outputs": []
    },
    {
      "cell_type": "markdown",
      "metadata": {
        "id": "PyTYyPHMDFBr"
      },
      "source": [
        "### Xgb model"
      ]
    },
    {
      "cell_type": "code",
      "metadata": {
        "id": "0AIqTZxgDJl7"
      },
      "source": [
        "# hyperparameter tuning using randomsearch\n",
        "# https://github.com/niranjanbsubramanian/kaggle/blob/master/Elo%20Merchant%20Category%20Recommendataion.ipynb\n",
        "\n",
        "xgb = xgb.XGBRegressor(learning_rate=0.01, n_estimators=100, objective= 'reg:linear', \\\n",
        "                       eval_metric ='rmse', silent=True, nthread=1, tree_method='gpu_hist')\n",
        "\n",
        "parameters = {\n",
        "         'num_boost_round': [10, 25, 50], 'eta': [0.05, 0.1, 0.3],\n",
        "         'max_depth': [3, 4, 5, 6,], 'subsample':[i/10.0 for i in range(6,10)],\n",
        "         'colsample_bytree':[i/10.0 for i in range(6,10)], \"min_samples_split\": sp_randint(2, 11),\n",
        "         \"min_samples_leaf\": sp_randint(1, 11), \"min_child_weight\": range(1,6,2),\n",
        "         'gamma':[i/10.0 for i in range(0,5)], 'reg_alpha':[1e-5, 1e-2, 0.1, 1, 100]\n",
        "    }\n",
        "\n",
        "random_search = RandomizedSearchCV(xgb, param_distributions=parameters, \\\n",
        "                cv=StratifiedKFold(n_splits=9, random_state=42).split(train[train_cols],outliers.values),\\\n",
        "                n_jobs=-1, n_iter=30, verbose=3)\n",
        "\n",
        "random_search.fit(train[train_cols], target)"
      ],
      "execution_count": null,
      "outputs": []
    },
    {
      "cell_type": "code",
      "metadata": {
        "colab": {
          "base_uri": "https://localhost:8080/"
        },
        "id": "PWlkgz5qxa_B",
        "outputId": "1735d5b3-34d7-4e58-a623-033f0875cfdb"
      },
      "source": [
        "random_search.best_params_"
      ],
      "execution_count": null,
      "outputs": [
        {
          "output_type": "execute_result",
          "data": {
            "text/plain": [
              "{'colsample_bytree': 0.7,\n",
              " 'eta': 0.3,\n",
              " 'gamma': 0.3,\n",
              " 'max_depth': 6,\n",
              " 'min_child_weight': 5,\n",
              " 'min_samples_leaf': 1,\n",
              " 'min_samples_split': 2,\n",
              " 'num_boost_round': 50,\n",
              " 'reg_alpha': 1e-05,\n",
              " 'subsample': 0.7}"
            ]
          },
          "metadata": {
            "tags": []
          },
          "execution_count": 49
        }
      ]
    },
    {
      "cell_type": "code",
      "metadata": {
        "colab": {
          "base_uri": "https://localhost:8080/"
        },
        "id": "uwuqI6S_FlTn",
        "outputId": "f049d7fb-0884-48fe-f486-32e3a3df699a"
      },
      "source": [
        "# training with best params\n",
        "xgb_params = {\n",
        "              'eta': 0.3, 'max_depth': 6, 'subsample': 0.7, 'colsample_bytree': 0.9, \\\n",
        "              'learning_rate':0.01, 'gamma':0.3, 'min_samples_leaf' : 1, 'min_samples_split': 2, \\\n",
        "              'num_boost_round': 50, 'reg_alpha': 1e-05,'objective': 'reg:linear', 'eval_metric': 'rmse', \\\n",
        "              'silent': True, 'tree_method':'gpu_hist'\n",
        "              }\n",
        "\n",
        "# using k_folds\n",
        "FOLDs = KFold(n_splits=9, shuffle=True, random_state=0)\n",
        "\n",
        "# intializing list to store results\n",
        "oof_xgb = np.zeros(len(train))\n",
        "predictions_xgb = np.zeros(len(test))\n",
        "\n",
        "\n",
        "for fold_, (trn_idx, val_idx) in enumerate(FOLDs.split(train,outliers.values)):\n",
        "\n",
        "    # creating xgb datamatrix with folds\n",
        "    trn_data = xgb.DMatrix(data=train.iloc[trn_idx][train_cols], label=target.iloc[trn_idx])\n",
        "    val_data = xgb.DMatrix(data=train.iloc[val_idx][train_cols], label=target.iloc[val_idx])\n",
        "\n",
        "    watchlist = [(trn_data, 'train'), (val_data, 'valid')]\n",
        "    print(\"xgb \" + str(fold_) + \"-\" * 50)\n",
        "    num_round = 10000\n",
        "\n",
        "    # training and predicting on cv\n",
        "    xgb_model = xgb.train(xgb_params, trn_data, num_round, watchlist, \\\n",
        "                          early_stopping_rounds=200, verbose_eval=200)\n",
        "    oof_xgb[val_idx] = xgb_model.predict(xgb.DMatrix(train.iloc[val_idx][train_cols]), \\\n",
        "                                         ntree_limit=xgb_model.best_ntree_limit+50)\n",
        "    \n",
        "    # predicting on test_data\n",
        "    predictions_xgb = predictions_xgb + xgb_model.predict(xgb.DMatrix(test[train_cols]), \\\n",
        "                            ntree_limit=xgb_model.best_ntree_limit+50) / FOLDs.n_splits\n",
        "\n",
        "# printing cv_rmse\n",
        "np.sqrt(mean_squared_error(oof_xgb, target))"
      ],
      "execution_count": null,
      "outputs": [
        {
          "output_type": "stream",
          "text": [
            "xgb 0--------------------------------------------------\n",
            "[0]\ttrain-rmse:3.9514\tvalid-rmse:3.91646\n",
            "Multiple eval metrics have been passed: 'valid-rmse' will be used for early stopping.\n",
            "\n",
            "Will train until valid-rmse hasn't improved in 200 rounds.\n",
            "[200]\ttrain-rmse:3.59351\tvalid-rmse:3.62161\n",
            "[400]\ttrain-rmse:3.50293\tvalid-rmse:3.59887\n",
            "[600]\ttrain-rmse:3.43893\tvalid-rmse:3.59094\n",
            "[800]\ttrain-rmse:3.38177\tvalid-rmse:3.58799\n",
            "[1000]\ttrain-rmse:3.33188\tvalid-rmse:3.58635\n",
            "[1200]\ttrain-rmse:3.28134\tvalid-rmse:3.58626\n",
            "[1400]\ttrain-rmse:3.23623\tvalid-rmse:3.58579\n",
            "[1600]\ttrain-rmse:3.19108\tvalid-rmse:3.58525\n",
            "Stopping. Best iteration:\n",
            "[1540]\ttrain-rmse:3.20463\tvalid-rmse:3.5848\n",
            "\n",
            "xgb 1--------------------------------------------------\n",
            "[0]\ttrain-rmse:3.94496\tvalid-rmse:3.96655\n",
            "Multiple eval metrics have been passed: 'valid-rmse' will be used for early stopping.\n",
            "\n",
            "Will train until valid-rmse hasn't improved in 200 rounds.\n",
            "[200]\ttrain-rmse:3.58011\tvalid-rmse:3.69809\n",
            "[400]\ttrain-rmse:3.4869\tvalid-rmse:3.68245\n",
            "[600]\ttrain-rmse:3.42076\tvalid-rmse:3.67815\n",
            "[800]\ttrain-rmse:3.36402\tvalid-rmse:3.67641\n",
            "[1000]\ttrain-rmse:3.3127\tvalid-rmse:3.67577\n",
            "[1200]\ttrain-rmse:3.2639\tvalid-rmse:3.67786\n",
            "Stopping. Best iteration:\n",
            "[1033]\ttrain-rmse:3.30513\tvalid-rmse:3.67566\n",
            "\n",
            "xgb 2--------------------------------------------------\n",
            "[0]\ttrain-rmse:3.94794\tvalid-rmse:3.94285\n",
            "Multiple eval metrics have been passed: 'valid-rmse' will be used for early stopping.\n",
            "\n",
            "Will train until valid-rmse hasn't improved in 200 rounds.\n",
            "[200]\ttrain-rmse:3.58201\tvalid-rmse:3.6837\n",
            "[400]\ttrain-rmse:3.49036\tvalid-rmse:3.66485\n",
            "[600]\ttrain-rmse:3.4262\tvalid-rmse:3.6613\n",
            "[800]\ttrain-rmse:3.37149\tvalid-rmse:3.6583\n",
            "[1000]\ttrain-rmse:3.31946\tvalid-rmse:3.65931\n",
            "Stopping. Best iteration:\n",
            "[895]\ttrain-rmse:3.34624\tvalid-rmse:3.65795\n",
            "\n",
            "xgb 3--------------------------------------------------\n",
            "[0]\ttrain-rmse:3.94545\tvalid-rmse:3.96673\n",
            "Multiple eval metrics have been passed: 'valid-rmse' will be used for early stopping.\n",
            "\n",
            "Will train until valid-rmse hasn't improved in 200 rounds.\n",
            "[200]\ttrain-rmse:3.58409\tvalid-rmse:3.69531\n",
            "[400]\ttrain-rmse:3.49348\tvalid-rmse:3.67524\n",
            "[600]\ttrain-rmse:3.42822\tvalid-rmse:3.66907\n",
            "[800]\ttrain-rmse:3.37408\tvalid-rmse:3.66642\n",
            "[1000]\ttrain-rmse:3.32259\tvalid-rmse:3.66592\n",
            "[1200]\ttrain-rmse:3.27477\tvalid-rmse:3.66622\n",
            "Stopping. Best iteration:\n",
            "[1055]\ttrain-rmse:3.30978\tvalid-rmse:3.66533\n",
            "\n",
            "xgb 4--------------------------------------------------\n",
            "[0]\ttrain-rmse:3.94277\tvalid-rmse:3.98494\n",
            "Multiple eval metrics have been passed: 'valid-rmse' will be used for early stopping.\n",
            "\n",
            "Will train until valid-rmse hasn't improved in 200 rounds.\n",
            "[200]\ttrain-rmse:3.57249\tvalid-rmse:3.74014\n",
            "[400]\ttrain-rmse:3.47992\tvalid-rmse:3.72626\n",
            "[600]\ttrain-rmse:3.41433\tvalid-rmse:3.72385\n",
            "[800]\ttrain-rmse:3.35603\tvalid-rmse:3.72342\n",
            "[1000]\ttrain-rmse:3.30326\tvalid-rmse:3.72459\n",
            "Stopping. Best iteration:\n",
            "[868]\ttrain-rmse:3.33825\tvalid-rmse:3.72275\n",
            "\n",
            "xgb 5--------------------------------------------------\n",
            "[0]\ttrain-rmse:3.96285\tvalid-rmse:3.82218\n",
            "Multiple eval metrics have been passed: 'valid-rmse' will be used for early stopping.\n",
            "\n",
            "Will train until valid-rmse hasn't improved in 200 rounds.\n",
            "[200]\ttrain-rmse:3.59547\tvalid-rmse:3.5708\n",
            "[400]\ttrain-rmse:3.50544\tvalid-rmse:3.55911\n",
            "[600]\ttrain-rmse:3.43911\tvalid-rmse:3.55797\n",
            "Stopping. Best iteration:\n",
            "[523]\ttrain-rmse:3.46342\tvalid-rmse:3.55782\n",
            "\n",
            "xgb 6--------------------------------------------------\n",
            "[0]\ttrain-rmse:3.94559\tvalid-rmse:3.96179\n",
            "Multiple eval metrics have been passed: 'valid-rmse' will be used for early stopping.\n",
            "\n",
            "Will train until valid-rmse hasn't improved in 200 rounds.\n",
            "[200]\ttrain-rmse:3.57868\tvalid-rmse:3.70305\n",
            "[400]\ttrain-rmse:3.48496\tvalid-rmse:3.68477\n",
            "[600]\ttrain-rmse:3.42399\tvalid-rmse:3.68204\n",
            "[800]\ttrain-rmse:3.36691\tvalid-rmse:3.68187\n",
            "[1000]\ttrain-rmse:3.31585\tvalid-rmse:3.68141\n",
            "[1200]\ttrain-rmse:3.26523\tvalid-rmse:3.6815\n",
            "[1400]\ttrain-rmse:3.21601\tvalid-rmse:3.6815\n",
            "Stopping. Best iteration:\n",
            "[1208]\ttrain-rmse:3.26325\tvalid-rmse:3.68118\n",
            "\n",
            "xgb 7--------------------------------------------------\n",
            "[0]\ttrain-rmse:3.9437\tvalid-rmse:3.98\n",
            "Multiple eval metrics have been passed: 'valid-rmse' will be used for early stopping.\n",
            "\n",
            "Will train until valid-rmse hasn't improved in 200 rounds.\n",
            "[200]\ttrain-rmse:3.57769\tvalid-rmse:3.71636\n",
            "[400]\ttrain-rmse:3.48707\tvalid-rmse:3.69943\n",
            "[600]\ttrain-rmse:3.42223\tvalid-rmse:3.69595\n",
            "[800]\ttrain-rmse:3.3662\tvalid-rmse:3.69546\n",
            "Stopping. Best iteration:\n",
            "[721]\ttrain-rmse:3.38807\tvalid-rmse:3.69493\n",
            "\n",
            "xgb 8--------------------------------------------------\n",
            "[0]\ttrain-rmse:3.94267\tvalid-rmse:3.98745\n",
            "Multiple eval metrics have been passed: 'valid-rmse' will be used for early stopping.\n",
            "\n",
            "Will train until valid-rmse hasn't improved in 200 rounds.\n",
            "[200]\ttrain-rmse:3.58404\tvalid-rmse:3.69303\n",
            "[400]\ttrain-rmse:3.49481\tvalid-rmse:3.67321\n",
            "[600]\ttrain-rmse:3.4307\tvalid-rmse:3.66987\n",
            "[800]\ttrain-rmse:3.37341\tvalid-rmse:3.66712\n",
            "[1000]\ttrain-rmse:3.32194\tvalid-rmse:3.66639\n",
            "[1200]\ttrain-rmse:3.27286\tvalid-rmse:3.66629\n",
            "[1400]\ttrain-rmse:3.22554\tvalid-rmse:3.66613\n",
            "Stopping. Best iteration:\n",
            "[1387]\ttrain-rmse:3.22871\tvalid-rmse:3.66579\n",
            "\n"
          ],
          "name": "stdout"
        },
        {
          "output_type": "execute_result",
          "data": {
            "text/plain": [
              "3.657161154388778"
            ]
          },
          "metadata": {
            "tags": []
          },
          "execution_count": 16
        }
      ]
    },
    {
      "cell_type": "code",
      "metadata": {
        "colab": {
          "base_uri": "https://localhost:8080/",
          "height": 255
        },
        "id": "BIO8OVsj6sl6",
        "outputId": "7cda46cb-2e25-40f9-9606-8ede482668f3"
      },
      "source": [
        "submission_name = pd.to_datetime(\"today\")\n",
        "sub_df5 = pd.DataFrame({\"card_id\":card_id})\n",
        "sub_df5[\"target\"] = predictions_xgb\n",
        "sub_df5.to_csv('/content/submission_Xgb.csv', index=False)\n",
        "!kaggle competitions submit elo-merchant-category-recommendation -f '/content/submission_Xgb.csv' -m \"model_8\"\n",
        "sub_df5.head()"
      ],
      "execution_count": null,
      "outputs": [
        {
          "output_type": "stream",
          "text": [
            "Warning: Looks like you're using an outdated API Version, please consider updating (server 1.5.10 / client 1.5.4)\n",
            "100% 4.24M/4.24M [00:05<00:00, 884kB/s]\n",
            "Successfully submitted to Elo Merchant Category Recommendation"
          ],
          "name": "stdout"
        },
        {
          "output_type": "execute_result",
          "data": {
            "text/html": [
              "<div>\n",
              "<style scoped>\n",
              "    .dataframe tbody tr th:only-of-type {\n",
              "        vertical-align: middle;\n",
              "    }\n",
              "\n",
              "    .dataframe tbody tr th {\n",
              "        vertical-align: top;\n",
              "    }\n",
              "\n",
              "    .dataframe thead th {\n",
              "        text-align: right;\n",
              "    }\n",
              "</style>\n",
              "<table border=\"1\" class=\"dataframe\">\n",
              "  <thead>\n",
              "    <tr style=\"text-align: right;\">\n",
              "      <th></th>\n",
              "      <th>card_id</th>\n",
              "      <th>target</th>\n",
              "    </tr>\n",
              "  </thead>\n",
              "  <tbody>\n",
              "    <tr>\n",
              "      <th>0</th>\n",
              "      <td>C_ID_0ab67a22ab</td>\n",
              "      <td>-4.470792</td>\n",
              "    </tr>\n",
              "    <tr>\n",
              "      <th>1</th>\n",
              "      <td>C_ID_130fd0cbdd</td>\n",
              "      <td>-0.301885</td>\n",
              "    </tr>\n",
              "    <tr>\n",
              "      <th>2</th>\n",
              "      <td>C_ID_b709037bc5</td>\n",
              "      <td>-0.900795</td>\n",
              "    </tr>\n",
              "    <tr>\n",
              "      <th>3</th>\n",
              "      <td>C_ID_d27d835a9f</td>\n",
              "      <td>-0.097475</td>\n",
              "    </tr>\n",
              "    <tr>\n",
              "      <th>4</th>\n",
              "      <td>C_ID_2b5e3df5c2</td>\n",
              "      <td>-1.136551</td>\n",
              "    </tr>\n",
              "  </tbody>\n",
              "</table>\n",
              "</div>"
            ],
            "text/plain": [
              "           card_id    target\n",
              "0  C_ID_0ab67a22ab -4.470792\n",
              "1  C_ID_130fd0cbdd -0.301885\n",
              "2  C_ID_b709037bc5 -0.900795\n",
              "3  C_ID_d27d835a9f -0.097475\n",
              "4  C_ID_2b5e3df5c2 -1.136551"
            ]
          },
          "metadata": {
            "tags": []
          },
          "execution_count": 17
        }
      ]
    },
    {
      "cell_type": "markdown",
      "metadata": {
        "id": "z6L7wYWi86q_"
      },
      "source": [
        "![image.png](data:image/png;base64,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)"
      ]
    },
    {
      "cell_type": "markdown",
      "metadata": {
        "id": "hlzr5hbnuvyx"
      },
      "source": [
        "### Custom Ensemble model"
      ]
    },
    {
      "cell_type": "markdown",
      "metadata": {
        "id": "wk_ln4u_4r5E"
      },
      "source": [
        "**Hyper parameter tuning for no_of_base_learners**"
      ]
    },
    {
      "cell_type": "markdown",
      "metadata": {
        "id": "_D-7aX_Y9krH"
      },
      "source": [
        "1. Split your whole data into train and test(80-20)\n",
        "2. Now in the 80% train set, split the train set into D1 and D2.(50-50)\n",
        "3. Now from this D1 do sampling with replacement to create d1,d2,d3....dk(k samples).\n",
        "4. Now create 'k' models and train each of these models with each of these k samples.\n",
        "5. Now pass the D2 set to each of these k models, now you will get k predictions for D2, from each of these models.\n",
        "6. Now using these k predictions create a new dataset, and for D2, you already know it's corresponding target values, so now you train a meta model with these k predictions.\n",
        "7. Now for model evaluation, you have can use the 20% data that you have kept as the test set. Pass that test set to each of the base models and you will get 'k' predictions. Now you create a new dataset with these k predictions and pass it to your metamodel and you will get the final prediction. Now using this final prediction as well as the targets for the test set, you can calculate the models performance score."
      ]
    },
    {
      "cell_type": "code",
      "metadata": {
        "colab": {
          "base_uri": "https://localhost:8080/"
        },
        "id": "DbE_2aGivKoS",
        "outputId": "7bc3e9e3-4058-4111-ccae-5f8a8ff63d63"
      },
      "source": [
        "# splitting train test in 80:20 ratio\n",
        "X_train, X_test, y_train, y_test = train_test_split(train[train_cols], target, test_size = 0.2,random_state=0)\n",
        "print(X_train.shape,y_train.shape)\n",
        "print(X_test.shape,y_test.shape)"
      ],
      "execution_count": null,
      "outputs": [
        {
          "output_type": "stream",
          "text": [
            "(161533, 236) (161533,)\n",
            "(40384, 236) (40384,)\n"
          ],
          "name": "stdout"
        }
      ]
    },
    {
      "cell_type": "code",
      "metadata": {
        "colab": {
          "base_uri": "https://localhost:8080/"
        },
        "id": "RQuO4J7hvhtg",
        "outputId": "8848ce80-c7f7-4192-ae47-e7aa6843364f"
      },
      "source": [
        "# spliting train further into two equal data_sets\n",
        "X1_train, X1_test, y1_train, y1_test = train_test_split(X_train, y_train, test_size = 0.5,random_state=0)\n",
        "print(X1_train.shape,y1_train.shape)\n",
        "print(X1_test.shape,y1_test.shape)"
      ],
      "execution_count": null,
      "outputs": [
        {
          "output_type": "stream",
          "text": [
            "(80766, 236) (80766,)\n",
            "(80767, 236) (80767,)\n"
          ],
          "name": "stdout"
        }
      ]
    },
    {
      "cell_type": "code",
      "metadata": {
        "colab": {
          "base_uri": "https://localhost:8080/"
        },
        "id": "2AW4O--Fcbp4",
        "outputId": "cf865931-c0c9-4246-b78f-fcffb0965199"
      },
      "source": [
        "# stores the results\n",
        "rmse=[]\n",
        "# we are trying with 5 different nos of base learners\n",
        "q=[20,40,60,80,100]\n",
        "\n",
        "for i in tqdm(q):\n",
        "  # stores list of models\n",
        "  learners = []\n",
        "  for j in range(i):\n",
        "    length = len(X1_train)\n",
        "    # selecting columns with replacement\n",
        "    rows = np.random.randint(0,length,55000)\n",
        "    # creating samples from first 50% of train data\n",
        "    new_x = X1_train.iloc[rows]\n",
        "    new_y = y1_train.iloc[rows]\n",
        "\n",
        "    # we create a shallow model on created data sample\n",
        "    regressor = DecisionTreeRegressor(max_depth = 4,criterion='mse')\n",
        "    regressor.fit(new_x,new_y)\n",
        "\n",
        "    # append model to list\n",
        "    learners.append(regressor)\n",
        "\n",
        "    # create a dataframe to store the result\n",
        "    reg_data = pd.DataFrame()\n",
        "    for a,b in enumerate(learners):\n",
        "      # here we use next 50% percent of train data for predictions and training of metamodel\n",
        "      predictions = b.predict(X1_test)\n",
        "      reg_data['reg_{}'.format(a+1)] = predictions\n",
        "\n",
        "    # fitting the meta model on results obtained from above\n",
        "    model = LinearRegression()\n",
        "    model.fit(reg_data, y1_test)\n",
        "\n",
        "    # create a dataframe to store the result\n",
        "    df2 = pd.DataFrame()\n",
        "    for no,reg in enumerate(learners):\n",
        "      # here we use the 20% test data to get k predictions\n",
        "      predictions = reg.predict(X_test)\n",
        "      df2['reg_{}'.format(no+1)] = predictions\n",
        "\n",
        "    # using our meta model for getting final results\n",
        "    k=model.predict(df2)\n",
        "    # calculating rmse score\n",
        "    score = np.sqrt(mean_squared_error(k, y_test))\n",
        "  print(score)\n",
        "  # appending final score in list\n",
        "  rmse.append(score)"
      ],
      "execution_count": null,
      "outputs": [
        {
          "output_type": "stream",
          "text": [
            " 20%|██        | 1/5 [01:35<06:20, 95.13s/it]"
          ],
          "name": "stderr"
        },
        {
          "output_type": "stream",
          "text": [
            "3.6948679117083594\n"
          ],
          "name": "stdout"
        },
        {
          "output_type": "stream",
          "text": [
            "\r 40%|████      | 2/5 [06:00<07:18, 146.10s/it]"
          ],
          "name": "stderr"
        },
        {
          "output_type": "stream",
          "text": [
            "3.690304950712975\n"
          ],
          "name": "stdout"
        },
        {
          "output_type": "stream",
          "text": [
            "\r 60%|██████    | 3/5 [14:38<08:35, 257.80s/it]"
          ],
          "name": "stderr"
        },
        {
          "output_type": "stream",
          "text": [
            "3.700230642569044\n"
          ],
          "name": "stdout"
        },
        {
          "output_type": "stream",
          "text": [
            "\r 80%|████████  | 4/5 [28:52<07:16, 436.62s/it]"
          ],
          "name": "stderr"
        },
        {
          "output_type": "stream",
          "text": [
            "3.694537508250537\n"
          ],
          "name": "stdout"
        },
        {
          "output_type": "stream",
          "text": [
            "100%|██████████| 5/5 [49:38<00:00, 595.73s/it]"
          ],
          "name": "stderr"
        },
        {
          "output_type": "stream",
          "text": [
            "3.696497240784261\n"
          ],
          "name": "stdout"
        },
        {
          "output_type": "stream",
          "text": [
            "\n"
          ],
          "name": "stderr"
        }
      ]
    },
    {
      "cell_type": "code",
      "metadata": {
        "colab": {
          "base_uri": "https://localhost:8080/",
          "height": 282
        },
        "id": "oBQhoXo59_rA",
        "outputId": "0221ee45-da59-474f-8d5d-c4f9eb57f440"
      },
      "source": [
        "plt.plot(q, rmse)"
      ],
      "execution_count": null,
      "outputs": [
        {
          "output_type": "execute_result",
          "data": {
            "text/plain": [
              "[<matplotlib.lines.Line2D at 0x7fefc03ef550>]"
            ]
          },
          "metadata": {
            "tags": []
          },
          "execution_count": 12
        },
        {
          "output_type": "display_data",
          "data": {
            "image/png": "[encoded data removed]",
            "text/plain": [
              "<Figure size 432x288 with 1 Axes>"
            ]
          },
          "metadata": {
            "tags": [],
            "needs_background": "light"
          }
        }
      ]
    },
    {
      "cell_type": "markdown",
      "metadata": {
        "id": "LQyVo0vo7VPJ"
      },
      "source": [
        "Here we can see that using 40 learners gives us least rmse value so we will use this for our whole dataset."
      ]
    },
    {
      "cell_type": "markdown",
      "metadata": {
        "id": "hOrDiQna7suB"
      },
      "source": [
        "**Now using 40 lerners and training on whole datset**"
      ]
    },
    {
      "cell_type": "code",
      "metadata": {
        "colab": {
          "base_uri": "https://localhost:8080/"
        },
        "id": "ybrM7IT22rhK",
        "outputId": "ebdc4861-046d-4d19-a7ee-802975dbdab6"
      },
      "source": [
        "learners = []\n",
        "for j in tqdm(range(40)):\n",
        "    length = len(train[train_cols])\n",
        "    rows = np.random.randint(0,length,55000)\n",
        "    new_x = train[train_cols].iloc[rows]\n",
        "    new_y = target.iloc[rows]\n",
        "\n",
        "    regressor = DecisionTreeRegressor(max_depth = 4,criterion='mse')\n",
        "    regressor.fit(new_x,new_y)\n",
        "\n",
        "    learners.append(regressor)\n",
        "\n",
        "    reg_data = pd.DataFrame()\n",
        "    for a,b in enumerate(learners):\n",
        "      predictions = b.predict(train[train_cols])\n",
        "      reg_data['reg_{}'.format(a+1)] = predictions\n",
        "\n",
        "    model = LinearRegression()\n",
        "    model.fit(reg_data, target)\n",
        "\n",
        "    df2 = pd.DataFrame()\n",
        "    for no,reg in enumerate(learners):\n",
        "      predictions = reg.predict(test[train_cols])\n",
        "      df2['reg_{}'.format(no+1)] = predictions\n",
        "\n",
        "    k=model.predict(df2)"
      ],
      "execution_count": null,
      "outputs": [
        {
          "output_type": "stream",
          "text": [
            "100%|██████████| 40/40 [10:11<00:00, 15.28s/it]\n"
          ],
          "name": "stderr"
        }
      ]
    },
    {
      "cell_type": "code",
      "metadata": {
        "id": "AguXVb57JRaw"
      },
      "source": [
        "# making kaggle submission ready\n",
        "submission_name = pd.to_datetime(\"today\")\n",
        "sub_df7 = pd.DataFrame({\"card_id\":card_id})\n",
        "sub_df7[\"target\"] = k\n",
        "sub_df7.to_csv('/content/submission_custom.csv', index=False)\n",
        "!kaggle competitions submit elo-merchant-category-recommendation -f '/content/submission_custom.csv' -m \"model_9\""
      ],
      "execution_count": null,
      "outputs": []
    },
    {
      "cell_type": "code",
      "metadata": {
        "colab": {
          "base_uri": "https://localhost:8080/",
          "height": 204
        },
        "id": "pLOpZE_tMsWt",
        "outputId": "22699f9a-abcf-4a48-abfc-ee5dce5e8d22"
      },
      "source": [
        "sub_df7.head()"
      ],
      "execution_count": null,
      "outputs": [
        {
          "output_type": "execute_result",
          "data": {
            "text/html": [
              "<div>\n",
              "<style scoped>\n",
              "    .dataframe tbody tr th:only-of-type {\n",
              "        vertical-align: middle;\n",
              "    }\n",
              "\n",
              "    .dataframe tbody tr th {\n",
              "        vertical-align: top;\n",
              "    }\n",
              "\n",
              "    .dataframe thead th {\n",
              "        text-align: right;\n",
              "    }\n",
              "</style>\n",
              "<table border=\"1\" class=\"dataframe\">\n",
              "  <thead>\n",
              "    <tr style=\"text-align: right;\">\n",
              "      <th></th>\n",
              "      <th>card_id</th>\n",
              "      <th>target</th>\n",
              "    </tr>\n",
              "  </thead>\n",
              "  <tbody>\n",
              "    <tr>\n",
              "      <th>0</th>\n",
              "      <td>C_ID_0ab67a22ab</td>\n",
              "      <td>-4.960792</td>\n",
              "    </tr>\n",
              "    <tr>\n",
              "      <th>1</th>\n",
              "      <td>C_ID_130fd0cbdd</td>\n",
              "      <td>-0.093485</td>\n",
              "    </tr>\n",
              "    <tr>\n",
              "      <th>2</th>\n",
              "      <td>C_ID_b709037bc5</td>\n",
              "      <td>-0.917166</td>\n",
              "    </tr>\n",
              "    <tr>\n",
              "      <th>3</th>\n",
              "      <td>C_ID_d27d835a9f</td>\n",
              "      <td>-0.093485</td>\n",
              "    </tr>\n",
              "    <tr>\n",
              "      <th>4</th>\n",
              "      <td>C_ID_2b5e3df5c2</td>\n",
              "      <td>-0.851467</td>\n",
              "    </tr>\n",
              "  </tbody>\n",
              "</table>\n",
              "</div>"
            ],
            "text/plain": [
              "           card_id    target\n",
              "0  C_ID_0ab67a22ab -4.960792\n",
              "1  C_ID_130fd0cbdd -0.093485\n",
              "2  C_ID_b709037bc5 -0.917166\n",
              "3  C_ID_d27d835a9f -0.093485\n",
              "4  C_ID_2b5e3df5c2 -0.851467"
            ]
          },
          "metadata": {
            "tags": []
          },
          "execution_count": 15
        }
      ]
    },
    {
      "cell_type": "markdown",
      "metadata": {
        "id": "yxDJ4XTqM_Et"
      },
      "source": [
        "![image.png](data:image/png;base64,iVBORw0KGgoAAAANSUhEUgAAA7YAAABmCAYAAAD/LA0qAAAgAElEQVR4Ae3dzU8b18I/cP6MbLO8yyy7zTLyKssreYW6qJDYkBWpdKNH+aEqOFdBSYtQAd3SvNQ8jwm3DgUZgwyJ4TquTYa62ILY1EQu9iW1iWVCpsX6/nTm3WMbbJyAnXwjRR57Zs7LZ6Y39+tzzrgrtf0b+IcCFKAABShAAQpQgAIUoAAFKNCJAiLTdjHYduKlY5spQAEKUIACFKAABShAAQpQQAgw2PI+oAAFKEABClCAAhSgAAUoQIGOFmCw7ejLx8ZTgAIUoAAFKEABClCAAhSgAIMt7wEKUIACFKAABShAAQpQgAIU6GgBI9jmCwXwLw14D/Ae4D3Ae4D3AO8B3gO8B3gP8B7gPcB7oNPuASPYdnQ8Z+MpQAEKUIACFKAABShAAQpQ4JMVYLD9ZC89O04BClCAAhSgAAUoQAEKUODjEGCw/TiuI3tBAQpQgAIUoAAFKEABClDgkxVgsP1kLz07TgEKUIACFKAABShAAQpQ4OMQYLD9OK4je0EBClCAAhSgAAUoQAEKUOCTFWCw/WQvPTtOAQpQgAIUoAAFKEABClDg4xBgsP04riN7QQEKUIACFKAABShAAQpQ4JMVYLD9ZC89O04BClCAAhSgAAUoQIH3K5AvvEEwFMHC0sqp/opzRRn8Q4FmBRhsmxXj8RSgAAUoQAEKUIACFKBATYFWQq0ehkUZ/EOBZgUYbJsV4/EUoAAFKEABClCAAhSgQE0BPZzW3NnAh62e30AVPOQjFWCw/UgvLLtFAQpQgAIUoAAFKECBsxZoNZi2ev5Z95f1tY8Ag237XAu2hAIUoAAFKEABClCAAh0t0GowbfX8jsZj41sSYLBtiY8nU4ACFKAABShAAQpQgAK6QKvBtNXz9Xbw9dMTYLD99K45e0wBClCAAhSgAAUoQIEPItBqMG31/A/SKRbaEQIMth1xmdhIClCAAhSgAAUoQAEKtL9Aq8G01fPbX4gt/FACHRRs/8LhfhGFd+X3Z1Hex8rcGma25ZbLPHy5gXtz2yi0XBILoAAFKEABClCgUQG5lEVSSiJbauLfcrmEbFJCMldC1VlyCaVS7b/yUXWr5PwO4okd5A+r9xmfHOaxk4hjJ19VG+Q6dZWa6Y9RETesAs3cG81dBxmlXBJSMouTLpNS7nH3htZgtf7q+0PZfcz9Y+1vu2y3GkxbPb9dHNiOsxfooGC7jZu3/Ljqz78/pb0N/P2WH595My2XGfX40eVaxcx+y0WdewGHmTQWIrsM6ed+JdgAClCAAhSoK3CYxJOvuuFwOIy/3XeCyNY9Qd1RWptAv9M8x9k/hnDOPCm/NGCUZy1bbLsT5nE43IHvjrX+bgz8mLQFZRk780PotrbxqydIGkEnj8BXZlsq63MjbqmOm00INH1vNHEd3kiY6Hea94izH2OhGnddaQeBkWvqcY+Ov5LyrxPoVe4R+zWXkfxxoPL+uePDjnH/NGFyhoe2GkxbPf8Mu8qq2kzg0w624mKUSjh8H4PAZRmF0l9tdnlP15xd/zK6boWxcrrTeRYFKEABClDgAwvIkL5zwtE3gbD+fXcugEGnAzfma4QMvTV7AQw4nBic20FJfFbage+2E45/+MxAXGPENjlzAw7nMMJv9IJkxB/1VtSf/3kC1xxOTEjmqJuccKPXcQ0TP2uNzIcx0eeA8zvJCMDVI4VJPPkfB5zfhNU26lXytUGB090bjV0HNQA7b/uwo95A2JkbhNNxA77fLc377Qn6nU70f+vG2JcOOI4LtodxuPsc6O3thcNRGWxlaQJORy/GQtr9o93jvY/ixv1jqbVtNlsNpq2e3zYQbMiZC5xtsJXzWPGvoW80gKv/iuBBzBzeLKyvw+VJIGUhSK1E4JpLayOH+ohtDqnVCHqGl9EzuY6FnBkm9TI29rYxej+o1OF5+RZQphyH0H03iD4xXdgIsjnMeCIYXS9qtZZRSG9idHIVV5VjN5FS/odL291U+8sobG7g3v0gLg+vwuVPY9f8tw5631JiCrM4ZjSE0TXTw8JQe3M/A49X9GkZPZ4YVgwHe58A7Kcx6olgJq0XVb+fol3Xv11E160Aeuw2x/SneXu9LdbXv7AbWcf1fy2rHqs5y7US/chhZi6EnuEAuu+vY+bVW/XkP7aV/j1IWIBRxMpcBK5ABm3+xaYVgNsUoAAFKNCQgIz8pgTplfUfaW3U7ZgQkZzurQyxoq43O5CkJGrMElZbIsfh7nXg2nTSbFkpjGFbiAVkZBPWNpUQ/qYyxIoC5FwckqQFa7NEY0sPw1OW6oyd3GhA4HT3hr3gmtchOYVee4hFCTuShOSe5f+DbPrglkQYPemelJGcvKbck9KimClgDbbq/eO4E6z4gkOdUTAGy/cn9qaf+/tWg2mr5587ABtwbgJnGGzz8Hzrx4W7QdxbfgmPN4jPbvnR81QNlbVGCVcm/egaiWFX4VGD7aWhAK6Mh+DyiFAnpv8u40FGTapqGYv4bCSI65b93d8G0D0Zgev+Mi6Kqcf/fqWB62FZ/SbsMBZW2nR1MoaZ1RiuD/vRNRRBVCm+mfaXkfIv44KYOn0/orZ1SPR9TSsLUPp2ZxGXvxZtjaBvxI+uW4u42cj/UmVi+LvLj4sjwkE713Co7JPS0d0Yrt7y46akdvu4ftYOtif3p3l77RIYL2+xMrmILpd2rSaDuOzy47PJbTWYvkvj5pDocxgPVjfx4IcALtxahCshLk4Oo1/7ceHhSzPE7ifQc8uP7mX9SwujIm5QgAIUoMDHKKCMZjkxHLKGXWtH1ZDRP5cF8hJ8nilMeZ4gsFnvePVcJUhUjNYCSLjhcIxBOixhZ+UJpkRZ82FkK75JjcPtcGBsTUbptyCeKPX5EM5ZApC1ecq2NiLI0doqmZY+OPHesJde+zoo98KXPmSP8pDmxf0zhSdLyYrgWVnSCcE2OYVrWlBWA6s12Kr3z8CibQbC7z70O5xwb1bW1E7vWg2mrZ7fThZsy9kKnF2w/WMD3bf8uB7RR1jFiOZLRLWRxkaDbdfohrn2s/wKrjt+XJjcVtTUMoLw/KEhanVenlWjMVDGyg/VYVlft6usk/163Rw1LuWwsq6NGjbT/ncvcd3lxxWjXgDa+XrQUoKtaxUL+r+n5QzuiaCu9aX+bSBj4aEfXaKd+shzeRcPRgO4MiMC+8nB9th+Aqi6Fg30p3l7Ww/T67hyy4++kDYKC+AwHMbluyHMiOu5EcHFWwGMGqPOb5FaTyO1b/lSwxXCwju13MLTILpuBT+KNc82Kb6lAAUoQAGLQD40hv7+L+B0XMPw4s4xUzTVoNB/exDXPh/AmGcKE3f74RRTk5ds4UEvv9ZorRiHU9bhDmDwdjf6705gyjOGgc8dcPS5EdfDrTLt2YGB24Po7h/ChGcKY8qa4GtwV8ww0isDao4Smru51aRA4/dGZcH1rkP8kQOOLwcx2NeNgfEpTN0fUtZrO28HzKnsFUUdF2yz8P3DnAlQN9guadOQ9XK1+6pivbe+r01eWw2mrZ7fJgxsxjkInF2whTriKUZY+7wxzCRyOLR8aVkVpqCNatpGbPUQqlspIW04poTR6jKqQ16tUWC9TH0k8/J4CKPLaWz8YWlgM+2PhXFBhDA1b2tNLWJm3I+u+5vKqGJlO8QheTwQo7YnBts0brr8uOp7rRPYXqv7jDojtrX7WSPYNtCf5u0rm70bEOt6Q1jRw3rlbkAbsRUj/tfnElhJ7Veujda/eAiLa6ZaV4zg2svjewpQgAIU+CgE5L0kJCkI37h4yM41DNd6kI/SUzXYOpxipNXsenbuhjr6av0nX9uthA37aK0RbB24IUZ/9T+HEsacDigjwuIzLYBUrN+FDGncCYcY9dPPM15rjxIau7nRtEDj94a16PrXQQm2DqcyCm+c8bsPN7SReeMzY6N+sM2Kqcd9biS1+47B1kADg61pwa3mBM4w2IqFJWKNrVgfu4i/ucQ04gBuSuoIXXUwqh1s9anLejdTswF03YkgWmukscboZWWgtIdAbe2pWPN6R0wN9uPi6IY5Mtpo+6Uwum4t44E+UKw0Vhst/nZDmVpd2Q5xQKPB1t5mXUJ/rbHfFmzFyLWylrhOP6uuRQP9qTrnRHu9vepr9fmV+5V32hrb7ruLypTyLlcQHm0aekWY1aYhX1dCbo1y+BEFKEABCnyUAklPLxxON2ovT83CJx7kc9/2hFplaqft4T9CRxutrQivmpq8NgaHYwABy9OUxRpbadwBx3fauh9ZwpjDAftUUvXcCUi2nw5SRwlrtOOjvFJn36nj7w2zPcddh+xcPxyOCdvTqtX7qvZDy+oEW+1Lj6GlrPHTUjtzYo3tBMKlEtSflUrCbf2iRG+iss63F+28BrvVYNrq+ToVXz89gTMOtrI5ylZ+rY5QaiOyarCxjti9xcxE9bThS4/19bHiYhXhGfWjazyhTE+uDkfVIa8yUNr3l3H4Tp8qDRyuhXDJsjYV8knt154krAXJimClTZu+pK3vrWyH6EujwVY9rnI0UsZu7CUWUmI9qdYn64juyzVctvYDx/ezyrGB/lSdo7fD8vNM1X22/AcnaaPcxlRjQbKLhUgau9r0YryzfJ1e2sZ18eWDZYT7MLSKLlcYM8tB5bXu6K+lWm5SgAIUoEAHCsg7CHqm4Evo63nUPiijYI7q0Kju1Z6Wa3sYjxo0BxG0zfhUR2srR3cNKWWUzh4u1IDjnNRjtTrVtNejv9faKMJRVfjWRgnHzaclG3VxozmBU90behXHXwf1KcVDCBpPxxZfgKhfYAw+td1ASpF1gq2yRrvezzzpPyul3a/WJ3YDUGYYOCfa+uFRS8GQMeqqh9RmX4OhiH5R+EqBhgXOLthqayj/7ttVw20+DZd44M/EprpmdiOihMjPHiawkcthxRtUR3VtU5EvuJbhWs+jsJ9H1L96wgOo7MG19iiwOhVZW7s6FMZC/i+gLGM3EFQeUHTvJYAT2l8Z7LRpx0Mh5cm9h6U8orPiYVJierI617Y65DUabAGxflQ8OOm6eGrwfhGp1ZDFQQv7rmXcW89hN5XAdeFsBNsT+gm1fDHifC+RR+GdaO/J/ansv7j/TrB/l4ZLPN3Ypw1ri+AvHrD17TqiuSIKuVcY/dZ8eNdhOKT0+WZEhPcyDjMb6BEPl7L+BrG2FviCy4/KL0Aa/u+BB1KAAhSgQEcIiCfGOuH4fAhPEuqoV1Zy44bTAacRDvMIftOPgUeS+XAf5WE9TtyYlJAtlZBPBjAsfn7H/rAmWcKE+Okg61TjChet/r5hBJJ5lEpZSJM3lHW+1pG0UmhYXfu7lES+VILexoonLCvZSPysC0drK4hP/eaU90ZD1yGJKXG//I8bUq6EUj6p/lZtjenqavPrBNsafaueigzAdr/Wu39qFHeuH+ULbyCCabNhVj9enCvK4B8KNCtwdsEWZaSeripPuhVTfJVpviNriBpftr5F1Ks+tVjsu+LZxkyNpyLfXN3GTfGQJa2Mq95XxpNwmw5X9vBVeoV7ytOJtfJdAfQ91deyHt/+qrpLGYyOLyqBUmmrCJoxo7PqU5GN0C4uW+PBFniLjTkt+NdwQCaBPs3owj+D8KxVPhUZx/YTwDvTQR9hxgn9qeq/3da+Znp/UwmmF3/QnnosCPY2cfNr89peuLuKGWOqceX9IUwvTyTMaeLKnV9WXcXTkjfqLdZt9j8RHk8BClCAAm0pcLiDwPgNdDv0ka9u3BgPImtM8d3BExFC/l/lg31Kv06pD3pSzhO/NRrAjmXNreirOipWZ7RWxxD1fysePqXV//kApn41/51XD5OxszSmPGDIoRzXjQFP3AzaykHqyK4ZyPUK+HpqgVPdGw1ehzdxTCkPAVOvu7N/DIFXlhllFY1uMdiKe1E8HM1pucetX9RU1MU3FKDAGQZbHfsvHO4XtZFA/bNmX8s4LBYrHj7VbAnHHv+uhMK++XTeymObbL8oq1jvf/AqSzbeaVN/9fBufdV/skc5tiwrI7bWh3AZZTSycWw/6xRwmv7UKarux6VifbNW+1y3Uu6gAAUoQIHOFJCVdYpN/ksL2VjL2GKvj0T9J9eu1NdiVTy9WYHT3RsN1SKXULJ9IdLQeac6SOuH8aXNqQrhSRT46AXOIdh+9Katd1ALb2Kasf3vqUNs661iCRSgAAUoQAEKUIACFKAABdpSgMG2LS8LG0UBClCAAhSgAAUoQAEKUIACjQow2DYqxeMoQAEKUIACFKAABShAAQpQoC0FGGzb8rKwURSgAAUoQAEKUIACFKAABSjQqACDbaNSPI4CFKAABShAAQpQgAIUoAAF2lKAwbYtLwsbRQEKUIACFKAABShAAQpQgAKNCjDYNirF4yhAAQpQgAIUoAAFKEABClCgLQUYbNvysrBRFKAABShAAQpQgAIUoAAFKNCoAINto1I8jgIUoAAFKEABClCAAhSgAAXaUqCtg+2RfNSWaGwUBShAAQpQgAIUoAAFKEABCrSPQHsG26M9SN6HcHu9kHLtg/XBW3KQxupKGgcfvKLmKtj7xYvYf5s7p+7R77Zx824QD9J1j2h9x14CfRMJ7LZeUv0S5LcolP4y95dlFIqy+T61hsuuVczsmx9xiwIUoAAFKEABClCAAhT4MALtGWxzUYz8J4NPbry2tAXf/FbbBdtsZATR9/QFQ2E5iEt3FnFl7j0VWOu/i90Yro7EPmywlcLomtw2a7fXWS4hlcqb+7lFAQpQgAIUoAAFKEABCnwwgbMNtn8WkdmKQXohIb5ThGV8y+zgmzSkp7MY+ekZpBdxZLWD5DdpxF9IkH7ZQlYf0jzIIBbPmuUU0pAS5vuj11uQdopm2caWjOJOXGlHbGvPPF/sP8hi6xdJqTv9xtbCY/bVbB8AORdHuiCjsC36HcPWf+1lZtR+JdIoFmzBVi4inRBtqXGe0RdA/iNVbaPtF/tiLyQo/TzMIv6bxaN8gOxJ1wOAGmyPzD7ktAtwVEDqxRb2rN9AiGuQLNT5UqIIz2gAo7EEeu5EEFXa+Bc2AhE8SFhcyruY8WxgQwYK6+sYXTfbXPn+L+yux3DPE4FrbhOpktZpLWRubG5o+15i11K8hQ6plXWs/LGPlbkIXJ41eDb1QsRRZRQ2ExgV5XtjWMlpI7TpBFz/CqDr61W4POtYeZXG6A/LuHRnGdc9Ecwoo9E5zHgSSEHt30yqrFVbxMqsfoz4KI8FbwxRpYt16gPUdmYy8HgjFR7WvnCbAhSgAAUoQAEKUIACn6rA2QXboz1EH0/jWSKLolxEJjKL6fW9avfDAjK/LmFkKYZMZg8HR8BRLgrvXBTpwgGKuTieeRe0ELMH6f+eIa2Flr11D0ZGVpHRglY28hDP9TeWmvbWvZhdy6AoH2AvvoCHIW10uLiFBe8zxHNFHBTSiM55Ef2vVljFvhSeP5429tVq35aWxQ62fJj2riKmlCnO8yCa08p8LWH6sV5fCs/np+ExRmzFdOxZRDNFyAd7iC/W7stBcgEPNZuD11t49vgZ0odqZ+Xfnhn7irkYVudn4YlkNYkitha96vU4KCC9NgtvJFszkIpgOzu/CmmngINiFvGgFwtKB4+QCVW2q565UqkInF+vI4UiZsYX4dpQw95hOISLD19CazYghY33u/5lXPWbI5/W94WnQVyeiCGaKyK1GsJnStkARD13FtHz75fYeCVCcgAXJzZRsNwD+ubK5CKufBvCvfUcdlObuDm8iOvht2pzA8u4OBzGTCqP3UQMPUNBzPwhsuguFmaC6Bpfw0Ikjd03rxFdDuHy3RA8kZfYUJq7jZu3wlgBINp56d+v1Cr3E+i55cflWW2itGEC7NarD4Bo52cjqxhdfYlopk5K1zvFVwpQgAIUoAAFKEABCnxiAmcXbAXskWVor2gbnbTCi6nIlgAW/2kJKSP1AEc7z+DRQvHeCw9WX4lyi4j/FIX0YlqbNitCrxlyzeIPkFr0IiYCiv5HyVcipE1Deq1/KBJJDN6nacioDnAQAbwgAoaodxbxN+Z5R5nnRlgWwda3aY44irCptv0Imf98XznF97VkBtuDFBZmYijoA336q1mNtnWEI8u+bFifNlxEfMaHLcsApLy9ZLha26gWVN0PvSoRbL2/WmLhUQar30ehRORc1OgrjjJ4/ui58cWCfr7+mpoLGCH1MLSKC/pU3vI2brpCWHgnjpSx8NCP62E1vFmDrNhrfR/1+NGzonewDMgahAiLwzGk9IrL27iuhUz9I/11ZdKP7mXz+iC9jit6QC7LODQyZBkrP/hxU9LOPGkqMsxgiz820H1XBHpA9PvqvyPo0aZKK+FcD7nH1CfaeX3NcqH1DvCVAhSgAAUoQAEKUIACFMCZBlv5v1uI/WcJ3hkvvI/d+N4YnbRdiYpgm0V05CGmxTn638cPjYAGEaxECBbrU8W63FxUHQl+E4e3zjrdo9cx+B49xPT8MzxPZHCg5IUDbM1/rzywyqjHq7dR7KsMiWaLRfu0kKd/aFkrqwTbLX3uNCDaq4b2GmVazgOOsPeLDw8fTcP39DniGUsZej3i9U8xXfk5ns174fV64X6kB9sa7TLqBqraZUw5thaubotg+7ziSUzWtptfIIiwPP2ixii8UswuRu8u4vriSyxEXmJhNYKrRpgtI/p4EX0hGXj3EteHIojqGfWYEVtkEui768ffhoLo825gY18/yb7G1hIybd1bmQxg1LJUFtZAWsphZi6EnuEALg8t4m+uUwZb5PFgZBkPdstQ6xPvg5jZl7Fw31L/MfWJYGuEalsf+JYCFKAABShAAQpQgAKfusDZBds/Ypiej2FPzC0WfypCnO0yWAIYIALac3V00HaY8laMEj6WkPntGZ79JobXsoj+FEdmy6e9r3WS+tmRXEQ2/gyen+IoQgtrlsE780wxyuuDPr3Y/Fxs1WifGI1eTCkPgaoKkEbfatRXcxT7CLKY/vvUg9mEvXEy0sFprP5WhP7LSOp6WNGuPUS/t41Y7z43vhCwjyQrPQl/j2iNpx+LMlVbvediNNgyBVwZNZerR7z1w8XrRgSXlDWpYi2r+rdv2ByZVfbf30QhHMJnj7Vpu7YRWlGMdcTWKL6Ux8ZqGFf0oCxGbCseHnVcsLUFxneb6HOFERXTpScW0beSQ+GdGpgrwmUzI7ZijexcAD1PX8L1tbq2WPSjb3UTN0WIVzpyfH0VdRsd5wYFKEABClCAAhSgAAUoIATOLtiKQBfW13cCB9vPGhyxVacBr+4Yc0JRTEYRNUYwxZReDzz/p4+oivfTmH5cOX3ZvNxFpIISMn9qn/yZxrPvoxDjjMXELGYtU26PxLrUTfVBSGLftGUNajE+qwVNtX3qmlNR5hGykWkjhNYPtmp99jJH9FHsYgrPXphPhhbTr79fs4+G2sJxeQ/SY33E9gh7a9Pw/VpQH451VMRWwDLS/SaO2cdRZHUHsYa4zjRiEWxFu/RYfbT7HJ5Aynzolhgdn/fBNyO+IKj1Rx2RrZjyKw6TwrgwntDWvooR3WVcHbGMYIogG1jGpR9eqlOy5RxGR/zadOYSot4QHmxro7TlDO7dXYZHEDUZbC/9sK2t7y0j5V/W1vdqo6wZrT/yK7iGLCE4FsaFiU1zXfDeBv5+dw3asmFUjPyKIrbXcfnOIj7Tp19vr+PK0CKuGCH++PoYbGvdV/yMAhSgAAUoQAEKUIACqsDZBVsUkQq41am+Xi+W1p7X/2kbY1RTu0x/7iE2r5/rhluM/OqBTETJV6sYsYQqsY7VCIg1rnTxt1V4/3damdo8/Vg8oEkPzUWkV7xwPxbTnqfh9q4ibSQ1yz6vG+5AHAW9Ddb2PXbDu5I2At5xwVasz00tudX6Hs/i2c4WonqwhaW+mWlM/xRFxrLOWO+W8uAqrS/iAVvRoB5sxREysi+0qd8BCdmkOWIr9lod3P/rQ+y1ZQ20XoE2Rfn5ZgpL3louSkmI/zRihHnLqeqmsoZWTL217Sm/gutOEB5tvbMY1ezS17fqh5Ze4d6IH10uP/52N4wHXvNhUocba7j6z0VcvhtQQmO3b1cNmk0G257JMK4MadONR9YQ1ZbtHkphXNbL/zqMmxOWYFveVUL2xX+GtH4VsfBDABf/GcC9hGi8fZRYBHe/Ot1a6ZvouyhPC+Zi/e0x9THY6jcEXylAAQpQgAIUoAAFKFAtcIbBVqv8T9mYNlvdnBM+OWrh3KqijyDr83ft+8pHkPXQat8n2lBv32n79qdc8QCoiiqPq8848Ji+GMeIkczKYKvuavBc5eB6x4oHT+kj5tYKm9u2Plyq8TP/wuF+CYdmPmz8VOVpw1pYLcsolLSf87GWID7fV5+SbP34g22fdX0frCMsmAIUoAAFKEABClCAAmcncPbB9uz69snXtPfLLLzBONKv97C3E8eq1/LzRe9JR36dwdbaLB7WeVBXQ9Xsv8KCX6yRXcWC/pDjhk5s/SCOhLZuyBIoQAEKUIACFKAABShw3gIMtud9BT5w/QevU4i/kCD9soXMG33K9furVC5kkMkVzfW2pyla/C5sJI2U/lTj05RxynMKKf13Z09ZAE+jAAUoQAEKUIACFKAABc5dgMH23C8BG0ABClCAAhSgAAUoQAEKUIACrQgw2Laix3MpQAEKUIACFKAABShAAQpQ4NwFGGzP/RKwARSgAAUoQAEKUIACFKAABSjQigCDbSt6PJcCFKAABShAAQpQgAIUoAAFzl2AwfbcLwEbQAEKUIACFKAABShAAQpQgAKtCDDYtqLHcylAAQpQgAIUoAAFKEABClDg3AUYbM/9ErABFKAABShAAQpQgAIUoAAFKNCKAINtK3o8lwIUoAAFKEABClCAAhSgAAXOXYDB9twvARtAAQpQgAIUoAAFKEABClCAAq0IMNi2osdzKUABClCAAhSgAAUoQAEKUODcBRhsz/0SsAEUoAAFKEABCt/ImRYAAAaSSURBVFCAAhSgAAUo0IoAg20rejyXAhSgAAUoQAEKUIACFKAABc5dgMH23C8BG0ABClCAAhSgAAUoQAEKUIACrQgw2Laix3MpQAEKUIACFKAABShAAQpQ4NwFPsJgK6NUkhuHPSyhdNjo4TJKuSTir/KQjxo9h8dRgAIUoAAFKEABClCAAhSgwIcU+PiC7V4AAw434g2qxR854HjUwNG5IIY+d6C7rx/9/V/A6byBqWQTAbrB9vAwClCAAhSgAAUoQAEKUIACFGhOgMG2oWCbxFSfE4OLWUNXTrhxzTkGqeHRXuNUblCAAhSgAAUoQAEKUIACFKDAexQ4w2CbRdjjQzyfh/TjMAa+GsbUyg5kyMj+7MPYnQEMe4LYKdl6V9pB8McxDH05hLEfa+3PIjyv7Z+Po5SrMWJ7TBkNjdj+7kO/Y8I2CixDGndgOGRvsK39fEsBClCAAhSgAAUoQAEKUIACH1TgDINtHG5HPwbujOHJzxKkn59g0OnE4J0xjM2HIUlh+EauwfFVAHm9y3ti+u81DCv7JYTnh3HNOYjgnnbAYRzuPiduTAYhSer+gduD6LdORbaVEfQMoPvzCWOktaFgm5xCr7VMpXo12Donk3pr+UoBClCAAhSgAAUoQAEKUIAC5yBwxsHWgbE1c11qdnEAjm/CMMY880EMOsYgaYfEHznR66kMjtm5G3B+J0Eckp2/Aee4uq3bif0OSwhNenpxY86cQiyOUz6bVz9rKNgiianeXkxIRkuBXACDzgbX5+qN4ysFKEABClCAAhSgAAUoQAEKvHeBMw+27oTZh/zSgO3BTWJUdwABZUQ2C9+XTrg3zeOVLTF62juFJOpMBVamDesPjxJlfIGxeUkZ0RWjuuJv8H4/HFogbizYAmJNbb+zGze+mcDU+CC+6BmC+769/ba28i0FKEABClCAAhSgAAUoQAEKfHCBNg62SbidAwjkbAbGGto8grcrR4CVI4394p0ooxeD301hymP7K9bjAmg02Cply3kkRThO7KB0BCSnezH41Jg4bWso31KAAhSgAAUoQAEKUIACFKDAWQi0cbAtIfxN9cOZ5LUxOG4HlXW4yUkneqcrpyor+42pyHXCr0W2oWBbisPnCaDy132y8P2jH77fLYVxkwIUoAAFKEABClCAAhSgAAXOXKCNgy0gQqqzz424vrS1pD4syngScXJKeZiUMaor9vc74TSCbY0yjrII3O7G4JI60tpQsEUega8cGJjZ0dYDl7AzN4hu6/rgM790rJACFKAABShAAQpQgAIUoAAFhEBbB1tAxs7SGPqdDnR/3g2H8wsMzYufCDL/ZEPa/p4v4Px8CMFf7T/3YylDHOPoxo3xMPTHSTUWbAG8iWPqq244HA44HE58cesJkvwNW/NCcIsCFKAABShAAQpQgAIUoMA5CZxhsG2lhzJKpVJFoK0s7aT94mjtmKPKM63vlJCrBFcRXi1/H8XNww5LKFmTtbmHWxSgAAUoQAEKUIACFKAABShwDgIdEmzPQYZVUoACFKAABShAAQpQgAIUoEBHCDDYdsRlYiMpQAEKUIACFKAABShAAQpQoJ4Ag209GX5OAQpQgAIUoAAFKEABClCAAh0hwGDbEZeJjaQABShAAQpQgAIUoAAFKECBegIMtvVk+DkFKEABClCAAhSgAAUoQAEKdIQAg21HXCY2kgIUoAAFKEABClCAAhSgAAXqCTDY1pPh5xSgAAUoQAEKUIACFKAABSjQEQIMth1xmdhIClCAAhSgAAUoQAEKUIACFKgnwGBbT4afU4ACFKAABShAAQpQgAIUoEBHCDDYdsRlYiMpQAEKUIACFKAABShAAQpQoJ4Ag209GX5OAQpQgAIUoAAFKEABClCAAh0hwGDbEZeJjaQABShAAQpQgAIUoAAFKECBegIMtvVk+DkFKEABClCAAhSgAAUoQAEKdIQAg21HXCY2kgIUoAAFKEABClCAAhSgAAXqCTDY1pPh5xSgAAUoQAEKUIACFKAABSjQEQJGsM0XCuBfGvAe4D3Ae4D3AO8B3gO8B3gP8B7gPcB7gPdAp90DRrDtiBjORlKAAhSgAAUoQAEKUIACFKAABWwCDLY2EL6lAAUoQAEKUIACFKAABShAgc4SYLDtrOvF1lKAAhSgAAUoQAEKUIACFKCATYDB1gbCtxSgAAUoQAEKUIACFKAABSjQWQIMtp11vdhaClCAAhSgAAUoQAEKUIACFLAJiGD7/wF47WHyCwiQOwAAAABJRU5ErkJggg==)"
      ]
    },
    {
      "cell_type": "markdown",
      "metadata": {
        "id": "t4IzVz9I9GZr"
      },
      "source": [
        "This ensemble model results are not upto the mark."
      ]
    },
    {
      "cell_type": "markdown",
      "metadata": {
        "id": "m4VjL1HVtwkN"
      },
      "source": [
        "### Adaboost Model"
      ]
    },
    {
      "cell_type": "markdown",
      "metadata": {
        "id": "Zhjxwp8etyui"
      },
      "source": [
        "Adaboost model with linear loss"
      ]
    },
    {
      "cell_type": "code",
      "metadata": {
        "id": "qOr9a8_sjmI8"
      },
      "source": [
        "from sklearn.ensemble import AdaBoostRegressor"
      ],
      "execution_count": 16,
      "outputs": []
    },
    {
      "cell_type": "code",
      "metadata": {
        "colab": {
          "base_uri": "https://localhost:8080/"
        },
        "id": "cBXeWHgBjuVY",
        "outputId": "3be485ea-bf60-4693-8eef-ac54bf886cc2"
      },
      "source": [
        "# n_estimators ae hyper parameter tuned with gridsearch cv\r\n",
        "regr = AdaBoostRegressor(random_state=0, n_estimators=100, loss='linear')\r\n",
        "regr.fit(train[train_cols], target)"
      ],
      "execution_count": 17,
      "outputs": [
        {
          "output_type": "execute_result",
          "data": {
            "text/plain": [
              "AdaBoostRegressor(base_estimator=None, learning_rate=1.0, loss='linear',\n",
              "                  n_estimators=100, random_state=0)"
            ]
          },
          "metadata": {
            "tags": []
          },
          "execution_count": 17
        }
      ]
    },
    {
      "cell_type": "code",
      "metadata": {
        "id": "aA2pMLQRkFI4"
      },
      "source": [
        "k=regr.predict(test[train_cols])"
      ],
      "execution_count": 18,
      "outputs": []
    },
    {
      "cell_type": "code",
      "metadata": {
        "colab": {
          "base_uri": "https://localhost:8080/",
          "height": 204
        },
        "id": "dZ6Ytv8FlrY6",
        "outputId": "53ddaff7-eff1-45c6-ce49-e90c3a0e6752"
      },
      "source": [
        "sub_df8 = pd.DataFrame({\"card_id\":card_id})\r\n",
        "sub_df8[\"target\"] = k\r\n",
        "sub_df8.head()"
      ],
      "execution_count": 19,
      "outputs": [
        {
          "output_type": "execute_result",
          "data": {
            "text/html": [
              "<div>\n",
              "<style scoped>\n",
              "    .dataframe tbody tr th:only-of-type {\n",
              "        vertical-align: middle;\n",
              "    }\n",
              "\n",
              "    .dataframe tbody tr th {\n",
              "        vertical-align: top;\n",
              "    }\n",
              "\n",
              "    .dataframe thead th {\n",
              "        text-align: right;\n",
              "    }\n",
              "</style>\n",
              "<table border=\"1\" class=\"dataframe\">\n",
              "  <thead>\n",
              "    <tr style=\"text-align: right;\">\n",
              "      <th></th>\n",
              "      <th>card_id</th>\n",
              "      <th>target</th>\n",
              "    </tr>\n",
              "  </thead>\n",
              "  <tbody>\n",
              "    <tr>\n",
              "      <th>0</th>\n",
              "      <td>C_ID_0ab67a22ab</td>\n",
              "      <td>-14.470339</td>\n",
              "    </tr>\n",
              "    <tr>\n",
              "      <th>1</th>\n",
              "      <td>C_ID_130fd0cbdd</td>\n",
              "      <td>-2.145515</td>\n",
              "    </tr>\n",
              "    <tr>\n",
              "      <th>2</th>\n",
              "      <td>C_ID_b709037bc5</td>\n",
              "      <td>-9.169068</td>\n",
              "    </tr>\n",
              "    <tr>\n",
              "      <th>3</th>\n",
              "      <td>C_ID_d27d835a9f</td>\n",
              "      <td>-0.203268</td>\n",
              "    </tr>\n",
              "    <tr>\n",
              "      <th>4</th>\n",
              "      <td>C_ID_2b5e3df5c2</td>\n",
              "      <td>-2.145515</td>\n",
              "    </tr>\n",
              "  </tbody>\n",
              "</table>\n",
              "</div>"
            ],
            "text/plain": [
              "           card_id     target\n",
              "0  C_ID_0ab67a22ab -14.470339\n",
              "1  C_ID_130fd0cbdd  -2.145515\n",
              "2  C_ID_b709037bc5  -9.169068\n",
              "3  C_ID_d27d835a9f  -0.203268\n",
              "4  C_ID_2b5e3df5c2  -2.145515"
            ]
          },
          "metadata": {
            "tags": []
          },
          "execution_count": 19
        }
      ]
    },
    {
      "cell_type": "code",
      "metadata": {
        "colab": {
          "base_uri": "https://localhost:8080/"
        },
        "id": "CTKp_iNxxx6w",
        "outputId": "14283118-a3fa-42c7-e074-6c02d2be07bc"
      },
      "source": [
        "submission_name = pd.to_datetime(\"today\")\r\n",
        "sub_df8.to_csv('/content/adaboost.csv', index=False)\r\n",
        "!kaggle competitions submit elo-merchant-category-recommendation -f '/content/adaboost.csv' -m \"model_14\""
      ],
      "execution_count": 25,
      "outputs": [
        {
          "output_type": "stream",
          "text": [
            "Warning: Looks like you're using an outdated API Version, please consider updating (server 1.5.10 / client 1.5.4)\n",
            "100% 4.17M/4.17M [00:00<00:00, 4.53MB/s]\n",
            "Successfully submitted to Elo Merchant Category Recommendation"
          ],
          "name": "stdout"
        }
      ]
    },
    {
      "cell_type": "markdown",
      "metadata": {
        "id": "cRLhKvLLyV5S"
      },
      "source": [
        "![image.png](data:image/png;base64,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)"
      ]
    },
    {
      "cell_type": "markdown",
      "metadata": {
        "id": "RN8KxKA6xs-f"
      },
      "source": [
        "The results are worst I even tried it with squared loss but results are not looking good."
      ]
    },
    {
      "cell_type": "markdown",
      "metadata": {
        "id": "u_A7nLxnyZzy"
      },
      "source": [
        "### Mlp Models"
      ]
    },
    {
      "cell_type": "markdown",
      "metadata": {
        "id": "LnQ8q8TK0pKv"
      },
      "source": [
        "Training a shallow mlp with 3 layers"
      ]
    },
    {
      "cell_type": "code",
      "metadata": {
        "id": "DhSK2K-fyadd"
      },
      "source": [
        "from keras.models import Sequential\r\n",
        "from keras.layers import Dense, Conv1D, Flatten, Dropout, MaxPooling1D, BatchNormalization\r\n",
        "from sklearn.metrics import mean_squared_error\r\n",
        "from keras import backend as Keras\r\n",
        "from keras.callbacks import EarlyStopping\r\n",
        "from keras.callbacks import ModelCheckpoint"
      ],
      "execution_count": 31,
      "outputs": []
    },
    {
      "cell_type": "code",
      "metadata": {
        "id": "gTSO0rnuhwGL"
      },
      "source": [
        "# https://heartbeat.fritz.ai/how-to-create-a-custom-loss-function-in-keras-637bd312e9ab\r\n",
        "def rmse(y_true, y_pred):\r\n",
        "        return Keras.sqrt(Keras.mean(Keras.square(y_pred - y_true)))\r\n",
        "\r\n",
        "model = Sequential()\r\n",
        "model.add(Dense(32, activation='relu', input_shape=(train[train_cols].shape[1],)))\r\n",
        "model.add(Dense(16, activation='relu'))\r\n",
        "model.add(BatchNormalization())\r\n",
        "model.add(Dense(8, activation='relu'))\r\n",
        "model.add(Dense(1))\r\n",
        "model.compile(loss=rmse, optimizer=\"adam\")"
      ],
      "execution_count": 36,
      "outputs": []
    },
    {
      "cell_type": "code",
      "metadata": {
        "colab": {
          "base_uri": "https://localhost:8080/"
        },
        "id": "a3IxF21uh49M",
        "outputId": "9649b870-8c03-4042-9ea1-81134b16e84a"
      },
      "source": [
        "model.summary()"
      ],
      "execution_count": 37,
      "outputs": [
        {
          "output_type": "stream",
          "text": [
            "Model: \"sequential_1\"\n",
            "_________________________________________________________________\n",
            "Layer (type)                 Output Shape              Param #   \n",
            "=================================================================\n",
            "dense_4 (Dense)              (None, 32)                7584      \n",
            "_________________________________________________________________\n",
            "dense_5 (Dense)              (None, 16)                528       \n",
            "_________________________________________________________________\n",
            "batch_normalization_1 (Batch (None, 16)                64        \n",
            "_________________________________________________________________\n",
            "dense_6 (Dense)              (None, 8)                 136       \n",
            "_________________________________________________________________\n",
            "dense_7 (Dense)              (None, 1)                 9         \n",
            "=================================================================\n",
            "Total params: 8,321\n",
            "Trainable params: 8,289\n",
            "Non-trainable params: 32\n",
            "_________________________________________________________________\n"
          ],
          "name": "stdout"
        }
      ]
    },
    {
      "cell_type": "code",
      "metadata": {
        "colab": {
          "base_uri": "https://localhost:8080/"
        },
        "id": "Df8YVhQ5iJDv",
        "outputId": "bad4f721-7b69-4f3f-bc1e-5b4196b4844e"
      },
      "source": [
        "early_stop = EarlyStopping(monitor='loss',patience=6, verbose=1, mode='auto')\r\n",
        "model.fit(train[train_cols], target, batch_size=64, epochs=50, verbose=2, callbacks=[early_stop])"
      ],
      "execution_count": 38,
      "outputs": [
        {
          "output_type": "stream",
          "text": [
            "Epoch 1/50\n",
            "3155/3155 - 6s - loss: 3.3783\n",
            "Epoch 2/50\n",
            "3155/3155 - 5s - loss: 3.3651\n",
            "Epoch 3/50\n",
            "3155/3155 - 6s - loss: 3.3568\n",
            "Epoch 4/50\n",
            "3155/3155 - 5s - loss: 3.3689\n",
            "Epoch 5/50\n",
            "3155/3155 - 5s - loss: 3.3632\n",
            "Epoch 6/50\n",
            "3155/3155 - 5s - loss: 3.3801\n",
            "Epoch 7/50\n",
            "3155/3155 - 5s - loss: 3.3874\n",
            "Epoch 8/50\n",
            "3155/3155 - 5s - loss: 3.3654\n",
            "Epoch 9/50\n",
            "3155/3155 - 6s - loss: 3.3613\n",
            "Epoch 00009: early stopping\n"
          ],
          "name": "stdout"
        },
        {
          "output_type": "execute_result",
          "data": {
            "text/plain": [
              "<tensorflow.python.keras.callbacks.History at 0x7fca2e5976d8>"
            ]
          },
          "metadata": {
            "tags": []
          },
          "execution_count": 38
        }
      ]
    },
    {
      "cell_type": "code",
      "metadata": {
        "id": "h1Kg96JViOZv"
      },
      "source": [
        "ypred = model.predict(test[train_cols])"
      ],
      "execution_count": 39,
      "outputs": []
    },
    {
      "cell_type": "code",
      "metadata": {
        "colab": {
          "base_uri": "https://localhost:8080/",
          "height": 204
        },
        "id": "F36Rpv_WjbC8",
        "outputId": "6696f0c8-06c9-40e3-dc30-077339d2fda0"
      },
      "source": [
        "submission_name = pd.to_datetime(\"today\")\r\n",
        "sub_df9 = pd.DataFrame({\"card_id\":card_id})\r\n",
        "sub_df9[\"target\"] = ypred\r\n",
        "sub_df9.head()"
      ],
      "execution_count": 40,
      "outputs": [
        {
          "output_type": "execute_result",
          "data": {
            "text/html": [
              "<div>\n",
              "<style scoped>\n",
              "    .dataframe tbody tr th:only-of-type {\n",
              "        vertical-align: middle;\n",
              "    }\n",
              "\n",
              "    .dataframe tbody tr th {\n",
              "        vertical-align: top;\n",
              "    }\n",
              "\n",
              "    .dataframe thead th {\n",
              "        text-align: right;\n",
              "    }\n",
              "</style>\n",
              "<table border=\"1\" class=\"dataframe\">\n",
              "  <thead>\n",
              "    <tr style=\"text-align: right;\">\n",
              "      <th></th>\n",
              "      <th>card_id</th>\n",
              "      <th>target</th>\n",
              "    </tr>\n",
              "  </thead>\n",
              "  <tbody>\n",
              "    <tr>\n",
              "      <th>0</th>\n",
              "      <td>C_ID_0ab67a22ab</td>\n",
              "      <td>-0.084905</td>\n",
              "    </tr>\n",
              "    <tr>\n",
              "      <th>1</th>\n",
              "      <td>C_ID_130fd0cbdd</td>\n",
              "      <td>0.359233</td>\n",
              "    </tr>\n",
              "    <tr>\n",
              "      <th>2</th>\n",
              "      <td>C_ID_b709037bc5</td>\n",
              "      <td>0.199742</td>\n",
              "    </tr>\n",
              "    <tr>\n",
              "      <th>3</th>\n",
              "      <td>C_ID_d27d835a9f</td>\n",
              "      <td>-0.317419</td>\n",
              "    </tr>\n",
              "    <tr>\n",
              "      <th>4</th>\n",
              "      <td>C_ID_2b5e3df5c2</td>\n",
              "      <td>0.339378</td>\n",
              "    </tr>\n",
              "  </tbody>\n",
              "</table>\n",
              "</div>"
            ],
            "text/plain": [
              "           card_id    target\n",
              "0  C_ID_0ab67a22ab -0.084905\n",
              "1  C_ID_130fd0cbdd  0.359233\n",
              "2  C_ID_b709037bc5  0.199742\n",
              "3  C_ID_d27d835a9f -0.317419\n",
              "4  C_ID_2b5e3df5c2  0.339378"
            ]
          },
          "metadata": {
            "tags": []
          },
          "execution_count": 40
        }
      ]
    },
    {
      "cell_type": "code",
      "metadata": {
        "colab": {
          "base_uri": "https://localhost:8080/"
        },
        "id": "pN_adS_-1QxR",
        "outputId": "d5f646ce-dfa4-4a20-e335-28564470a6af"
      },
      "source": [
        "sub_df9.to_csv('/content/shallow_mlp(1).csv', index=False)\r\n",
        "!kaggle competitions submit elo-merchant-category-recommendation -f '/content/shallow_mlp(1).csv' -m \"model_15\""
      ],
      "execution_count": 41,
      "outputs": [
        {
          "output_type": "stream",
          "text": [
            "Warning: Looks like you're using an outdated API Version, please consider updating (server 1.5.10 / client 1.5.4)\n",
            "100% 3.21M/3.21M [00:01<00:00, 1.96MB/s]\n",
            "Successfully submitted to Elo Merchant Category Recommendation"
          ],
          "name": "stdout"
        }
      ]
    },
    {
      "cell_type": "markdown",
      "metadata": {
        "id": "Jct2mKEB1jSU"
      },
      "source": [
        "![image.png](data:image/png;base64,iVBORw0KGgoAAAANSUhEUgAAA7MAAABhCAYAAAAEAPbWAAAgAElEQVR4Ae3dz09bV8L/cf6MbLvssstus4y8ynIkr1AXVaRsiJ4FqTTRozyoCu4oKOkgFIha2iRDZkwyJUzyJQY5JIZxPcCYMhiRQAoRgxlSO0FOqKegz1fn/vL1D8BgIGDekajt++Pcc173qMmHc851g/iDAAIIIIAAAggggAACCCCAwDETaDhm9aW6CCCAAAIIIIAAAggggAACCIgwSydAAAEEEEAAAQQQQAABBBA4dgKE2WN3y6gwAggggAACCCCAAAIIIIBAQyabFT8Y0AfoA/QB+gB9gD5AH6AP0AfoA/QB+sBx6gOMzPILDQQQQAABBBBAAAEEEEAAgWMnQJg9dreMCiOAAAIIIIAAAggggAACCBBm6QMIIIAAAggggAACCCCAAALHToAwe+xuGRVGAAEEEEAAAQQQQAABBBAgzNIHEEAAAQQQQAABBBBAAAEEjp0AYfbY3TIqjAACCCCAAAIIIIAAAgggQJilDyCAAAIIIIAAAggggAACCBw7AcLssbtlVBgBBBBAAAEEEEAAgaMjkMm+VSw+psEnI3v6MeeaMviDwG4FCLO7FeN4BBBAAAEEEEAAAQQQ8ARqCbJuADZl8AeB3QoQZncrxvEIIIAAAggggAACCCDgCbiB1Nuwyze1nr/Ly3F4HQkQZuvoZtIUBBBAAAEEEEAAAQQOW6DWMFrr+YfdXq53dAQIs0fnXlATBBBAAAEEEEAAAQSOnUCtYbTW848dGBXeNwHC7L5RUhACCCCAAAIIIIAAAidPoNYwWuv5J0+cFrsChFlXglcEEEAAAQQQQAABBBDYtUCtYbTW83ddYU6oGwHCbN3cShqCAAIIIIAAAggggMDhC9QaRms9//BbzBWPisCHDbO/5pR9874Gi9+0/mZN2V837TJqLq+Gquzq1JJ67+Lc9ekphR6+VNZ/Tv69sm/WtJ63N67PzygUntb4r/6DeI8AAggggEB9CORzac0l55TOOX/xVdGsfC6jxZmUFjNVnJPPKZfLaavi85lFpWYWlVnf4cLrppxtrre+izrtcCl22wJ76xvV9Ke8citzSs6lt+wXpgbV9I3t6pg3/a7izzb96Ajc/FrDaK3nHwECqvCBBD5omF2ODKvhSkIje278S12+EtHZSMYqofby9lyRXZ5YXO+qT958pVBbRI3Da84pm8rOTulcW0QNVyK6nHRLWlO4M6JP//rK3cArAggggAACx19gfU4PvmxUIBDwfhqvxpTetmVpJW40K+g/58sHmtsyiKYV/dIuv+WJ/e8Lr/j1RQ1c9V+/US0/zKk8ZuS0+KRdF6xr9ijlFeC+Ka9TsLlHqS3r5J7H65YCe+0bHRe8vmT6VcX+9Dap7uZg4bhgs7riJb2umr6xYx0zXt/z93H7faV+tKXGoe+oNYzWev6hN5gLHhkBwuwHuRV7C7PZ4ZgaQnENOiOu8wNRnQpF1RQe1emiMCutx0eLjv0gzeSiCCCAAAII7JtAXslvgwo0dSvhZsyVqFqDAV16XBIsfNfMjbQpEGjRg59z9tZcUt3nAwp+m6wQQqX0k1YFz5/X+UBAxWE2r9Sd80XXz/yjWxcCQXUn/XF2UQ+agwo2d6nnZrMCgfIQkn58SYFgqwa8OqXU07R1nXzN4W1Fgb31jbn7F4rvQyah7qaALtyf813FDpjBrwa0aHWhnBYftSoYuKSBf7uHVdM3qqtj+cjsnB78b0DBPybk9GD3okfqtdYwWuv5RwqDyhyqwMGH2XxGI5EJNXVGdfabMd2aeuM10BtJfbOkcHhUZ9tHFRpeUtaZNWwduJnT/OikLn4zrLPfxHW9aH9xKPTK867wm5bH7HNPd8bVObrilb08NqFQeEbz7rGby+oPjyk0suJuUXZy0pquO+3/O8rb63vzZkGd4TH1z7/RyKO4Gp12rGtT2YlJq+2N309qZNVtWHG97evMaHo7B62p/2ZEDd/Pyv3F7fhAQoMrv0nLUzpbEmb1ZkbnrkR07qk7iuurr/+tuWZfXI3XhnUuPKURU5735zctT07p+vcxnTZtiiw4fr9penhMob4XWvaOlbRgpjdPaLBA6N/LewQQQAABBGoQyCszm1Tylf+f9M5I1p3ysU/3Qqk7AQW+jMrNv2Z7pW3W8asxtQaD6ppIqKc0zOYSai8LrnmlZ0rrNKeBu0llNqTMk5aKYTb3KqnkbKYoTG9ZJ7chvG4jsJe+Mafe8wGdLwquzj0Ldsv7/cRcr84XBVdTjZwWk0nNrTr/QKyqb+yljlJ+pkfnAxfU68/X20h8qF21htFaz/9Q7ea6H17ggMNsRuEbEZ26FtP14RcK98X0qS9g2eEzqjMdw2oyQbI7qlNX/NNjnQAXGlbToxn1R+I6E4ro0/CCE+iKQ2FxmH2vkbtDaghF1Xh3TKHwqHXuR92z9nrTmTF9ciWqzpfOTbA+R9TQMeUEtE2N/Cmihs7p4vWple6ZEyY/bRu2rnXxpt2O33UOy4ToUDius6GIGtrGNG7l2Ur1HtbZG05d78Z02rTz7ksvuGrzpS6aKdUDr8trUCnMalmd1yI6FV4oP97dsjSl34Ui+qjD1HFMTR0RNYSGdWvJDt3L0WFr5Lexb0aDwxNqbIvo1M0Zy2M9Edcp4+crfvyvQ2q46rbRvQivCCCAAAIIHJCANTIbVHvcH3CLr5VPdisYaNGA+4vWdXsUtHj0zZyTU+KPQQVvmhHbVHmYnelRINCl5HpOiyMP1BvuVe/jhNLub5iLL2t92irMlh2a26pOZUeyoVqBHfvGnHqCATU/Kh7Vz8XbrZH86Kp9IesefjGg9EZGyce91n1/8GSueJR0D33DKn3HOjqjwkd8VNa0pdYwWuv51XYLjqs/gYMNs79Mq/FKRBfH3NE+s8bzhcad0T83zHa+dEcs8xq8HVHDtUl7xDS/punJWY074crwzw8MqyGU0Lh1LyqFQmcN7sKkzlyJqCnue8DUtAmwQwpNm+u9UuhqYb3t/MOoGr6O6syVmPqtwePi/dveeidMFtay2mtWvXaYkyfiargyrFvWUGaleg/psvdrQHuacFFYdK5xccK18tWoYph1fhHghXPf8dZbx/rrSc27RW4u61ZnVGf6zVrbN9a624bbLwonri5pcMb53fbmS10ORXTmkfuvA9vrE9bpFrx4hwACCCBwIAKZeJeamz9XMHBB7UOLRSOclS6YfmrWrwb1efMFNQY+16XvE0Ujteac/ESXgsF2Jd6aT+Vh1g6mLWr9qlHN17rVG+5Sy2cBBZq2Xuu6Y5idfaDmL5w63UkWB6RKDWHbjgLV9w132m+PUu7vQpxfdJg1qj0z9qWsEfMvWtXa1KiWm73q/b5NzcGAgl9FvbXau+0b1dbxuIzKGqlaw2it5+/YMTigbgUONszKHpk1o31NfVPqn1nxnrhrRItHUm3j8m2/af3VKw2OzeqWNR3WPOzIfWhUpVBo7zOjig1XRr31pXbpduA6/dAkyk2N3I2owRppzOhWh5mS+9IazWyK56WXkzrtH7ndrgtUCJNW2f4gmUzsEGbdNjkX+nVWTb5R7IpTid06Vbi+2VVWB/d463XBCqMVR3qd46yRWTMa/P2Ebo2+0nzO/aWEOWBT4/eG1GDCsPnojnT7RmqdYnhBAAEEEEBgXwXyq3NKJmMauNmiRhNoSx/G47uaCQTNwaAufRtVIplU4nGX9bn1iW9Ebj2l7vNBtT51JyNvFWYDuuQfyVtPqqvC6J57+R3D7NtFJZMJRcMmIAV16X6lh0m5pfFajcBu+obMg52aAgoEP1fzF836PHhBXY971RJoUdT5Xb0VZgNm6rlvzdm/B3QpEPC22fe5+r5RXR2Pz6isuS+1htFaz6+mb3BMfQoccJi1nlGukciYzrUP6WMz1TYU1eWkPVpaHlxLAu7ma3t0MDSkM9/EFeqb0q270erCbMUnJb/WrfbC1FvrIUkm8C6b9aX2qKmZKnvq7kvNm/PNlNlq7nuFMFkWJHcbZt1pxc6Tmvc/zBb/IqByM+01s6FvhnX6D/YTk0+HfVOffQHWmmLsBtvKhbEVAQQQQACBfReYC59XINijyksK0xr4ovzBSvZDodqVsEbknIf3/E+vUm/dr0VJqNusmX206H21jhm5NQ+SckOO3ZC8kjcDCnzrfZ1AUft2DLO+o+06tSrm5mnfPt7uTWD7vuGUuZHToln3nExp0YzK/6tbgYDbN6T0I/MQr+6SJ1Lb/cp98Nhe+obboq3qaI/K+h8y5Z5xNF9rDaO1nn80VajVYQgcQpjNa92bxvraGgF116XuGGbdALhUoLCmGVcxMqtkomxNp5xpz95DkZzRz4t/ihemNpvzrsbVdDOiT+5V+dU2+xJm3SnITlutkeGILk85n1en9Tv/SG2BpPIDoGSPNvsfGOU/Rc7+U7dfFNblKq/lqRcanHcfGvWb1t3v8NWmPcXbmyptSrPX5Z6NzBRN2S6+Dp8QQAABBBDYB4H8omLhXg3MuHNC7TLTQ+YhS91KblS6hj3CWrou0g4sLbLXRToPkfJ9dU/R16K4D4+yRuPOlzyIxwnLdytH6cphNqNkf69644vFFbZC1PEJL8WV/8Cf9tQ3ckqZNbBF98H5xcbVmDfl215z3aaYNf3caWc+qa5AoDCSX03f2FUdnVFZa/32B7at8vJPYnFvdNYNprt9jcXHqrwahyFQEDjYMOusW/3dwLIdaDMLCn0d0SnnIUw7hllr5G9IFxMmXG1qfWlWF63vVHWn5BaPLhaV53wn66kbkxr/5b3W11bUf9s8EGpUg97fg8660isReWs9nYBrf2+rm8ILYBXf7UuYjeijzkmNr6wpu/JKnTf8D4wyV91mTWqF60v2NGJ7SrVd6/WpMZ29FlOns0g2+zSmU1eGdNE85fnNmuZH474HdK2o09yrG1OaN4E2v6aRe1HLz15TbJc5/8hsi+jUlZjCv1TUYSMCCCCAAAL7IGA/oCnwWZsezKSVy+WUTvboklm/6P2jP6PYH5vV4q0/ddZFBlu9c3Ir9tevBJp6txjNNVUtn2bsPiAq0NSu6FxGuVxaybuXrHW7Wz1ptnKYleyvhGlW98iiMrmcMnNRtZvprr8f8NZh7gPYCSpiL33Dfdr0Bec+pJV6bNZWX1DPrG9KsebUa7426X97lFzJKZeZU9R8N623vtowO9fftm9UU0f7ltkB+nj9YiOTfSsTRncbYN3jzbmmDP4gsFuBgw2zZjTv6aj1ZF4TDs3PRx0TGnfCZFH4dGpevO29RsJRfeSce+paXJ33zFrYKsKsKW91Vpe/tq9rrn3q2qjCC/51n+605oguJ93g6gbc0vW229BWCJN7mWZ8a7RgZera73vwVdkaVX91KlzfXvM7pJDzAANzeHZ01Hpa9EVv3cd7TT+K2dO/HeOzfa8KI7VLM2q6VvAza5+vT/seqGUKda5d1VOf/XXmPQIIIIAAArsVWF9U9OYlNXqjqI26dDOmtDcqu6gHJnj8X+HhPNpIK1Z0TlCfX3mgOe8X25UqUSnMSjLXv9GsoHv9z1rU+6+tC9oqzJrwkwq36vNgQPYocDV1qlRPtnkCe+kbymnuB7Pu2rkPn11SV6X1129T6v2y0blXAes7hKOv/IG3yr6xYx1Na9Ia+L3/FzReC3mDAAIVBA44zLpX/E3rb9aU9aasuturfP01p+ybkhBV5anWYbk1ZYseXrSbkwuB1w3khVc3VO+uvNKjiwJ8/r2yayX/g3RPeGme0Fz8dTjurtJX++nMzsOZSneWft7MWyOz61tcVsZvqzqVlsVnBBBAAAEEDlwgb43MbvXX1laXz+dyynvBd6ujqti+Ya6/26tXLnff6lS5+BO4dS99o8r7mc8pt81XMVnYVfWNvdTxBN5KmoxAFQKHFGarqMlRPsQK02tW4DPTcQs/NQRsX3uLwqxve/nb9xr8PqJP/N8/W36QlJtVU2hIl6f25y/aSpdgGwIIIIAAAggggAACCCDwIQUIsx9S37n2spmKfW2iuicnm5HbnUapax3JPgImVAEBBBBAAAEEEEAAAQQQ2E6AMLudDvsQQAABBBBAAAEEEEAAAQSOpABh9kjeFiqFAAIIIIAAAggggAACCCCwnQBhdjsd9iGAAAIIIIAAAggggAACCBxJAcLskbwtVAoBBBBAAAEEEEAAAQQQQGA7AcLsdjrsQwABBBBAAAEEEEAAAQQQOJIChNkjeVuoFAIIIIAAAggggAACCCCAwHYChNntdNiHAAIIIIAAAggggAACCCBwJAUIs0fytlApBBBAAAEEEEAAAQQQQACB7QQONsxmp9T33TMt5Lerwg77/pvXxuYOxxzK7lVN9U9pdb+utTClxmsJjfy6XwWWl7P8dFRNTzPlO/ZzS25N6/77m3+vbO437wrr8VGdapvQtLeFNwgggAACCCCAAAIIIIBA7QIHG2aV11r2XU21TI91aHylpiL26eS0xjvGld6X0jY1fm9In1wd0sWEPwnuS+FeIcuRYZ2NHGyYHbkb0eWkd0kpmVDD3ZeFDfmMphdyhc+8QwABBBBAAAEEEEAAAQT2QeCAw+yaFv65oDVT0XxaqZm0vOhW+vldWs9/Sir5z5QW1jaspq39nNSzv3Xo4dOkkv5z3YabMn7OKv/LvKb+mdTU89VC+eaYzXdKP59S8p9JpRbXnH0bys4ltZD1ClE6ldTCW/fzOy399Fyr/3U/u69OmP1vVvOmnj89V9rN6e+WNPXTktyP5oz8SkpTS/4tbjmmXq8UaotrMDmmT27OyKpKfknh8LTG/SO18zMKRZe0Lml+ZEz9C4Uyij5v5jQ/OqlQeEzXIwvKOiPZVpgdWNL08IS1r3Nsq2C7ov5HC8quvlRneEyhvmlNv/EPh7/X/NiUrpt9j2Y17+wzdTj3dURnvjHbF5RdmFHom6gavh5VKDypkTeS3iyo0+yz2jejabfYX8y1ZjTvNmn5hVV301ap8vUku57zL6Z13S3fPZ9XBBBAAAEEEEAAAQQQOFECBxxmfaOZuecaePy8EPj8n9cX9KzvmZ6/fqf82oJ+vPdQqbdSPrukqScdevKvJS39553siOu7P6aMe30a/SmttXdZzcfvKzyWdo5b0/OhPj2bsfctTDxUn7Mv//MzhSedCcP5BT3r6FBfyorckinzbyk7gPsuJZm2PNTA300Qfqe1lZSe9Q3quXXamlJ/s+tsn/JOzx/7PxcVZI1efnT7hdb1SqGrMYV/MfvzGrwd8Y3UbsqMerojt6UjoIXPmxr/a1Rnwi80/yaj8YfDssuWTJj9pG1U18eWNT8/q8vtEZ0bddpZVKWXunw1qt/dntDIq4ymRxM684e4Bq0B1bzGw0P6tHtSI6/WND+W0Jm2MY1vStn5F7p+M6LG/hcanHqt9cyyBvtjarg5ocGxBS2bYL48pbMdU1rWmvpvDik0Y184+zSmhitRdTqDuKauZx6ZIfitryeZeg7pbPek+t3yi9rBBwQQQAABBBBAAAEEEDgpAkcjzP5nXN/FFgqjqu7onaRtpxmb4Pn/nheCpwmmf0la61o3ln7U7fiSLwD7Auf6vJ7024F149WoBiaTeuYEbRN0vWBb1AtMmO3TlDeiK5lzvxuzJx6/ez6ghzNOUHyb0sOKgdgUaIfWy0m7kfMPo4WpwMmEF0T16wtdDMU16IzUFsKrXanC54zCN6K6PuuuU/3NXML6Y4/MvrY/mP9OxIunAHt7XuryFTdU2xvnH0WdcGmqnNe6d09e61b7sG4t28cV6uEUVjrN2AuzUnY4ptMPzYl5DX4/rNBfY07bTdAtBNutr2fqGdeIVxevAbxBAAEEEEAAAQQQQACBEyZwNMKs1rQw0qfbf+7Tk79Paf4XbzLyzmHWP9prjZ7a61pNuBx4XjzNtxCMzcjpgJ7nTFg2I6jms3lQ1YaW/t5njQqX9wMTZn8sXjNbNLpcCMhrMw/15GWhDUVl/TqrpisxXU+80ODYCw0OjOrjryft6bZm+vHVUSvArifi+vTeK+/U0tDo/7w+PaGzoYg+bR/VxUcvtOwPs/41s6VB0yv9pS5fc+rgbvMfu7qgW31xNV6L6nTbkD4O7S3MeqO0my912bTZBF0zzdqY+K+/5fVMmE1oxK0jrwgggAACCCCAAAIIIHBiBY5ImHX8Nzf0Lrug8b99px+X7EnFhQBa4R75w6S1uzCt2Qqzs8VTatOJ7zT+H7scEzif/byk5N/skVxz/Ojiksbv2Z/Lr2bKLnky89uU+p66I8p5zUdNEDYjwE80by/+LCvGjE5+ciNurWE1a1xD4bga26LqtNbD2g+GaoqvafD2kELeAlNZU479D1ryh1n7IptaX1vRyMOYPnHCsTUyW22YLQmJ1lOIw6ZSS7reNqzrMxnnqcUZ3erYY5jVijq/jqk/MaYzfzVB3ZQ1qv54Qp9an01LtrseYbasQ7EBAQQQQAABBBBAAIETKnB4YfbdvAb/8qOWnFHDtZkBdTijqhv/mdKoL3hm/9WnwTl7VHV14js9WyxbLWvfrm3CrMxU33vjSrsPclp7rsE7P8rJyDL7+/4S1n1nmrB9/H09/OdWX75jwmyHBrx6biidCBeNwJppx+HHA+r7u396s79nrSncWRxSzV5rbasb5l5O6nTHsM76RyoljYcjOmutKTUPVXqhi1fdpwivKNw95qxvlZSb1blQQuNOuUVPM/aPtvqrZdaiXhnSxYn39tbN17p1w12vWzK1d3Va53wjs6Ze50ad88zZUwmd6p61HlplFeabZmw+m2nV5inO/mnWn7ZFfcF9u+sRZu0bxH8RQAABBBBAAAEEEEDg8MKsNrT604Bud9y2phOPP58qPBDqv6uaetyjnr4+9fXd1/0nz+U80FjKpjRw57Z6/u6OgPpu2nZhVtLaz6Pq+/N99fX3qefPA5p67Q/Fa0r1d2j0lbttVcm/fLfN1wDZ04yfzz1Rn6nnvR71jThPanartLGkH78rjCq7m71XE+yujllB09tm3vwyrUaz3VoLakYvI4X1qu6BSzNquhbRqVBEH3dO69af3DC7qfmnozr9hyGdvhbVp1ejupywR6R3NzI7qsvhqFWGKets3ysnkG5qPhrTx1b5Qzp9M6GLvjWzmp+0pjh/fHvWfirz5rI6OyL66A9x9ZunGZeEWZmwfsWeSm01bWZMn4QSvnWw212PMOt2B14RQAABBBBAAAEEEDjpAgcbZjeWNOo8kKkq6P/mlXezZVUnVHPQhvL7XejGFvU0YfZOrd9Fa8JsYRpvNS20jtnMK/vGN0Ja9YnmQF9I/DXnTCcuKSD/Xtm1LdYBlxy6Lx8P+3r7UmkKQQABBBBAAAEEEEAAgcMSONAwuxB/WPJE4cNq1uFfZ23luVKx+3rofsXPHqqQnZnVrXBUH33vm6a7h3J2f4ovzO7+ZM5AAAEEEEAAAQQQQAABBA5d4EDD7OrSqt6diK9R2dC7/yxp6XXx05N3ezfN97YOTq4oe+hma5oeW7anCe+20hyPAAIIIIAAAggggAACCHwAgQMNsx+gPVwSAQQQQAABBBBAAAEEEEDgBAgQZk/ATaaJCCCAAAIIIIAAAggggEC9CRBm6+2O0h4EEEAAAQQQQAABBBBA4AQIEGZPwE2miQgggAACCCCAAAIIIIBAvQkQZuvtjtIeBBBAAAEEEEAAAQQQQOAECBBmT8BNpokIIIAAAggggAACCCCAQL0JEGbr7Y7SHgQQQAABBBBAAAEEEEDgBAgQZk/ATaaJCCCAAAIIIIAAAggggEC9CRBm6+2O0h4EEEAAAQQQQAABBBBA4AQIEGZPwE2miQgggAACCCCAAAIIIIBAvQkQZuvtjtIeBBBAAAEEEEAAAQQQQOAECBBmT8BNpokIIIAAAggggAACCCCAQL0JEGbr7Y7SHgQQQAABBBBAAAEEEEDgBAgQZk/ATaaJCCCAAAIIIIAAAggggEC9CdRJmM0rl8tXf2/Wc8qtV3l4pWPNtlzJT7XlVXlZDkMAAQQQQAABBBBAAAEEENhaoD7C7GpULYEepbZuZ9Ge1J2AAnd2OjqnVLhFjYHSY/NK3gwoYLb7f3Ysr6gKfEAAAQQQQAABBBBAAAEEEKhBgDBbCS+XVE9zo5pvxDTwbWmYzSj6ZUA9M5VOZBsCCCCAAAIIIIAAAggggMBhCBxwmE0rER5QKpNR8od2tXzZrt6RReWVV/ofA+q62qL2cEyLuZKm5hYV+6FLbV+0qeuHSvvTSjx29j9OKbdSYWR2mzJ2HJnNJJWYtStVfmxKPYEWRVdL6sxHBBBAAAEEEEAAAQQQQACBQxM44DBrgl+zWq526cE/kkr+44Fag0G1Xu1S1+OEksmEBjouKPBlVBm3yasxtX12Qe3W/qQSj9t1IdiqmBse11PqaQrq0t2Ykkl7f8tXrWr2TzMuKSNmpgt/1q2ks661PKC6Fy9/LTs2l1B7oF3RmZgehHvV+0NUKa/y5eezBQEEEEAAAQQQQAABBBBAYP8FDiHMBtQ1UXg4U3qoRYE/JuQNxmZiag10KekckroT1PnwXFFL048uKfhtUuaQ9ONLCt6037sHmf0BX5idC5/XpUdpd7f1am17bG8rC6hFRxZ/KDt2JarWzxrVcvOBov9IKHrHrKu9oJ6ZQhuLS+ATAggggAACCCCAAAIIIIDAfgscSpj1ry/NPGkpefiSf9puWgNfBNUzW9LMuV6dP9+rOdkPX2qPe1HYPvDfA76RWVPG5+p6nLRGbs3orfmJfd+sgBOCywJqyeX8H6s5NhdvV/D3AyqOz/5SeI8AAggggAACCCCAAAIIILCfAkcszM6pJ9ii6EpJE701sRnFvioe6bWO9PabT6aM82r9tle9Zhqw/8esr5VUTUB1a1DVsdbTlNuVKMnYbhm8IoAAAggggAACCCCAAAII7K/AEQuzOSX+GFDpyGt+okuBr2LWuqxZ8rQAAALSSURBVNq5u0Gdv188Ddna700z3iLw+tyqCqjO8aXH5n+OqdcJxV6RRSPD3lbeIIAAAggggAACCCCAAAIIHJDAEQuzkgmmwaYepdxRzpz9wCcv4M71Wg+E8kZvzf7moIJemK1QxkZa0a8a1frEflJTaUDdzrbsWGsU9oJ6kk4F86bsoC7cNZOg+YMAAggggAACCCCAAAIIIHAYAkcuzEp5LT7pUnMwoMbPGhUIfq62x+brfAp/0nFn/7nPFfysTbF/lX41j68Mc0ygUZduJrw1rWUBtVB02btKx+ZmH6jls4ACAfNTXHZZAWxAAAEEEEAAAQQQQAABBBDYd4EDDrO11DevXC5XFGKLS9tpvznaOWaj+Ez/JyusWqHUDafO652U/7CK7/OmftuUXfEkNiKAAAIIIIAAAggggAACCNQscITDbM1towAEEEAAAQQQQAABBBBAAIE6FSDM1umNpVkIIIAAAggggAACCCCAQD0LEGbr+e7SNgQQQAABBBBAAAEEEECgTgUIs3V6Y2kWAggggAACCCCAAAIIIFDPAoTZer67tA0BBBBAAAEEEEAAAQQQqFMBwmyd3liahQACCCCAAAIIIIAAAgjUswBhtp7vLm1DAAEEEEAAAQQQQAABBOpUgDBbpzeWZiGAAAIIIIAAAggggAAC9SxAmK3nu0vbEEAAAQQQQAABBBBAAIE6FSDM1umNpVkIIIAAAggggAACCCCAQD0LEGbr+e7SNgQQQAABBBBAAAEEEECgTgUIs3V6Y2kWAggggAACCCCAAAIIIFDPAoTZer67tA0BBBBAAAEEEEAAAQQQqFMBwmyd3liahQACCCCAAAIIIIAAAgjUswBhtp7vLm1DAAEEEEAAAQQQQAABBOpUoCGTzYofDOgD9AH6AH2APkAfoA/QB+gD9AH6AH3gOPUBRmbr9LcUNAsBBBBAAAEEEEAAAQQQqGeB/w8vjgt5FqMUuQAAAABJRU5ErkJggg==)"
      ]
    },
    {
      "cell_type": "markdown",
      "metadata": {
        "id": "NDm_SkLV0vrD"
      },
      "source": [
        "Training a deep mlp with 5 layers and dropouts"
      ]
    },
    {
      "cell_type": "code",
      "metadata": {
        "id": "_UtxLyHqly_S"
      },
      "source": [
        "model = Sequential()\r\n",
        "model.add(Dense(128, activation='relu', input_shape=(train[train_cols].shape[1],)))\r\n",
        "model.add(Dense(64, activation='relu'))\r\n",
        "model.add(Dropout(0.5))\r\n",
        "model.add(Dense(32, activation='relu'))\r\n",
        "model.add(Dropout(0.5))\r\n",
        "model.add(Dense(16, activation='relu'))\r\n",
        "model.add(BatchNormalization())\r\n",
        "model.add(Dense(8, activation='relu'))\r\n",
        "model.add(Dense(1))\r\n",
        "model.compile(loss=rmse, optimizer=\"adam\")"
      ],
      "execution_count": 45,
      "outputs": []
    },
    {
      "cell_type": "code",
      "metadata": {
        "colab": {
          "base_uri": "https://localhost:8080/"
        },
        "id": "iMpf4FZY2oFx",
        "outputId": "01c0e26c-6fa1-4aa2-fbc4-cc876d32abc0"
      },
      "source": [
        "model.summary()"
      ],
      "execution_count": 46,
      "outputs": [
        {
          "output_type": "stream",
          "text": [
            "Model: \"sequential_5\"\n",
            "_________________________________________________________________\n",
            "Layer (type)                 Output Shape              Param #   \n",
            "=================================================================\n",
            "dense_20 (Dense)             (None, 128)               30336     \n",
            "_________________________________________________________________\n",
            "dense_21 (Dense)             (None, 64)                8256      \n",
            "_________________________________________________________________\n",
            "dropout_4 (Dropout)          (None, 64)                0         \n",
            "_________________________________________________________________\n",
            "dense_22 (Dense)             (None, 32)                2080      \n",
            "_________________________________________________________________\n",
            "dropout_5 (Dropout)          (None, 32)                0         \n",
            "_________________________________________________________________\n",
            "dense_23 (Dense)             (None, 16)                528       \n",
            "_________________________________________________________________\n",
            "batch_normalization_4 (Batch (None, 16)                64        \n",
            "_________________________________________________________________\n",
            "dense_24 (Dense)             (None, 8)                 136       \n",
            "_________________________________________________________________\n",
            "dense_25 (Dense)             (None, 1)                 9         \n",
            "=================================================================\n",
            "Total params: 41,409\n",
            "Trainable params: 41,377\n",
            "Non-trainable params: 32\n",
            "_________________________________________________________________\n"
          ],
          "name": "stdout"
        }
      ]
    },
    {
      "cell_type": "code",
      "metadata": {
        "colab": {
          "base_uri": "https://localhost:8080/"
        },
        "id": "52Uuzc3x3PuP",
        "outputId": "08a4fbd9-872c-4824-8051-8761f09e50cd"
      },
      "source": [
        "early_stop = EarlyStopping(monitor='loss',patience=6, verbose=1, mode='auto')\r\n",
        "model.fit(train[train_cols], target, batch_size=64, epochs=50, verbose=2, callbacks=[early_stop])"
      ],
      "execution_count": 47,
      "outputs": [
        {
          "output_type": "stream",
          "text": [
            "Epoch 1/50\n",
            "3155/3155 - 7s - loss: 3.3967\n",
            "Epoch 2/50\n",
            "3155/3155 - 6s - loss: 3.3927\n",
            "Epoch 3/50\n",
            "3155/3155 - 6s - loss: 3.3788\n",
            "Epoch 4/50\n",
            "3155/3155 - 6s - loss: 3.3884\n",
            "Epoch 5/50\n",
            "3155/3155 - 6s - loss: 3.3864\n",
            "Epoch 6/50\n",
            "3155/3155 - 6s - loss: 3.3787\n",
            "Epoch 7/50\n",
            "3155/3155 - 6s - loss: 3.3635\n",
            "Epoch 8/50\n",
            "3155/3155 - 6s - loss: 3.3935\n",
            "Epoch 9/50\n",
            "3155/3155 - 6s - loss: 3.3718\n",
            "Epoch 10/50\n",
            "3155/3155 - 6s - loss: 3.3736\n",
            "Epoch 11/50\n",
            "3155/3155 - 6s - loss: 3.3677\n",
            "Epoch 12/50\n",
            "3155/3155 - 6s - loss: 3.3770\n",
            "Epoch 13/50\n",
            "3155/3155 - 6s - loss: 3.3814\n",
            "Epoch 00013: early stopping\n"
          ],
          "name": "stdout"
        },
        {
          "output_type": "execute_result",
          "data": {
            "text/plain": [
              "<tensorflow.python.keras.callbacks.History at 0x7fca2e37d048>"
            ]
          },
          "metadata": {
            "tags": []
          },
          "execution_count": 47
        }
      ]
    },
    {
      "cell_type": "code",
      "metadata": {
        "id": "0my9kbfU3Tt4"
      },
      "source": [
        "ypred = model.predict(test[train_cols])"
      ],
      "execution_count": 48,
      "outputs": []
    },
    {
      "cell_type": "code",
      "metadata": {
        "colab": {
          "base_uri": "https://localhost:8080/",
          "height": 204
        },
        "id": "HUklwKwK3tbU",
        "outputId": "1a14c47a-a0c8-4a48-924f-fd26c47113b4"
      },
      "source": [
        "submission_name = pd.to_datetime(\"today\")\r\n",
        "sub_df10 = pd.DataFrame({\"card_id\":card_id})\r\n",
        "sub_df10[\"target\"] = ypred\r\n",
        "sub_df10.head()"
      ],
      "execution_count": 49,
      "outputs": [
        {
          "output_type": "execute_result",
          "data": {
            "text/html": [
              "<div>\n",
              "<style scoped>\n",
              "    .dataframe tbody tr th:only-of-type {\n",
              "        vertical-align: middle;\n",
              "    }\n",
              "\n",
              "    .dataframe tbody tr th {\n",
              "        vertical-align: top;\n",
              "    }\n",
              "\n",
              "    .dataframe thead th {\n",
              "        text-align: right;\n",
              "    }\n",
              "</style>\n",
              "<table border=\"1\" class=\"dataframe\">\n",
              "  <thead>\n",
              "    <tr style=\"text-align: right;\">\n",
              "      <th></th>\n",
              "      <th>card_id</th>\n",
              "      <th>target</th>\n",
              "    </tr>\n",
              "  </thead>\n",
              "  <tbody>\n",
              "    <tr>\n",
              "      <th>0</th>\n",
              "      <td>C_ID_0ab67a22ab</td>\n",
              "      <td>-0.087942</td>\n",
              "    </tr>\n",
              "    <tr>\n",
              "      <th>1</th>\n",
              "      <td>C_ID_130fd0cbdd</td>\n",
              "      <td>-0.455512</td>\n",
              "    </tr>\n",
              "    <tr>\n",
              "      <th>2</th>\n",
              "      <td>C_ID_b709037bc5</td>\n",
              "      <td>-0.062622</td>\n",
              "    </tr>\n",
              "    <tr>\n",
              "      <th>3</th>\n",
              "      <td>C_ID_d27d835a9f</td>\n",
              "      <td>-0.300122</td>\n",
              "    </tr>\n",
              "    <tr>\n",
              "      <th>4</th>\n",
              "      <td>C_ID_2b5e3df5c2</td>\n",
              "      <td>-0.365675</td>\n",
              "    </tr>\n",
              "  </tbody>\n",
              "</table>\n",
              "</div>"
            ],
            "text/plain": [
              "           card_id    target\n",
              "0  C_ID_0ab67a22ab -0.087942\n",
              "1  C_ID_130fd0cbdd -0.455512\n",
              "2  C_ID_b709037bc5 -0.062622\n",
              "3  C_ID_d27d835a9f -0.300122\n",
              "4  C_ID_2b5e3df5c2 -0.365675"
            ]
          },
          "metadata": {
            "tags": []
          },
          "execution_count": 49
        }
      ]
    },
    {
      "cell_type": "code",
      "metadata": {
        "colab": {
          "base_uri": "https://localhost:8080/"
        },
        "id": "hvpqQwqv3yPX",
        "outputId": "3bd3a906-f64b-41f2-a0eb-207028ccf064"
      },
      "source": [
        "sub_df10.to_csv('/content/deep_mlp.csv', index=False)\r\n",
        "!kaggle competitions submit elo-merchant-category-recommendation -f '/content/deep_mlp.csv' -m \"model_16\""
      ],
      "execution_count": 50,
      "outputs": [
        {
          "output_type": "stream",
          "text": [
            "Warning: Looks like you're using an outdated API Version, please consider updating (server 1.5.10 / client 1.5.4)\n",
            "100% 3.24M/3.24M [00:01<00:00, 2.49MB/s]\n",
            "Successfully submitted to Elo Merchant Category Recommendation"
          ],
          "name": "stdout"
        }
      ]
    },
    {
      "cell_type": "markdown",
      "metadata": {
        "id": "8REOIcyc4C2W"
      },
      "source": [
        "![image.png](data:image/png;base64,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)"
      ]
    },
    {
      "cell_type": "markdown",
      "metadata": {
        "id": "3ElG1ghy4EGC"
      },
      "source": [
        "Score improved a bit as compared to shallow mlp but it is still less than our baysian stack classifier."
      ]
    }
  ]
}